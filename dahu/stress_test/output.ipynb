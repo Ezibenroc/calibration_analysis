{
 "cells": [
  {
   "cell_type": "code",
   "execution_count": 1,
   "metadata": {
    "papermill": {
     "duration": 0.031522,
     "end_time": "2019-05-10T15:20:49.831134",
     "exception": false,
     "start_time": "2019-05-10T15:20:49.799612",
     "status": "completed"
    },
    "tags": [
     "parameters"
    ]
   },
   "outputs": [],
   "source": [
    "foo = ['hello', 'world']"
   ]
  },
  {
   "cell_type": "code",
   "execution_count": 2,
   "metadata": {
    "papermill": {
     "duration": 0.009896,
     "end_time": "2019-05-10T15:20:49.847398",
     "exception": false,
     "start_time": "2019-05-10T15:20:49.837502",
     "status": "completed"
    },
    "tags": [
     "injected-parameters"
    ]
   },
   "outputs": [],
   "source": [
    "# Parameters\n",
    "my_list = [\"abc\", \"def\", \"ghi\"]\n"
   ]
  },
  {
   "cell_type": "code",
   "execution_count": 3,
   "metadata": {
    "papermill": {
     "duration": 0.011275,
     "end_time": "2019-05-10T15:20:49.861846",
     "exception": false,
     "start_time": "2019-05-10T15:20:49.850571",
     "status": "completed"
    },
    "tags": []
   },
   "outputs": [
    {
     "name": "stdout",
     "output_type": "stream",
     "text": [
      "['hello', 'world']\n"
     ]
    }
   ],
   "source": [
    "print(foo)"
   ]
  },
  {
   "cell_type": "markdown",
   "metadata": {
    "papermill": {
     "duration": 0.002811,
     "end_time": "2019-05-10T15:20:49.868486",
     "exception": false,
     "start_time": "2019-05-10T15:20:49.865675",
     "status": "completed"
    },
    "tags": []
   },
   "source": [
    "Something like this would be nice, but not possible apparently. The only way to define a list is to use a parameter file.\n",
    "\n",
    "```shell\n",
    "papermill input.ipynb output.ipynb -p foo data/1/*\n",
    "papermill input.ipynb output.ipynb -p foo file1.zip file2.zip file3.zip\n",
    "```"
   ]
  },
  {
   "cell_type": "code",
   "execution_count": null,
   "metadata": {
    "papermill": {
     "duration": 0.002915,
     "end_time": "2019-05-10T15:20:49.874387",
     "exception": false,
     "start_time": "2019-05-10T15:20:49.871472",
     "status": "completed"
    },
    "tags": []
   },
   "outputs": [],
   "source": []
  }
 ],
 "metadata": {
  "celltoolbar": "Tags",
  "kernelspec": {
   "display_name": "Python 3",
   "language": "python",
   "name": "python3"
  },
  "language_info": {
   "codemirror_mode": {
    "name": "ipython",
    "version": 3
   },
   "file_extension": ".py",
   "mimetype": "text/x-python",
   "name": "python",
   "nbconvert_exporter": "python",
   "pygments_lexer": "ipython3",
   "version": "3.6.8"
  },
  "papermill": {
   "duration": 2.254435,
   "end_time": "2019-05-10T15:20:50.711967",
   "environment_variables": {},
   "exception": null,
   "input_path": "papermill_test.ipynb",
   "output_path": "output.ipynb",
   "parameters": {
    "my_list": [
     "abc",
     "def",
     "ghi"
    ]
   },
   "start_time": "2019-05-10T15:20:48.457532",
   "version": "1.0.0"
  }
 },
 "nbformat": 4,
 "nbformat_minor": 2
}