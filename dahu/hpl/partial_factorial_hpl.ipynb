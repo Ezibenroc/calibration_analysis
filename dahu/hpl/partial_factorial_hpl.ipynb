{
 "cells": [
  {
   "cell_type": "markdown",
   "metadata": {},
   "source": [
    "# Factorial experiment for HPL on Dahu"
   ]
  },
  {
   "cell_type": "code",
   "execution_count": 1,
   "metadata": {},
   "outputs": [
    {
     "name": "stdout",
     "output_type": "stream",
     "text": [
      "80\n"
     ]
    },
    {
     "data": {
      "text/html": [
       "<div>\n",
       "<style scoped>\n",
       "    .dataframe tbody tr th:only-of-type {\n",
       "        vertical-align: middle;\n",
       "    }\n",
       "\n",
       "    .dataframe tbody tr th {\n",
       "        vertical-align: top;\n",
       "    }\n",
       "\n",
       "    .dataframe thead th {\n",
       "        text-align: right;\n",
       "    }\n",
       "</style>\n",
       "<table border=\"1\" class=\"dataframe\">\n",
       "  <thead>\n",
       "    <tr style=\"text-align: right;\">\n",
       "      <th></th>\n",
       "      <th>proc_q</th>\n",
       "      <th>mem_align</th>\n",
       "      <th>time</th>\n",
       "      <th>bcast</th>\n",
       "      <th>block_size</th>\n",
       "      <th>depth</th>\n",
       "      <th>pfact</th>\n",
       "      <th>proc_p</th>\n",
       "      <th>swap</th>\n",
       "      <th>rfact</th>\n",
       "      <th>gflops</th>\n",
       "      <th>matrix_size</th>\n",
       "      <th>index</th>\n",
       "    </tr>\n",
       "  </thead>\n",
       "  <tbody>\n",
       "    <tr>\n",
       "      <th>0</th>\n",
       "      <td>4</td>\n",
       "      <td>8</td>\n",
       "      <td>40.96</td>\n",
       "      <td>0</td>\n",
       "      <td>128</td>\n",
       "      <td>1</td>\n",
       "      <td>2</td>\n",
       "      <td>4</td>\n",
       "      <td>1</td>\n",
       "      <td>2</td>\n",
       "      <td>4581.0</td>\n",
       "      <td>65536</td>\n",
       "      <td>0</td>\n",
       "    </tr>\n",
       "    <tr>\n",
       "      <th>1</th>\n",
       "      <td>4</td>\n",
       "      <td>8</td>\n",
       "      <td>41.99</td>\n",
       "      <td>0</td>\n",
       "      <td>128</td>\n",
       "      <td>1</td>\n",
       "      <td>2</td>\n",
       "      <td>4</td>\n",
       "      <td>2</td>\n",
       "      <td>2</td>\n",
       "      <td>4469.0</td>\n",
       "      <td>65536</td>\n",
       "      <td>1</td>\n",
       "    </tr>\n",
       "    <tr>\n",
       "      <th>2</th>\n",
       "      <td>4</td>\n",
       "      <td>8</td>\n",
       "      <td>42.55</td>\n",
       "      <td>2</td>\n",
       "      <td>128</td>\n",
       "      <td>1</td>\n",
       "      <td>2</td>\n",
       "      <td>4</td>\n",
       "      <td>2</td>\n",
       "      <td>2</td>\n",
       "      <td>4410.0</td>\n",
       "      <td>65536</td>\n",
       "      <td>2</td>\n",
       "    </tr>\n",
       "    <tr>\n",
       "      <th>3</th>\n",
       "      <td>4</td>\n",
       "      <td>8</td>\n",
       "      <td>41.31</td>\n",
       "      <td>0</td>\n",
       "      <td>128</td>\n",
       "      <td>1</td>\n",
       "      <td>2</td>\n",
       "      <td>4</td>\n",
       "      <td>2</td>\n",
       "      <td>2</td>\n",
       "      <td>4543.0</td>\n",
       "      <td>65536</td>\n",
       "      <td>3</td>\n",
       "    </tr>\n",
       "    <tr>\n",
       "      <th>4</th>\n",
       "      <td>4</td>\n",
       "      <td>8</td>\n",
       "      <td>41.48</td>\n",
       "      <td>1</td>\n",
       "      <td>128</td>\n",
       "      <td>1</td>\n",
       "      <td>2</td>\n",
       "      <td>4</td>\n",
       "      <td>2</td>\n",
       "      <td>2</td>\n",
       "      <td>4524.0</td>\n",
       "      <td>65536</td>\n",
       "      <td>4</td>\n",
       "    </tr>\n",
       "  </tbody>\n",
       "</table>\n",
       "</div>"
      ],
      "text/plain": [
       "   proc_q  mem_align   time  bcast  block_size  depth  pfact  proc_p  swap  \\\n",
       "0       4          8  40.96      0         128      1      2       4     1   \n",
       "1       4          8  41.99      0         128      1      2       4     2   \n",
       "2       4          8  42.55      2         128      1      2       4     2   \n",
       "3       4          8  41.31      0         128      1      2       4     2   \n",
       "4       4          8  41.48      1         128      1      2       4     2   \n",
       "\n",
       "   rfact  gflops  matrix_size  index  \n",
       "0      2  4581.0        65536      0  \n",
       "1      2  4469.0        65536      1  \n",
       "2      2  4410.0        65536      2  \n",
       "3      2  4543.0        65536      3  \n",
       "4      2  4524.0        65536      4  "
      ]
     },
     "execution_count": 1,
     "metadata": {},
     "output_type": "execute_result"
    }
   ],
   "source": [
    "import io\n",
    "import zipfile\n",
    "import pandas\n",
    "import matplotlib\n",
    "%matplotlib inline\n",
    "archive = zipfile.ZipFile('grenoble_2018-08-10_1808139.zip')\n",
    "df = dataframe = pandas.read_csv(io.BytesIO(archive.read('results.csv')))\n",
    "print(len(df))\n",
    "df['index'] = range(len(df))\n",
    "df.head()"
   ]
  },
  {
   "cell_type": "code",
   "execution_count": 2,
   "metadata": {},
   "outputs": [
    {
     "data": {
      "text/plain": [
       "<matplotlib.axes._subplots.AxesSubplot at 0x7f2fec6f3470>"
      ]
     },
     "execution_count": 2,
     "metadata": {},
     "output_type": "execute_result"
    },
    {
     "data": {
      "image/png": "[encoded data removed]",
      "text/plain": [
       "<Figure size 432x288 with 1 Axes>"
      ]
     },
     "metadata": {},
     "output_type": "display_data"
    }
   ],
   "source": [
    "df.plot.scatter(x='index', y='gflops')"
   ]
  },
  {
   "cell_type": "code",
   "execution_count": 3,
   "metadata": {},
   "outputs": [],
   "source": [
    "factors = list(df.columns)\n",
    "for fact in ['matrix_size', 'gflops', 'time', 'proc_p', 'proc_q', 'index']:\n",
    "    factors.remove(fact)"
   ]
  },
  {
   "cell_type": "code",
   "execution_count": 4,
   "metadata": {},
   "outputs": [],
   "source": [
    "from statsmodels.formula.api import ols\n",
    "from statsmodels.stats.anova import anova_lm\n",
    "\n",
    "def my_anova(df, factors, response):\n",
    "    f_str = ['C(%s)' % fact for fact in factors if len(df[fact].unique()) > 1]\n",
    "    formula = ' + '.join(f_str)\n",
    "    formula = '(%s)**2' % formula\n",
    "    formula = '%s ~ %s' % (response, formula)\n",
    "    print(formula)\n",
    "    model = ols(formula, df).fit()\n",
    "    aov_table = anova_lm(model, typ=2)\n",
    "    aov_table['stars'] = ''\n",
    "    aov_table.loc[aov_table['PR(>F)'] < 0.1 ,  'stars'] = '.'\n",
    "    aov_table.loc[aov_table['PR(>F)'] < 0.05,  'stars'] = '*'\n",
    "    aov_table.loc[aov_table['PR(>F)'] < 0.01,  'stars'] = '**'\n",
    "    aov_table.loc[aov_table['PR(>F)'] < 0.001, 'stars'] = '***'\n",
    "    return aov_table"
   ]
  },
  {
   "cell_type": "code",
   "execution_count": 5,
   "metadata": {},
   "outputs": [
    {
     "name": "stdout",
     "output_type": "stream",
     "text": [
      "gflops ~ (C(bcast) + C(swap))**2\n"
     ]
    },
    {
     "data": {
      "text/html": [
       "<div>\n",
       "<style scoped>\n",
       "    .dataframe tbody tr th:only-of-type {\n",
       "        vertical-align: middle;\n",
       "    }\n",
       "\n",
       "    .dataframe tbody tr th {\n",
       "        vertical-align: top;\n",
       "    }\n",
       "\n",
       "    .dataframe thead th {\n",
       "        text-align: right;\n",
       "    }\n",
       "</style>\n",
       "<table border=\"1\" class=\"dataframe\">\n",
       "  <thead>\n",
       "    <tr style=\"text-align: right;\">\n",
       "      <th></th>\n",
       "      <th>sum_sq</th>\n",
       "      <th>df</th>\n",
       "      <th>F</th>\n",
       "      <th>PR(&gt;F)</th>\n",
       "      <th>stars</th>\n",
       "    </tr>\n",
       "  </thead>\n",
       "  <tbody>\n",
       "    <tr>\n",
       "      <th>C(bcast)</th>\n",
       "      <td>2438.95</td>\n",
       "      <td>3.0</td>\n",
       "      <td>0.065688</td>\n",
       "      <td>0.977887</td>\n",
       "      <td></td>\n",
       "    </tr>\n",
       "    <tr>\n",
       "      <th>C(swap)</th>\n",
       "      <td>39516.05</td>\n",
       "      <td>1.0</td>\n",
       "      <td>3.192838</td>\n",
       "      <td>0.078171</td>\n",
       "      <td>.</td>\n",
       "    </tr>\n",
       "    <tr>\n",
       "      <th>C(bcast):C(swap)</th>\n",
       "      <td>31159.35</td>\n",
       "      <td>3.0</td>\n",
       "      <td>0.839210</td>\n",
       "      <td>0.476802</td>\n",
       "      <td></td>\n",
       "    </tr>\n",
       "    <tr>\n",
       "      <th>Residual</th>\n",
       "      <td>891105.60</td>\n",
       "      <td>72.0</td>\n",
       "      <td>NaN</td>\n",
       "      <td>NaN</td>\n",
       "      <td></td>\n",
       "    </tr>\n",
       "  </tbody>\n",
       "</table>\n",
       "</div>"
      ],
      "text/plain": [
       "                     sum_sq    df         F    PR(>F) stars\n",
       "C(bcast)            2438.95   3.0  0.065688  0.977887      \n",
       "C(swap)            39516.05   1.0  3.192838  0.078171     .\n",
       "C(bcast):C(swap)   31159.35   3.0  0.839210  0.476802      \n",
       "Residual          891105.60  72.0       NaN       NaN      "
      ]
     },
     "execution_count": 5,
     "metadata": {},
     "output_type": "execute_result"
    }
   ],
   "source": [
    "my_anova(df, factors, 'gflops')"
   ]
  },
  {
   "cell_type": "code",
   "execution_count": 6,
   "metadata": {},
   "outputs": [
    {
     "data": {
      "text/plain": [
       "<matplotlib.axes._subplots.AxesSubplot at 0x7f2fea630128>"
      ]
     },
     "execution_count": 6,
     "metadata": {},
     "output_type": "execute_result"
    },
    {
     "data": {
      "image/png": "[encoded data removed]",
      "text/plain": [
       "<Figure size 432x288 with 1 Axes>"
      ]
     },
     "metadata": {},
     "output_type": "display_data"
    }
   ],
   "source": [
    "df.boxplot(by=['bcast', 'swap'], column='gflops')"
   ]
  }
 ],
 "metadata": {
  "kernelspec": {
   "display_name": "Python 3",
   "language": "python",
   "name": "python3"
  },
  "language_info": {
   "codemirror_mode": {
    "name": "ipython",
    "version": 3
   },
   "file_extension": ".py",
   "mimetype": "text/x-python",
   "name": "python",
   "nbconvert_exporter": "python",
   "pygments_lexer": "ipython3",
   "version": "3.6.5"
  }
 },
 "nbformat": 4,
 "nbformat_minor": 2
}
