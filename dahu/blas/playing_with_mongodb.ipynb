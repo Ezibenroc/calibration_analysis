{
 "cells": [
  {
   "cell_type": "markdown",
   "metadata": {},
   "source": [
    "# Playing with MongoDB\n",
    "\n",
    "[MongoDB](https://en.wikipedia.org/wiki/MongoDB) has to be installed, unlike SQLite that comes bundled in Python.\n",
    "\n",
    "```bash\n",
    "sudo eopkg install mongodb\n",
    "pip install --user pymongo\n",
    "sudo mkdir -p /data/db\n",
    "sudo chown $USER /data/db\n",
    "```\n",
    "\n",
    "Interesting links:\n",
    "- http://api.mongodb.com/python/current/tutorial.html"
   ]
  },
  {
   "cell_type": "markdown",
   "metadata": {},
   "source": [
    "Let's play with our DGEMM dataset, used in the paper."
   ]
  },
  {
   "cell_type": "code",
   "execution_count": 1,
   "metadata": {},
   "outputs": [
    {
     "name": "stdout",
     "output_type": "stream",
     "text": [
      "--2019-06-11 15:14:59--  https://github.com/Ezibenroc/calibration_analysis/raw/master/dahu/blas/dgemm_calibration.csv\n",
      "Résolution de github.com… 140.82.118.3\n",
      "Connexion à github.com|140.82.118.3|:443… connecté.\n",
      "requête HTTP transmise, en attente de la réponse… 302 Found\n",
      "Emplacement : https://media.githubusercontent.com/media/Ezibenroc/calibration_analysis/master/dahu/blas/dgemm_calibration.csv [suivant]\n",
      "--2019-06-11 15:14:59--  https://media.githubusercontent.com/media/Ezibenroc/calibration_analysis/master/dahu/blas/dgemm_calibration.csv\n",
      "Résolution de media.githubusercontent.com… 151.101.120.133\n",
      "Connexion à media.githubusercontent.com|151.101.120.133|:443… connecté.\n",
      "requête HTTP transmise, en attente de la réponse… 416 Range Not Satisfiable\n",
      "\n",
      "    Le fichier a déjà été complètement récupéré ; rien à faire.\n",
      "\n",
      "function,m,n,k,timestamp,duration,node,core\n",
      "dgemm,378,7640,2427,3473.428414,0.48594659999999995,10,0\n",
      "dgemm,378,7640,2427,3473.914385,0.4861293,10,0\n",
      "dgemm,378,7640,2427,3474.400522,0.48685290000000003,10,0\n",
      "dgemm,9441,640,1160,3474.8873829999998,0.4551385,10,0\n",
      "dgemm,9441,640,1160,3475.34253,0.45352780000000004,10,0\n",
      "dgemm,9441,640,1160,3475.7960659999994,0.4544535,10,0\n",
      "dgemm,1041,2183,735,3476.250529,0.11200460000000001,10,0\n",
      "dgemm,1041,2183,735,3476.3625409999995,0.11183789999999999,10,0\n",
      "dgemm,1041,2183,735,3476.474386,0.11178830000000001,10,0\n"
     ]
    }
   ],
   "source": [
    "!wget -c https://github.com/Ezibenroc/calibration_analysis/raw/master/dahu/blas/dgemm_calibration.csv -O /tmp/data.csv\n",
    "!cut -d, -f1,2,3,4,5,6,10,11 /tmp/data.csv > /tmp/dgemm.csv\n",
    "!head /tmp/dgemm.csv"
   ]
  },
  {
   "cell_type": "markdown",
   "metadata": {},
   "source": [
    "## The basics\n",
    "\n",
    "First, let's load our huge CSV file containing dgemm data and dump it into a MongoDB collection."
   ]
  },
  {
   "cell_type": "code",
   "execution_count": 2,
   "metadata": {},
   "outputs": [],
   "source": [
    "import pandas\n",
    "import pymongo"
   ]
  },
  {
   "cell_type": "code",
   "execution_count": 3,
   "metadata": {},
   "outputs": [
    {
     "name": "stdout",
     "output_type": "stream",
     "text": [
      "CPU times: user 2.62 s, sys: 286 ms, total: 2.9 s\n",
      "Wall time: 2.9 s\n",
      "5004288\n"
     ]
    },
    {
     "data": {
      "text/html": [
       "<div>\n",
       "<style scoped>\n",
       "    .dataframe tbody tr th:only-of-type {\n",
       "        vertical-align: middle;\n",
       "    }\n",
       "\n",
       "    .dataframe tbody tr th {\n",
       "        vertical-align: top;\n",
       "    }\n",
       "\n",
       "    .dataframe thead th {\n",
       "        text-align: right;\n",
       "    }\n",
       "</style>\n",
       "<table border=\"1\" class=\"dataframe\">\n",
       "  <thead>\n",
       "    <tr style=\"text-align: right;\">\n",
       "      <th></th>\n",
       "      <th>function</th>\n",
       "      <th>m</th>\n",
       "      <th>n</th>\n",
       "      <th>k</th>\n",
       "      <th>timestamp</th>\n",
       "      <th>duration</th>\n",
       "      <th>node</th>\n",
       "      <th>core</th>\n",
       "    </tr>\n",
       "  </thead>\n",
       "  <tbody>\n",
       "    <tr>\n",
       "      <th>0</th>\n",
       "      <td>dgemm</td>\n",
       "      <td>378</td>\n",
       "      <td>7640</td>\n",
       "      <td>2427</td>\n",
       "      <td>3473.428414</td>\n",
       "      <td>0.485947</td>\n",
       "      <td>10</td>\n",
       "      <td>0</td>\n",
       "    </tr>\n",
       "    <tr>\n",
       "      <th>1</th>\n",
       "      <td>dgemm</td>\n",
       "      <td>378</td>\n",
       "      <td>7640</td>\n",
       "      <td>2427</td>\n",
       "      <td>3473.914385</td>\n",
       "      <td>0.486129</td>\n",
       "      <td>10</td>\n",
       "      <td>0</td>\n",
       "    </tr>\n",
       "    <tr>\n",
       "      <th>2</th>\n",
       "      <td>dgemm</td>\n",
       "      <td>378</td>\n",
       "      <td>7640</td>\n",
       "      <td>2427</td>\n",
       "      <td>3474.400522</td>\n",
       "      <td>0.486853</td>\n",
       "      <td>10</td>\n",
       "      <td>0</td>\n",
       "    </tr>\n",
       "    <tr>\n",
       "      <th>3</th>\n",
       "      <td>dgemm</td>\n",
       "      <td>9441</td>\n",
       "      <td>640</td>\n",
       "      <td>1160</td>\n",
       "      <td>3474.887383</td>\n",
       "      <td>0.455139</td>\n",
       "      <td>10</td>\n",
       "      <td>0</td>\n",
       "    </tr>\n",
       "    <tr>\n",
       "      <th>4</th>\n",
       "      <td>dgemm</td>\n",
       "      <td>9441</td>\n",
       "      <td>640</td>\n",
       "      <td>1160</td>\n",
       "      <td>3475.342530</td>\n",
       "      <td>0.453528</td>\n",
       "      <td>10</td>\n",
       "      <td>0</td>\n",
       "    </tr>\n",
       "  </tbody>\n",
       "</table>\n",
       "</div>"
      ],
      "text/plain": [
       "  function     m     n     k    timestamp  duration  node  core\n",
       "0    dgemm   378  7640  2427  3473.428414  0.485947    10     0\n",
       "1    dgemm   378  7640  2427  3473.914385  0.486129    10     0\n",
       "2    dgemm   378  7640  2427  3474.400522  0.486853    10     0\n",
       "3    dgemm  9441   640  1160  3474.887383  0.455139    10     0\n",
       "4    dgemm  9441   640  1160  3475.342530  0.453528    10     0"
      ]
     },
     "execution_count": 3,
     "metadata": {},
     "output_type": "execute_result"
    }
   ],
   "source": [
    "%time df = pandas.read_csv('/tmp/dgemm.csv')\n",
    "print(len(df))\n",
    "df.head()"
   ]
  },
  {
   "cell_type": "code",
   "execution_count": 4,
   "metadata": {},
   "outputs": [],
   "source": [
    "client = pymongo.MongoClient()\n",
    "db = client.test_database\n",
    "collection = db.test_collection"
   ]
  },
  {
   "cell_type": "code",
   "execution_count": 5,
   "metadata": {},
   "outputs": [
    {
     "name": "stdout",
     "output_type": "stream",
     "text": [
      "CPU times: user 1min 13s, sys: 977 ms, total: 1min 14s\n",
      "Wall time: 1min 14s\n"
     ]
    }
   ],
   "source": [
    "%%time\n",
    "df_dict = df.to_dict('records')"
   ]
  },
  {
   "cell_type": "code",
   "execution_count": 6,
   "metadata": {},
   "outputs": [
    {
     "name": "stdout",
     "output_type": "stream",
     "text": [
      "CPU times: user 46.8 s, sys: 1.16 s, total: 48 s\n",
      "Wall time: 58.6 s\n"
     ]
    },
    {
     "data": {
      "text/plain": [
       "<pymongo.results.InsertManyResult at 0x7fce4bcac388>"
      ]
     },
     "execution_count": 6,
     "metadata": {},
     "output_type": "execute_result"
    }
   ],
   "source": [
    "%%time\n",
    "collection.insert_many(df_dict)"
   ]
  },
  {
   "cell_type": "code",
   "execution_count": 7,
   "metadata": {},
   "outputs": [],
   "source": [
    "del df_dict  # releasing some memory"
   ]
  },
  {
   "cell_type": "code",
   "execution_count": 8,
   "metadata": {},
   "outputs": [
    {
     "name": "stdout",
     "output_type": "stream",
     "text": [
      "681M\t/data\n",
      "250M\t/tmp/dgemm.csv\n"
     ]
    }
   ],
   "source": [
    "!du -sh /data\n",
    "!du -sh /tmp/dgemm.csv"
   ]
  },
  {
   "cell_type": "markdown",
   "metadata": {},
   "source": [
    "Now, let's see how much time is needed to read from this database."
   ]
  },
  {
   "cell_type": "code",
   "execution_count": 9,
   "metadata": {},
   "outputs": [
    {
     "name": "stdout",
     "output_type": "stream",
     "text": [
      "CPU times: user 24.9 s, sys: 1.82 s, total: 26.7 s\n",
      "Wall time: 27.7 s\n",
      "5004288\n"
     ]
    },
    {
     "data": {
      "text/html": [
       "<div>\n",
       "<style scoped>\n",
       "    .dataframe tbody tr th:only-of-type {\n",
       "        vertical-align: middle;\n",
       "    }\n",
       "\n",
       "    .dataframe tbody tr th {\n",
       "        vertical-align: top;\n",
       "    }\n",
       "\n",
       "    .dataframe thead th {\n",
       "        text-align: right;\n",
       "    }\n",
       "</style>\n",
       "<table border=\"1\" class=\"dataframe\">\n",
       "  <thead>\n",
       "    <tr style=\"text-align: right;\">\n",
       "      <th></th>\n",
       "      <th>_id</th>\n",
       "      <th>core</th>\n",
       "      <th>duration</th>\n",
       "      <th>function</th>\n",
       "      <th>k</th>\n",
       "      <th>m</th>\n",
       "      <th>n</th>\n",
       "      <th>node</th>\n",
       "      <th>timestamp</th>\n",
       "    </tr>\n",
       "  </thead>\n",
       "  <tbody>\n",
       "    <tr>\n",
       "      <th>0</th>\n",
       "      <td>5cffa9acec24b4aa8e35170f</td>\n",
       "      <td>0</td>\n",
       "      <td>0.485947</td>\n",
       "      <td>dgemm</td>\n",
       "      <td>2427</td>\n",
       "      <td>378</td>\n",
       "      <td>7640</td>\n",
       "      <td>10</td>\n",
       "      <td>3473.428414</td>\n",
       "    </tr>\n",
       "    <tr>\n",
       "      <th>1</th>\n",
       "      <td>5cffa9acec24b4aa8e351710</td>\n",
       "      <td>0</td>\n",
       "      <td>0.486129</td>\n",
       "      <td>dgemm</td>\n",
       "      <td>2427</td>\n",
       "      <td>378</td>\n",
       "      <td>7640</td>\n",
       "      <td>10</td>\n",
       "      <td>3473.914385</td>\n",
       "    </tr>\n",
       "    <tr>\n",
       "      <th>2</th>\n",
       "      <td>5cffa9acec24b4aa8e351711</td>\n",
       "      <td>0</td>\n",
       "      <td>0.486853</td>\n",
       "      <td>dgemm</td>\n",
       "      <td>2427</td>\n",
       "      <td>378</td>\n",
       "      <td>7640</td>\n",
       "      <td>10</td>\n",
       "      <td>3474.400522</td>\n",
       "    </tr>\n",
       "    <tr>\n",
       "      <th>3</th>\n",
       "      <td>5cffa9acec24b4aa8e351712</td>\n",
       "      <td>0</td>\n",
       "      <td>0.455139</td>\n",
       "      <td>dgemm</td>\n",
       "      <td>1160</td>\n",
       "      <td>9441</td>\n",
       "      <td>640</td>\n",
       "      <td>10</td>\n",
       "      <td>3474.887383</td>\n",
       "    </tr>\n",
       "    <tr>\n",
       "      <th>4</th>\n",
       "      <td>5cffa9acec24b4aa8e351713</td>\n",
       "      <td>0</td>\n",
       "      <td>0.453528</td>\n",
       "      <td>dgemm</td>\n",
       "      <td>1160</td>\n",
       "      <td>9441</td>\n",
       "      <td>640</td>\n",
       "      <td>10</td>\n",
       "      <td>3475.342530</td>\n",
       "    </tr>\n",
       "  </tbody>\n",
       "</table>\n",
       "</div>"
      ],
      "text/plain": [
       "                        _id  core  duration function     k     m     n  node  \\\n",
       "0  5cffa9acec24b4aa8e35170f     0  0.485947    dgemm  2427   378  7640    10   \n",
       "1  5cffa9acec24b4aa8e351710     0  0.486129    dgemm  2427   378  7640    10   \n",
       "2  5cffa9acec24b4aa8e351711     0  0.486853    dgemm  2427   378  7640    10   \n",
       "3  5cffa9acec24b4aa8e351712     0  0.455139    dgemm  1160  9441   640    10   \n",
       "4  5cffa9acec24b4aa8e351713     0  0.453528    dgemm  1160  9441   640    10   \n",
       "\n",
       "     timestamp  \n",
       "0  3473.428414  \n",
       "1  3473.914385  \n",
       "2  3474.400522  \n",
       "3  3474.887383  \n",
       "4  3475.342530  "
      ]
     },
     "execution_count": 9,
     "metadata": {},
     "output_type": "execute_result"
    }
   ],
   "source": [
    "%time tmp = pandas.DataFrame(list(collection.find()))\n",
    "print(len(tmp))\n",
    "tmp.head()"
   ]
  },
  {
   "cell_type": "markdown",
   "metadata": {},
   "source": [
    "Wow, reading from the database is much longer than reading from the CSV file. This feels weird. Let's see if we can at least have a low time by reading a subset."
   ]
  },
  {
   "cell_type": "code",
   "execution_count": 10,
   "metadata": {},
   "outputs": [
    {
     "name": "stdout",
     "output_type": "stream",
     "text": [
      "CPU times: user 650 ms, sys: 4 ms, total: 654 ms\n",
      "Wall time: 2.05 s\n",
      "156384\n"
     ]
    },
    {
     "data": {
      "text/html": [
       "<div>\n",
       "<style scoped>\n",
       "    .dataframe tbody tr th:only-of-type {\n",
       "        vertical-align: middle;\n",
       "    }\n",
       "\n",
       "    .dataframe tbody tr th {\n",
       "        vertical-align: top;\n",
       "    }\n",
       "\n",
       "    .dataframe thead th {\n",
       "        text-align: right;\n",
       "    }\n",
       "</style>\n",
       "<table border=\"1\" class=\"dataframe\">\n",
       "  <thead>\n",
       "    <tr style=\"text-align: right;\">\n",
       "      <th></th>\n",
       "      <th>_id</th>\n",
       "      <th>core</th>\n",
       "      <th>duration</th>\n",
       "      <th>function</th>\n",
       "      <th>k</th>\n",
       "      <th>m</th>\n",
       "      <th>n</th>\n",
       "      <th>node</th>\n",
       "      <th>timestamp</th>\n",
       "    </tr>\n",
       "  </thead>\n",
       "  <tbody>\n",
       "    <tr>\n",
       "      <th>0</th>\n",
       "      <td>5cffa9b6ec24b4aa8e4f56af</td>\n",
       "      <td>0</td>\n",
       "      <td>0.486023</td>\n",
       "      <td>dgemm</td>\n",
       "      <td>2427</td>\n",
       "      <td>378</td>\n",
       "      <td>7640</td>\n",
       "      <td>20</td>\n",
       "      <td>3485.569752</td>\n",
       "    </tr>\n",
       "    <tr>\n",
       "      <th>1</th>\n",
       "      <td>5cffa9b6ec24b4aa8e4f56b0</td>\n",
       "      <td>0</td>\n",
       "      <td>0.486281</td>\n",
       "      <td>dgemm</td>\n",
       "      <td>2427</td>\n",
       "      <td>378</td>\n",
       "      <td>7640</td>\n",
       "      <td>20</td>\n",
       "      <td>3486.055798</td>\n",
       "    </tr>\n",
       "    <tr>\n",
       "      <th>2</th>\n",
       "      <td>5cffa9b6ec24b4aa8e4f56b1</td>\n",
       "      <td>0</td>\n",
       "      <td>0.485554</td>\n",
       "      <td>dgemm</td>\n",
       "      <td>2427</td>\n",
       "      <td>378</td>\n",
       "      <td>7640</td>\n",
       "      <td>20</td>\n",
       "      <td>3486.542086</td>\n",
       "    </tr>\n",
       "    <tr>\n",
       "      <th>3</th>\n",
       "      <td>5cffa9b6ec24b4aa8e4f56b2</td>\n",
       "      <td>0</td>\n",
       "      <td>0.461661</td>\n",
       "      <td>dgemm</td>\n",
       "      <td>1160</td>\n",
       "      <td>9441</td>\n",
       "      <td>640</td>\n",
       "      <td>20</td>\n",
       "      <td>3487.027647</td>\n",
       "    </tr>\n",
       "    <tr>\n",
       "      <th>4</th>\n",
       "      <td>5cffa9b6ec24b4aa8e4f56b3</td>\n",
       "      <td>0</td>\n",
       "      <td>0.458144</td>\n",
       "      <td>dgemm</td>\n",
       "      <td>1160</td>\n",
       "      <td>9441</td>\n",
       "      <td>640</td>\n",
       "      <td>20</td>\n",
       "      <td>3487.489317</td>\n",
       "    </tr>\n",
       "  </tbody>\n",
       "</table>\n",
       "</div>"
      ],
      "text/plain": [
       "                        _id  core  duration function     k     m     n  node  \\\n",
       "0  5cffa9b6ec24b4aa8e4f56af     0  0.486023    dgemm  2427   378  7640    20   \n",
       "1  5cffa9b6ec24b4aa8e4f56b0     0  0.486281    dgemm  2427   378  7640    20   \n",
       "2  5cffa9b6ec24b4aa8e4f56b1     0  0.485554    dgemm  2427   378  7640    20   \n",
       "3  5cffa9b6ec24b4aa8e4f56b2     0  0.461661    dgemm  1160  9441   640    20   \n",
       "4  5cffa9b6ec24b4aa8e4f56b3     0  0.458144    dgemm  1160  9441   640    20   \n",
       "\n",
       "     timestamp  \n",
       "0  3485.569752  \n",
       "1  3486.055798  \n",
       "2  3486.542086  \n",
       "3  3487.027647  \n",
       "4  3487.489317  "
      ]
     },
     "execution_count": 10,
     "metadata": {},
     "output_type": "execute_result"
    }
   ],
   "source": [
    "%time tmp = pandas.DataFrame(list(collection.find({'node': 20})))\n",
    "print(len(tmp))\n",
    "tmp.head()"
   ]
  },
  {
   "cell_type": "markdown",
   "metadata": {},
   "source": [
    "Alright, so reading a subset of the database is shorter than reading everything, but it is still too long. What if we have an index?"
   ]
  },
  {
   "cell_type": "code",
   "execution_count": 11,
   "metadata": {},
   "outputs": [
    {
     "data": {
      "text/plain": [
       "'node_1'"
      ]
     },
     "execution_count": 11,
     "metadata": {},
     "output_type": "execute_result"
    }
   ],
   "source": [
    "collection.profiles.create_index('node', unique=False)"
   ]
  },
  {
   "cell_type": "code",
   "execution_count": 12,
   "metadata": {},
   "outputs": [
    {
     "name": "stdout",
     "output_type": "stream",
     "text": [
      "CPU times: user 644 ms, sys: 4.06 ms, total: 648 ms\n",
      "Wall time: 2.02 s\n",
      "156384\n"
     ]
    },
    {
     "data": {
      "text/html": [
       "<div>\n",
       "<style scoped>\n",
       "    .dataframe tbody tr th:only-of-type {\n",
       "        vertical-align: middle;\n",
       "    }\n",
       "\n",
       "    .dataframe tbody tr th {\n",
       "        vertical-align: top;\n",
       "    }\n",
       "\n",
       "    .dataframe thead th {\n",
       "        text-align: right;\n",
       "    }\n",
       "</style>\n",
       "<table border=\"1\" class=\"dataframe\">\n",
       "  <thead>\n",
       "    <tr style=\"text-align: right;\">\n",
       "      <th></th>\n",
       "      <th>_id</th>\n",
       "      <th>core</th>\n",
       "      <th>duration</th>\n",
       "      <th>function</th>\n",
       "      <th>k</th>\n",
       "      <th>m</th>\n",
       "      <th>n</th>\n",
       "      <th>node</th>\n",
       "      <th>timestamp</th>\n",
       "    </tr>\n",
       "  </thead>\n",
       "  <tbody>\n",
       "    <tr>\n",
       "      <th>0</th>\n",
       "      <td>5cffa9b6ec24b4aa8e4f56af</td>\n",
       "      <td>0</td>\n",
       "      <td>0.486023</td>\n",
       "      <td>dgemm</td>\n",
       "      <td>2427</td>\n",
       "      <td>378</td>\n",
       "      <td>7640</td>\n",
       "      <td>20</td>\n",
       "      <td>3485.569752</td>\n",
       "    </tr>\n",
       "    <tr>\n",
       "      <th>1</th>\n",
       "      <td>5cffa9b6ec24b4aa8e4f56b0</td>\n",
       "      <td>0</td>\n",
       "      <td>0.486281</td>\n",
       "      <td>dgemm</td>\n",
       "      <td>2427</td>\n",
       "      <td>378</td>\n",
       "      <td>7640</td>\n",
       "      <td>20</td>\n",
       "      <td>3486.055798</td>\n",
       "    </tr>\n",
       "    <tr>\n",
       "      <th>2</th>\n",
       "      <td>5cffa9b6ec24b4aa8e4f56b1</td>\n",
       "      <td>0</td>\n",
       "      <td>0.485554</td>\n",
       "      <td>dgemm</td>\n",
       "      <td>2427</td>\n",
       "      <td>378</td>\n",
       "      <td>7640</td>\n",
       "      <td>20</td>\n",
       "      <td>3486.542086</td>\n",
       "    </tr>\n",
       "    <tr>\n",
       "      <th>3</th>\n",
       "      <td>5cffa9b6ec24b4aa8e4f56b2</td>\n",
       "      <td>0</td>\n",
       "      <td>0.461661</td>\n",
       "      <td>dgemm</td>\n",
       "      <td>1160</td>\n",
       "      <td>9441</td>\n",
       "      <td>640</td>\n",
       "      <td>20</td>\n",
       "      <td>3487.027647</td>\n",
       "    </tr>\n",
       "    <tr>\n",
       "      <th>4</th>\n",
       "      <td>5cffa9b6ec24b4aa8e4f56b3</td>\n",
       "      <td>0</td>\n",
       "      <td>0.458144</td>\n",
       "      <td>dgemm</td>\n",
       "      <td>1160</td>\n",
       "      <td>9441</td>\n",
       "      <td>640</td>\n",
       "      <td>20</td>\n",
       "      <td>3487.489317</td>\n",
       "    </tr>\n",
       "  </tbody>\n",
       "</table>\n",
       "</div>"
      ],
      "text/plain": [
       "                        _id  core  duration function     k     m     n  node  \\\n",
       "0  5cffa9b6ec24b4aa8e4f56af     0  0.486023    dgemm  2427   378  7640    20   \n",
       "1  5cffa9b6ec24b4aa8e4f56b0     0  0.486281    dgemm  2427   378  7640    20   \n",
       "2  5cffa9b6ec24b4aa8e4f56b1     0  0.485554    dgemm  2427   378  7640    20   \n",
       "3  5cffa9b6ec24b4aa8e4f56b2     0  0.461661    dgemm  1160  9441   640    20   \n",
       "4  5cffa9b6ec24b4aa8e4f56b3     0  0.458144    dgemm  1160  9441   640    20   \n",
       "\n",
       "     timestamp  \n",
       "0  3485.569752  \n",
       "1  3486.055798  \n",
       "2  3486.542086  \n",
       "3  3487.027647  \n",
       "4  3487.489317  "
      ]
     },
     "execution_count": 12,
     "metadata": {},
     "output_type": "execute_result"
    }
   ],
   "source": [
    "%time tmp = pandas.DataFrame(list(collection.find({'node': 20})))\n",
    "print(len(tmp))\n",
    "tmp.head()"
   ]
  },
  {
   "cell_type": "markdown",
   "metadata": {},
   "source": [
    "Ok, it did not change anything."
   ]
  }
 ],
 "metadata": {
  "kernelspec": {
   "display_name": "Python 3",
   "language": "python",
   "name": "python3"
  },
  "language_info": {
   "codemirror_mode": {
    "name": "ipython",
    "version": 3
   },
   "file_extension": ".py",
   "mimetype": "text/x-python",
   "name": "python",
   "nbconvert_exporter": "python",
   "pygments_lexer": "ipython3",
   "version": "3.6.8"
  }
 },
 "nbformat": 4,
 "nbformat_minor": 2
}
