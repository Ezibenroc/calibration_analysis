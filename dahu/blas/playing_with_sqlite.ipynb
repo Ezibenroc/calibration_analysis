{
 "cells": [
  {
   "cell_type": "markdown",
   "metadata": {},
   "source": [
    "# Playing with SQLite\n",
    "\n",
    "The [SQLite](https://en.wikipedia.org/wiki/SQLite) is shipped with Python, we have nothing to install. Let's play with it.\n",
    "\n",
    "A few links:\n",
    "- http://zetcode.com/python/sqlite/\n",
    "- https://pandas.pydata.org/pandas-docs/stable/reference/api/pandas.DataFrame.to_sql.html\n",
    "- https://pandas.pydata.org/pandas-docs/stable/reference/api/pandas.read_sql.html\n",
    "- https://www.dataquest.io/blog/python-pandas-databases/\n",
    "\n",
    "Pro-tip: use [sqlitebrowser](https://github.com/sqlitebrowser/sqlitebrowser) to visualize the database. This is a GUI, much more user-friendly than the SQLite shell."
   ]
  },
  {
   "cell_type": "markdown",
   "metadata": {},
   "source": [
    "Let's play with our DGEMM dataset, used in the paper."
   ]
  },
  {
   "cell_type": "code",
   "execution_count": 1,
   "metadata": {},
   "outputs": [
    {
     "name": "stdout",
     "output_type": "stream",
     "text": [
      "--2019-06-06 18:29:40--  https://github.com/Ezibenroc/calibration_analysis/raw/master/dahu/blas/dgemm_calibration.csv\n",
      "Résolution de github.com… 140.82.118.3\n",
      "Connexion à github.com|140.82.118.3|:443… connecté.\n",
      "requête HTTP transmise, en attente de la réponse… 302 Found\n",
      "Emplacement : https://media.githubusercontent.com/media/Ezibenroc/calibration_analysis/master/dahu/blas/dgemm_calibration.csv [suivant]\n",
      "--2019-06-06 18:29:40--  https://media.githubusercontent.com/media/Ezibenroc/calibration_analysis/master/dahu/blas/dgemm_calibration.csv\n",
      "Résolution de media.githubusercontent.com… 151.101.120.133\n",
      "Connexion à media.githubusercontent.com|151.101.120.133|:443… connecté.\n",
      "requête HTTP transmise, en attente de la réponse… 200 OK\n",
      "Taille : 614553640 (586M) [text/plain]\n",
      "Sauvegarde en : « /tmp/data.csv »\n",
      "\n",
      "/tmp/data.csv       100%[===================>] 586,08M  86,9MB/s    ds 8,3s    \n",
      "\n",
      "2019-06-06 18:29:59 (70,2 MB/s) — « /tmp/data.csv » sauvegardé [614553640/614553640]\n",
      "\n",
      "function,m,n,k,timestamp,duration,node,core\n",
      "dgemm,378,7640,2427,3473.428414,0.48594659999999995,10,0\n",
      "dgemm,378,7640,2427,3473.914385,0.4861293,10,0\n",
      "dgemm,378,7640,2427,3474.400522,0.48685290000000003,10,0\n",
      "dgemm,9441,640,1160,3474.8873829999998,0.4551385,10,0\n",
      "dgemm,9441,640,1160,3475.34253,0.45352780000000004,10,0\n",
      "dgemm,9441,640,1160,3475.7960659999994,0.4544535,10,0\n",
      "dgemm,1041,2183,735,3476.250529,0.11200460000000001,10,0\n",
      "dgemm,1041,2183,735,3476.3625409999995,0.11183789999999999,10,0\n",
      "dgemm,1041,2183,735,3476.474386,0.11178830000000001,10,0\n"
     ]
    }
   ],
   "source": [
    "!wget -c https://github.com/Ezibenroc/calibration_analysis/raw/master/dahu/blas/dgemm_calibration.csv -O /tmp/data.csv\n",
    "!cut -d, -f1,2,3,4,5,6,10,11 /tmp/data.csv > /tmp/dgemm.csv\n",
    "!head /tmp/dgemm.csv"
   ]
  },
  {
   "cell_type": "markdown",
   "metadata": {},
   "source": [
    "## SQLite and Pandas, the basics\n",
    "\n",
    "First, let's load our huge CSV file containing dgemm data and dump it into a SQLite table."
   ]
  },
  {
   "cell_type": "code",
   "execution_count": 2,
   "metadata": {},
   "outputs": [],
   "source": [
    "import pandas\n",
    "import sqlite3"
   ]
  },
  {
   "cell_type": "code",
   "execution_count": 3,
   "metadata": {},
   "outputs": [
    {
     "name": "stdout",
     "output_type": "stream",
     "text": [
      "CPU times: user 2.63 s, sys: 309 ms, total: 2.94 s\n",
      "Wall time: 2.93 s\n",
      "5004288\n"
     ]
    },
    {
     "data": {
      "text/html": [
       "<div>\n",
       "<style scoped>\n",
       "    .dataframe tbody tr th:only-of-type {\n",
       "        vertical-align: middle;\n",
       "    }\n",
       "\n",
       "    .dataframe tbody tr th {\n",
       "        vertical-align: top;\n",
       "    }\n",
       "\n",
       "    .dataframe thead th {\n",
       "        text-align: right;\n",
       "    }\n",
       "</style>\n",
       "<table border=\"1\" class=\"dataframe\">\n",
       "  <thead>\n",
       "    <tr style=\"text-align: right;\">\n",
       "      <th></th>\n",
       "      <th>function</th>\n",
       "      <th>m</th>\n",
       "      <th>n</th>\n",
       "      <th>k</th>\n",
       "      <th>timestamp</th>\n",
       "      <th>duration</th>\n",
       "      <th>node</th>\n",
       "      <th>core</th>\n",
       "    </tr>\n",
       "  </thead>\n",
       "  <tbody>\n",
       "    <tr>\n",
       "      <th>0</th>\n",
       "      <td>dgemm</td>\n",
       "      <td>378</td>\n",
       "      <td>7640</td>\n",
       "      <td>2427</td>\n",
       "      <td>3473.428414</td>\n",
       "      <td>0.485947</td>\n",
       "      <td>10</td>\n",
       "      <td>0</td>\n",
       "    </tr>\n",
       "    <tr>\n",
       "      <th>1</th>\n",
       "      <td>dgemm</td>\n",
       "      <td>378</td>\n",
       "      <td>7640</td>\n",
       "      <td>2427</td>\n",
       "      <td>3473.914385</td>\n",
       "      <td>0.486129</td>\n",
       "      <td>10</td>\n",
       "      <td>0</td>\n",
       "    </tr>\n",
       "    <tr>\n",
       "      <th>2</th>\n",
       "      <td>dgemm</td>\n",
       "      <td>378</td>\n",
       "      <td>7640</td>\n",
       "      <td>2427</td>\n",
       "      <td>3474.400522</td>\n",
       "      <td>0.486853</td>\n",
       "      <td>10</td>\n",
       "      <td>0</td>\n",
       "    </tr>\n",
       "    <tr>\n",
       "      <th>3</th>\n",
       "      <td>dgemm</td>\n",
       "      <td>9441</td>\n",
       "      <td>640</td>\n",
       "      <td>1160</td>\n",
       "      <td>3474.887383</td>\n",
       "      <td>0.455139</td>\n",
       "      <td>10</td>\n",
       "      <td>0</td>\n",
       "    </tr>\n",
       "    <tr>\n",
       "      <th>4</th>\n",
       "      <td>dgemm</td>\n",
       "      <td>9441</td>\n",
       "      <td>640</td>\n",
       "      <td>1160</td>\n",
       "      <td>3475.342530</td>\n",
       "      <td>0.453528</td>\n",
       "      <td>10</td>\n",
       "      <td>0</td>\n",
       "    </tr>\n",
       "  </tbody>\n",
       "</table>\n",
       "</div>"
      ],
      "text/plain": [
       "  function     m     n     k    timestamp  duration  node  core\n",
       "0    dgemm   378  7640  2427  3473.428414  0.485947    10     0\n",
       "1    dgemm   378  7640  2427  3473.914385  0.486129    10     0\n",
       "2    dgemm   378  7640  2427  3474.400522  0.486853    10     0\n",
       "3    dgemm  9441   640  1160  3474.887383  0.455139    10     0\n",
       "4    dgemm  9441   640  1160  3475.342530  0.453528    10     0"
      ]
     },
     "execution_count": 3,
     "metadata": {},
     "output_type": "execute_result"
    }
   ],
   "source": [
    "%time df = pandas.read_csv('/tmp/dgemm.csv')\n",
    "print(len(df))\n",
    "df.head()"
   ]
  },
  {
   "cell_type": "code",
   "execution_count": 4,
   "metadata": {},
   "outputs": [
    {
     "name": "stdout",
     "output_type": "stream",
     "text": [
      "CPU times: user 5.91 s, sys: 656 ms, total: 6.56 s\n",
      "Wall time: 6.56 s\n"
     ]
    }
   ],
   "source": [
    "%%time\n",
    "connection = sqlite3.connect('/tmp/dgemm.db')\n",
    "df.to_sql('mytable', connection, index=False)"
   ]
  },
  {
   "cell_type": "code",
   "execution_count": 5,
   "metadata": {},
   "outputs": [
    {
     "name": "stdout",
     "output_type": "stream",
     "text": [
      "250M\t/tmp/dgemm.csv\n",
      "215M\t/tmp/dgemm.db\n"
     ]
    }
   ],
   "source": [
    "!du -sh /tmp/dgemm*"
   ]
  },
  {
   "cell_type": "markdown",
   "metadata": {},
   "source": [
    "Interesting, we have saved some space by using a SQLite database, but not as much as I expected. Maybe there is some tuning to do.\n",
    "\n",
    "No, let's see how much time is needed to read from this database."
   ]
  },
  {
   "cell_type": "code",
   "execution_count": 6,
   "metadata": {},
   "outputs": [
    {
     "name": "stdout",
     "output_type": "stream",
     "text": [
      "CPU times: user 9.75 s, sys: 907 ms, total: 10.7 s\n",
      "Wall time: 10.7 s\n",
      "5004288\n"
     ]
    },
    {
     "data": {
      "text/html": [
       "<div>\n",
       "<style scoped>\n",
       "    .dataframe tbody tr th:only-of-type {\n",
       "        vertical-align: middle;\n",
       "    }\n",
       "\n",
       "    .dataframe tbody tr th {\n",
       "        vertical-align: top;\n",
       "    }\n",
       "\n",
       "    .dataframe thead th {\n",
       "        text-align: right;\n",
       "    }\n",
       "</style>\n",
       "<table border=\"1\" class=\"dataframe\">\n",
       "  <thead>\n",
       "    <tr style=\"text-align: right;\">\n",
       "      <th></th>\n",
       "      <th>function</th>\n",
       "      <th>m</th>\n",
       "      <th>n</th>\n",
       "      <th>k</th>\n",
       "      <th>timestamp</th>\n",
       "      <th>duration</th>\n",
       "      <th>node</th>\n",
       "      <th>core</th>\n",
       "    </tr>\n",
       "  </thead>\n",
       "  <tbody>\n",
       "    <tr>\n",
       "      <th>0</th>\n",
       "      <td>dgemm</td>\n",
       "      <td>378</td>\n",
       "      <td>7640</td>\n",
       "      <td>2427</td>\n",
       "      <td>3473.428414</td>\n",
       "      <td>0.485947</td>\n",
       "      <td>10</td>\n",
       "      <td>0</td>\n",
       "    </tr>\n",
       "    <tr>\n",
       "      <th>1</th>\n",
       "      <td>dgemm</td>\n",
       "      <td>378</td>\n",
       "      <td>7640</td>\n",
       "      <td>2427</td>\n",
       "      <td>3473.914385</td>\n",
       "      <td>0.486129</td>\n",
       "      <td>10</td>\n",
       "      <td>0</td>\n",
       "    </tr>\n",
       "    <tr>\n",
       "      <th>2</th>\n",
       "      <td>dgemm</td>\n",
       "      <td>378</td>\n",
       "      <td>7640</td>\n",
       "      <td>2427</td>\n",
       "      <td>3474.400522</td>\n",
       "      <td>0.486853</td>\n",
       "      <td>10</td>\n",
       "      <td>0</td>\n",
       "    </tr>\n",
       "    <tr>\n",
       "      <th>3</th>\n",
       "      <td>dgemm</td>\n",
       "      <td>9441</td>\n",
       "      <td>640</td>\n",
       "      <td>1160</td>\n",
       "      <td>3474.887383</td>\n",
       "      <td>0.455139</td>\n",
       "      <td>10</td>\n",
       "      <td>0</td>\n",
       "    </tr>\n",
       "    <tr>\n",
       "      <th>4</th>\n",
       "      <td>dgemm</td>\n",
       "      <td>9441</td>\n",
       "      <td>640</td>\n",
       "      <td>1160</td>\n",
       "      <td>3475.342530</td>\n",
       "      <td>0.453528</td>\n",
       "      <td>10</td>\n",
       "      <td>0</td>\n",
       "    </tr>\n",
       "  </tbody>\n",
       "</table>\n",
       "</div>"
      ],
      "text/plain": [
       "  function     m     n     k    timestamp  duration  node  core\n",
       "0    dgemm   378  7640  2427  3473.428414  0.485947    10     0\n",
       "1    dgemm   378  7640  2427  3473.914385  0.486129    10     0\n",
       "2    dgemm   378  7640  2427  3474.400522  0.486853    10     0\n",
       "3    dgemm  9441   640  1160  3474.887383  0.455139    10     0\n",
       "4    dgemm  9441   640  1160  3475.342530  0.453528    10     0"
      ]
     },
     "execution_count": 6,
     "metadata": {},
     "output_type": "execute_result"
    }
   ],
   "source": [
    "%time tmp = pandas.read_sql('select * from mytable', connection)\n",
    "print(len(tmp))\n",
    "tmp.head()"
   ]
  },
  {
   "cell_type": "markdown",
   "metadata": {},
   "source": [
    "Wow, reading from the database is nearly twice longer than reading from the CSV file. This feels weird. Let's see if we can at least have a low time by reading a subset."
   ]
  },
  {
   "cell_type": "code",
   "execution_count": 7,
   "metadata": {},
   "outputs": [
    {
     "name": "stdout",
     "output_type": "stream",
     "text": [
      "CPU times: user 1.88 s, sys: 124 ms, total: 2 s\n",
      "Wall time: 2 s\n",
      "5004288\n"
     ]
    },
    {
     "data": {
      "text/html": [
       "<div>\n",
       "<style scoped>\n",
       "    .dataframe tbody tr th:only-of-type {\n",
       "        vertical-align: middle;\n",
       "    }\n",
       "\n",
       "    .dataframe tbody tr th {\n",
       "        vertical-align: top;\n",
       "    }\n",
       "\n",
       "    .dataframe thead th {\n",
       "        text-align: right;\n",
       "    }\n",
       "</style>\n",
       "<table border=\"1\" class=\"dataframe\">\n",
       "  <thead>\n",
       "    <tr style=\"text-align: right;\">\n",
       "      <th></th>\n",
       "      <th>duration</th>\n",
       "    </tr>\n",
       "  </thead>\n",
       "  <tbody>\n",
       "    <tr>\n",
       "      <th>0</th>\n",
       "      <td>0.485947</td>\n",
       "    </tr>\n",
       "    <tr>\n",
       "      <th>1</th>\n",
       "      <td>0.486129</td>\n",
       "    </tr>\n",
       "    <tr>\n",
       "      <th>2</th>\n",
       "      <td>0.486853</td>\n",
       "    </tr>\n",
       "    <tr>\n",
       "      <th>3</th>\n",
       "      <td>0.455139</td>\n",
       "    </tr>\n",
       "    <tr>\n",
       "      <th>4</th>\n",
       "      <td>0.453528</td>\n",
       "    </tr>\n",
       "  </tbody>\n",
       "</table>\n",
       "</div>"
      ],
      "text/plain": [
       "   duration\n",
       "0  0.485947\n",
       "1  0.486129\n",
       "2  0.486853\n",
       "3  0.455139\n",
       "4  0.453528"
      ]
     },
     "execution_count": 7,
     "metadata": {},
     "output_type": "execute_result"
    }
   ],
   "source": [
    "%time tmp = pandas.read_sql('select duration from mytable', connection)\n",
    "print(len(tmp))\n",
    "tmp.head()"
   ]
  },
  {
   "cell_type": "code",
   "execution_count": 8,
   "metadata": {},
   "outputs": [
    {
     "name": "stdout",
     "output_type": "stream",
     "text": [
      "CPU times: user 482 ms, sys: 58.1 ms, total: 540 ms\n",
      "Wall time: 540 ms\n",
      "156384\n"
     ]
    },
    {
     "data": {
      "text/html": [
       "<div>\n",
       "<style scoped>\n",
       "    .dataframe tbody tr th:only-of-type {\n",
       "        vertical-align: middle;\n",
       "    }\n",
       "\n",
       "    .dataframe tbody tr th {\n",
       "        vertical-align: top;\n",
       "    }\n",
       "\n",
       "    .dataframe thead th {\n",
       "        text-align: right;\n",
       "    }\n",
       "</style>\n",
       "<table border=\"1\" class=\"dataframe\">\n",
       "  <thead>\n",
       "    <tr style=\"text-align: right;\">\n",
       "      <th></th>\n",
       "      <th>function</th>\n",
       "      <th>m</th>\n",
       "      <th>n</th>\n",
       "      <th>k</th>\n",
       "      <th>timestamp</th>\n",
       "      <th>duration</th>\n",
       "      <th>node</th>\n",
       "      <th>core</th>\n",
       "    </tr>\n",
       "  </thead>\n",
       "  <tbody>\n",
       "    <tr>\n",
       "      <th>0</th>\n",
       "      <td>dgemm</td>\n",
       "      <td>378</td>\n",
       "      <td>7640</td>\n",
       "      <td>2427</td>\n",
       "      <td>3485.569752</td>\n",
       "      <td>0.486023</td>\n",
       "      <td>20</td>\n",
       "      <td>0</td>\n",
       "    </tr>\n",
       "    <tr>\n",
       "      <th>1</th>\n",
       "      <td>dgemm</td>\n",
       "      <td>378</td>\n",
       "      <td>7640</td>\n",
       "      <td>2427</td>\n",
       "      <td>3486.055798</td>\n",
       "      <td>0.486281</td>\n",
       "      <td>20</td>\n",
       "      <td>0</td>\n",
       "    </tr>\n",
       "    <tr>\n",
       "      <th>2</th>\n",
       "      <td>dgemm</td>\n",
       "      <td>378</td>\n",
       "      <td>7640</td>\n",
       "      <td>2427</td>\n",
       "      <td>3486.542086</td>\n",
       "      <td>0.485554</td>\n",
       "      <td>20</td>\n",
       "      <td>0</td>\n",
       "    </tr>\n",
       "    <tr>\n",
       "      <th>3</th>\n",
       "      <td>dgemm</td>\n",
       "      <td>9441</td>\n",
       "      <td>640</td>\n",
       "      <td>1160</td>\n",
       "      <td>3487.027647</td>\n",
       "      <td>0.461661</td>\n",
       "      <td>20</td>\n",
       "      <td>0</td>\n",
       "    </tr>\n",
       "    <tr>\n",
       "      <th>4</th>\n",
       "      <td>dgemm</td>\n",
       "      <td>9441</td>\n",
       "      <td>640</td>\n",
       "      <td>1160</td>\n",
       "      <td>3487.489317</td>\n",
       "      <td>0.458144</td>\n",
       "      <td>20</td>\n",
       "      <td>0</td>\n",
       "    </tr>\n",
       "  </tbody>\n",
       "</table>\n",
       "</div>"
      ],
      "text/plain": [
       "  function     m     n     k    timestamp  duration  node  core\n",
       "0    dgemm   378  7640  2427  3485.569752  0.486023    20     0\n",
       "1    dgemm   378  7640  2427  3486.055798  0.486281    20     0\n",
       "2    dgemm   378  7640  2427  3486.542086  0.485554    20     0\n",
       "3    dgemm  9441   640  1160  3487.027647  0.461661    20     0\n",
       "4    dgemm  9441   640  1160  3487.489317  0.458144    20     0"
      ]
     },
     "execution_count": 8,
     "metadata": {},
     "output_type": "execute_result"
    }
   ],
   "source": [
    "%time tmp = pandas.read_sql('select * from mytable where node==20', connection)\n",
    "print(len(tmp))\n",
    "tmp.head()"
   ]
  },
  {
   "cell_type": "markdown",
   "metadata": {},
   "source": [
    "Good, we see the benefit of having a database here. With the CSV file, we would have to first read the whole CSV and then filter, which would be longer (since reading the CSV takes about 7s)."
   ]
  },
  {
   "cell_type": "code",
   "execution_count": 9,
   "metadata": {},
   "outputs": [],
   "source": [
    "connection.close()"
   ]
  },
  {
   "cell_type": "markdown",
   "metadata": {},
   "source": [
    "## A tentative to shrink the database\n",
    "\n",
    "Let's take **all** the parameters in their own table."
   ]
  },
  {
   "cell_type": "code",
   "execution_count": 10,
   "metadata": {},
   "outputs": [],
   "source": [
    "!rm /tmp/dgemm.db"
   ]
  },
  {
   "cell_type": "code",
   "execution_count": 11,
   "metadata": {},
   "outputs": [
    {
     "name": "stdout",
     "output_type": "stream",
     "text": [
      "5004288\n",
      "556032\n"
     ]
    }
   ],
   "source": [
    "def extract_parameters(df, parameters):\n",
    "    df_params = df[parameters].drop_duplicates()\n",
    "    df_params['parameters_id'] = range(len(df_params))\n",
    "    df = df.set_index(parameters).join(df_params.set_index(parameters)).reset_index()\n",
    "    df = df.drop(parameters, axis=1)\n",
    "    return df, df_params\n",
    "\n",
    "tmp_values, tmp_params = extract_parameters(df, ['function', 'm', 'n', 'k', 'node', 'core'])\n",
    "print(len(tmp_values))\n",
    "print(len(tmp_params))"
   ]
  },
  {
   "cell_type": "code",
   "execution_count": 12,
   "metadata": {},
   "outputs": [
    {
     "data": {
      "text/html": [
       "<div>\n",
       "<style scoped>\n",
       "    .dataframe tbody tr th:only-of-type {\n",
       "        vertical-align: middle;\n",
       "    }\n",
       "\n",
       "    .dataframe tbody tr th {\n",
       "        vertical-align: top;\n",
       "    }\n",
       "\n",
       "    .dataframe thead th {\n",
       "        text-align: right;\n",
       "    }\n",
       "</style>\n",
       "<table border=\"1\" class=\"dataframe\">\n",
       "  <thead>\n",
       "    <tr style=\"text-align: right;\">\n",
       "      <th></th>\n",
       "      <th>timestamp</th>\n",
       "      <th>duration</th>\n",
       "      <th>parameters_id</th>\n",
       "    </tr>\n",
       "  </thead>\n",
       "  <tbody>\n",
       "    <tr>\n",
       "      <th>0</th>\n",
       "      <td>3723.065742</td>\n",
       "      <td>1.432000e-06</td>\n",
       "      <td>451899</td>\n",
       "    </tr>\n",
       "    <tr>\n",
       "      <th>1</th>\n",
       "      <td>3723.065746</td>\n",
       "      <td>2.530000e-07</td>\n",
       "      <td>451899</td>\n",
       "    </tr>\n",
       "    <tr>\n",
       "      <th>2</th>\n",
       "      <td>3723.065748</td>\n",
       "      <td>1.830000e-07</td>\n",
       "      <td>451899</td>\n",
       "    </tr>\n",
       "    <tr>\n",
       "      <th>3</th>\n",
       "      <td>3906.877902</td>\n",
       "      <td>1.520000e-06</td>\n",
       "      <td>451899</td>\n",
       "    </tr>\n",
       "    <tr>\n",
       "      <th>4</th>\n",
       "      <td>3906.877906</td>\n",
       "      <td>2.890000e-07</td>\n",
       "      <td>451899</td>\n",
       "    </tr>\n",
       "  </tbody>\n",
       "</table>\n",
       "</div>"
      ],
      "text/plain": [
       "     timestamp      duration  parameters_id\n",
       "0  3723.065742  1.432000e-06         451899\n",
       "1  3723.065746  2.530000e-07         451899\n",
       "2  3723.065748  1.830000e-07         451899\n",
       "3  3906.877902  1.520000e-06         451899\n",
       "4  3906.877906  2.890000e-07         451899"
      ]
     },
     "execution_count": 12,
     "metadata": {},
     "output_type": "execute_result"
    }
   ],
   "source": [
    "tmp_values.head()"
   ]
  },
  {
   "cell_type": "code",
   "execution_count": 13,
   "metadata": {},
   "outputs": [
    {
     "data": {
      "text/html": [
       "<div>\n",
       "<style scoped>\n",
       "    .dataframe tbody tr th:only-of-type {\n",
       "        vertical-align: middle;\n",
       "    }\n",
       "\n",
       "    .dataframe tbody tr th {\n",
       "        vertical-align: top;\n",
       "    }\n",
       "\n",
       "    .dataframe thead th {\n",
       "        text-align: right;\n",
       "    }\n",
       "</style>\n",
       "<table border=\"1\" class=\"dataframe\">\n",
       "  <thead>\n",
       "    <tr style=\"text-align: right;\">\n",
       "      <th></th>\n",
       "      <th>function</th>\n",
       "      <th>m</th>\n",
       "      <th>n</th>\n",
       "      <th>k</th>\n",
       "      <th>node</th>\n",
       "      <th>core</th>\n",
       "      <th>parameters_id</th>\n",
       "    </tr>\n",
       "  </thead>\n",
       "  <tbody>\n",
       "    <tr>\n",
       "      <th>0</th>\n",
       "      <td>dgemm</td>\n",
       "      <td>378</td>\n",
       "      <td>7640</td>\n",
       "      <td>2427</td>\n",
       "      <td>10</td>\n",
       "      <td>0</td>\n",
       "      <td>0</td>\n",
       "    </tr>\n",
       "    <tr>\n",
       "      <th>3</th>\n",
       "      <td>dgemm</td>\n",
       "      <td>9441</td>\n",
       "      <td>640</td>\n",
       "      <td>1160</td>\n",
       "      <td>10</td>\n",
       "      <td>0</td>\n",
       "      <td>1</td>\n",
       "    </tr>\n",
       "    <tr>\n",
       "      <th>6</th>\n",
       "      <td>dgemm</td>\n",
       "      <td>1041</td>\n",
       "      <td>2183</td>\n",
       "      <td>735</td>\n",
       "      <td>10</td>\n",
       "      <td>0</td>\n",
       "      <td>2</td>\n",
       "    </tr>\n",
       "    <tr>\n",
       "      <th>9</th>\n",
       "      <td>dgemm</td>\n",
       "      <td>1248</td>\n",
       "      <td>1343</td>\n",
       "      <td>1991</td>\n",
       "      <td>10</td>\n",
       "      <td>0</td>\n",
       "      <td>3</td>\n",
       "    </tr>\n",
       "    <tr>\n",
       "      <th>12</th>\n",
       "      <td>dgemm</td>\n",
       "      <td>642</td>\n",
       "      <td>6716</td>\n",
       "      <td>1313</td>\n",
       "      <td>10</td>\n",
       "      <td>0</td>\n",
       "      <td>4</td>\n",
       "    </tr>\n",
       "  </tbody>\n",
       "</table>\n",
       "</div>"
      ],
      "text/plain": [
       "   function     m     n     k  node  core  parameters_id\n",
       "0     dgemm   378  7640  2427    10     0              0\n",
       "3     dgemm  9441   640  1160    10     0              1\n",
       "6     dgemm  1041  2183   735    10     0              2\n",
       "9     dgemm  1248  1343  1991    10     0              3\n",
       "12    dgemm   642  6716  1313    10     0              4"
      ]
     },
     "execution_count": 13,
     "metadata": {},
     "output_type": "execute_result"
    }
   ],
   "source": [
    "tmp_params.head()"
   ]
  },
  {
   "cell_type": "code",
   "execution_count": 14,
   "metadata": {},
   "outputs": [
    {
     "name": "stdout",
     "output_type": "stream",
     "text": [
      "CPU times: user 4.51 s, sys: 149 ms, total: 4.65 s\n",
      "Wall time: 4.65 s\n"
     ]
    }
   ],
   "source": [
    "%%time\n",
    "connection = sqlite3.connect('/tmp/dgemm.db')\n",
    "tmp_values.to_sql('exp_values', connection, index=False)\n",
    "tmp_params.to_sql('exp_parameters', connection, index=False)"
   ]
  },
  {
   "cell_type": "code",
   "execution_count": 15,
   "metadata": {},
   "outputs": [
    {
     "name": "stdout",
     "output_type": "stream",
     "text": [
      "250M\t/tmp/dgemm.csv\n",
      "159M\t/tmp/dgemm.db\n"
     ]
    }
   ],
   "source": [
    "!du -sh /tmp/dgemm*"
   ]
  },
  {
   "cell_type": "markdown",
   "metadata": {},
   "source": [
    "We see that moving the parameters in their own table helped a bit, good."
   ]
  },
  {
   "cell_type": "code",
   "execution_count": 16,
   "metadata": {},
   "outputs": [
    {
     "name": "stdout",
     "output_type": "stream",
     "text": [
      "CPU times: user 14.3 s, sys: 1.52 s, total: 15.8 s\n",
      "Wall time: 15.8 s\n",
      "5004288\n"
     ]
    },
    {
     "data": {
      "text/html": [
       "<div>\n",
       "<style scoped>\n",
       "    .dataframe tbody tr th:only-of-type {\n",
       "        vertical-align: middle;\n",
       "    }\n",
       "\n",
       "    .dataframe tbody tr th {\n",
       "        vertical-align: top;\n",
       "    }\n",
       "\n",
       "    .dataframe thead th {\n",
       "        text-align: right;\n",
       "    }\n",
       "</style>\n",
       "<table border=\"1\" class=\"dataframe\">\n",
       "  <thead>\n",
       "    <tr style=\"text-align: right;\">\n",
       "      <th></th>\n",
       "      <th>timestamp</th>\n",
       "      <th>duration</th>\n",
       "      <th>parameters_id</th>\n",
       "      <th>function</th>\n",
       "      <th>m</th>\n",
       "      <th>n</th>\n",
       "      <th>k</th>\n",
       "      <th>node</th>\n",
       "      <th>core</th>\n",
       "      <th>parameters_id</th>\n",
       "    </tr>\n",
       "  </thead>\n",
       "  <tbody>\n",
       "    <tr>\n",
       "      <th>0</th>\n",
       "      <td>3723.065742</td>\n",
       "      <td>1.432000e-06</td>\n",
       "      <td>451899</td>\n",
       "      <td>dgemm</td>\n",
       "      <td>1</td>\n",
       "      <td>1</td>\n",
       "      <td>1</td>\n",
       "      <td>1</td>\n",
       "      <td>0</td>\n",
       "      <td>451899</td>\n",
       "    </tr>\n",
       "    <tr>\n",
       "      <th>1</th>\n",
       "      <td>3723.065746</td>\n",
       "      <td>2.530000e-07</td>\n",
       "      <td>451899</td>\n",
       "      <td>dgemm</td>\n",
       "      <td>1</td>\n",
       "      <td>1</td>\n",
       "      <td>1</td>\n",
       "      <td>1</td>\n",
       "      <td>0</td>\n",
       "      <td>451899</td>\n",
       "    </tr>\n",
       "    <tr>\n",
       "      <th>2</th>\n",
       "      <td>3723.065748</td>\n",
       "      <td>1.830000e-07</td>\n",
       "      <td>451899</td>\n",
       "      <td>dgemm</td>\n",
       "      <td>1</td>\n",
       "      <td>1</td>\n",
       "      <td>1</td>\n",
       "      <td>1</td>\n",
       "      <td>0</td>\n",
       "      <td>451899</td>\n",
       "    </tr>\n",
       "    <tr>\n",
       "      <th>3</th>\n",
       "      <td>3906.877902</td>\n",
       "      <td>1.520000e-06</td>\n",
       "      <td>451899</td>\n",
       "      <td>dgemm</td>\n",
       "      <td>1</td>\n",
       "      <td>1</td>\n",
       "      <td>1</td>\n",
       "      <td>1</td>\n",
       "      <td>0</td>\n",
       "      <td>451899</td>\n",
       "    </tr>\n",
       "    <tr>\n",
       "      <th>4</th>\n",
       "      <td>3906.877906</td>\n",
       "      <td>2.890000e-07</td>\n",
       "      <td>451899</td>\n",
       "      <td>dgemm</td>\n",
       "      <td>1</td>\n",
       "      <td>1</td>\n",
       "      <td>1</td>\n",
       "      <td>1</td>\n",
       "      <td>0</td>\n",
       "      <td>451899</td>\n",
       "    </tr>\n",
       "  </tbody>\n",
       "</table>\n",
       "</div>"
      ],
      "text/plain": [
       "     timestamp      duration  parameters_id function  m  n  k  node  core  \\\n",
       "0  3723.065742  1.432000e-06         451899    dgemm  1  1  1     1     0   \n",
       "1  3723.065746  2.530000e-07         451899    dgemm  1  1  1     1     0   \n",
       "2  3723.065748  1.830000e-07         451899    dgemm  1  1  1     1     0   \n",
       "3  3906.877902  1.520000e-06         451899    dgemm  1  1  1     1     0   \n",
       "4  3906.877906  2.890000e-07         451899    dgemm  1  1  1     1     0   \n",
       "\n",
       "   parameters_id  \n",
       "0         451899  \n",
       "1         451899  \n",
       "2         451899  \n",
       "3         451899  \n",
       "4         451899  "
      ]
     },
     "execution_count": 16,
     "metadata": {},
     "output_type": "execute_result"
    }
   ],
   "source": [
    "%time tmp = pandas.read_sql('select * from exp_values inner join exp_parameters on exp_values.parameters_id = exp_parameters.parameters_id', connection)\n",
    "print(len(tmp))\n",
    "tmp.head()"
   ]
  },
  {
   "cell_type": "markdown",
   "metadata": {},
   "source": [
    "Sadly, reading the table takes longer..."
   ]
  },
  {
   "cell_type": "code",
   "execution_count": 17,
   "metadata": {},
   "outputs": [
    {
     "name": "stdout",
     "output_type": "stream",
     "text": [
      "CPU times: user 3.33 s, sys: 450 ms, total: 3.78 s\n",
      "Wall time: 3.78 s\n",
      "5004288\n"
     ]
    },
    {
     "data": {
      "text/html": [
       "<div>\n",
       "<style scoped>\n",
       "    .dataframe tbody tr th:only-of-type {\n",
       "        vertical-align: middle;\n",
       "    }\n",
       "\n",
       "    .dataframe tbody tr th {\n",
       "        vertical-align: top;\n",
       "    }\n",
       "\n",
       "    .dataframe thead th {\n",
       "        text-align: right;\n",
       "    }\n",
       "</style>\n",
       "<table border=\"1\" class=\"dataframe\">\n",
       "  <thead>\n",
       "    <tr style=\"text-align: right;\">\n",
       "      <th></th>\n",
       "      <th>duration</th>\n",
       "    </tr>\n",
       "  </thead>\n",
       "  <tbody>\n",
       "    <tr>\n",
       "      <th>0</th>\n",
       "      <td>1.432000e-06</td>\n",
       "    </tr>\n",
       "    <tr>\n",
       "      <th>1</th>\n",
       "      <td>2.530000e-07</td>\n",
       "    </tr>\n",
       "    <tr>\n",
       "      <th>2</th>\n",
       "      <td>1.830000e-07</td>\n",
       "    </tr>\n",
       "    <tr>\n",
       "      <th>3</th>\n",
       "      <td>1.520000e-06</td>\n",
       "    </tr>\n",
       "    <tr>\n",
       "      <th>4</th>\n",
       "      <td>2.890000e-07</td>\n",
       "    </tr>\n",
       "  </tbody>\n",
       "</table>\n",
       "</div>"
      ],
      "text/plain": [
       "       duration\n",
       "0  1.432000e-06\n",
       "1  2.530000e-07\n",
       "2  1.830000e-07\n",
       "3  1.520000e-06\n",
       "4  2.890000e-07"
      ]
     },
     "execution_count": 17,
     "metadata": {},
     "output_type": "execute_result"
    }
   ],
   "source": [
    "%time tmp = pandas.read_sql('select duration from exp_values inner join exp_parameters on exp_values.parameters_id = exp_parameters.parameters_id', connection)\n",
    "print(len(tmp))\n",
    "tmp.head()"
   ]
  },
  {
   "cell_type": "code",
   "execution_count": 18,
   "metadata": {},
   "outputs": [
    {
     "name": "stdout",
     "output_type": "stream",
     "text": [
      "CPU times: user 3.93 s, sys: 2.83 s, total: 6.76 s\n",
      "Wall time: 6.78 s\n",
      "156384\n"
     ]
    },
    {
     "data": {
      "text/html": [
       "<div>\n",
       "<style scoped>\n",
       "    .dataframe tbody tr th:only-of-type {\n",
       "        vertical-align: middle;\n",
       "    }\n",
       "\n",
       "    .dataframe tbody tr th {\n",
       "        vertical-align: top;\n",
       "    }\n",
       "\n",
       "    .dataframe thead th {\n",
       "        text-align: right;\n",
       "    }\n",
       "</style>\n",
       "<table border=\"1\" class=\"dataframe\">\n",
       "  <thead>\n",
       "    <tr style=\"text-align: right;\">\n",
       "      <th></th>\n",
       "      <th>timestamp</th>\n",
       "      <th>duration</th>\n",
       "      <th>parameters_id</th>\n",
       "      <th>function</th>\n",
       "      <th>m</th>\n",
       "      <th>n</th>\n",
       "      <th>k</th>\n",
       "      <th>node</th>\n",
       "      <th>core</th>\n",
       "      <th>parameters_id</th>\n",
       "    </tr>\n",
       "  </thead>\n",
       "  <tbody>\n",
       "    <tr>\n",
       "      <th>0</th>\n",
       "      <td>3485.569752</td>\n",
       "      <td>0.486023</td>\n",
       "      <td>191136</td>\n",
       "      <td>dgemm</td>\n",
       "      <td>378</td>\n",
       "      <td>7640</td>\n",
       "      <td>2427</td>\n",
       "      <td>20</td>\n",
       "      <td>0</td>\n",
       "      <td>191136</td>\n",
       "    </tr>\n",
       "    <tr>\n",
       "      <th>1</th>\n",
       "      <td>3486.055798</td>\n",
       "      <td>0.486281</td>\n",
       "      <td>191136</td>\n",
       "      <td>dgemm</td>\n",
       "      <td>378</td>\n",
       "      <td>7640</td>\n",
       "      <td>2427</td>\n",
       "      <td>20</td>\n",
       "      <td>0</td>\n",
       "      <td>191136</td>\n",
       "    </tr>\n",
       "    <tr>\n",
       "      <th>2</th>\n",
       "      <td>3486.542086</td>\n",
       "      <td>0.485554</td>\n",
       "      <td>191136</td>\n",
       "      <td>dgemm</td>\n",
       "      <td>378</td>\n",
       "      <td>7640</td>\n",
       "      <td>2427</td>\n",
       "      <td>20</td>\n",
       "      <td>0</td>\n",
       "      <td>191136</td>\n",
       "    </tr>\n",
       "    <tr>\n",
       "      <th>3</th>\n",
       "      <td>4593.538610</td>\n",
       "      <td>0.486360</td>\n",
       "      <td>191136</td>\n",
       "      <td>dgemm</td>\n",
       "      <td>378</td>\n",
       "      <td>7640</td>\n",
       "      <td>2427</td>\n",
       "      <td>20</td>\n",
       "      <td>0</td>\n",
       "      <td>191136</td>\n",
       "    </tr>\n",
       "    <tr>\n",
       "      <th>4</th>\n",
       "      <td>4594.024977</td>\n",
       "      <td>0.486772</td>\n",
       "      <td>191136</td>\n",
       "      <td>dgemm</td>\n",
       "      <td>378</td>\n",
       "      <td>7640</td>\n",
       "      <td>2427</td>\n",
       "      <td>20</td>\n",
       "      <td>0</td>\n",
       "      <td>191136</td>\n",
       "    </tr>\n",
       "  </tbody>\n",
       "</table>\n",
       "</div>"
      ],
      "text/plain": [
       "     timestamp  duration  parameters_id function    m     n     k  node  core  \\\n",
       "0  3485.569752  0.486023         191136    dgemm  378  7640  2427    20     0   \n",
       "1  3486.055798  0.486281         191136    dgemm  378  7640  2427    20     0   \n",
       "2  3486.542086  0.485554         191136    dgemm  378  7640  2427    20     0   \n",
       "3  4593.538610  0.486360         191136    dgemm  378  7640  2427    20     0   \n",
       "4  4594.024977  0.486772         191136    dgemm  378  7640  2427    20     0   \n",
       "\n",
       "   parameters_id  \n",
       "0         191136  \n",
       "1         191136  \n",
       "2         191136  \n",
       "3         191136  \n",
       "4         191136  "
      ]
     },
     "execution_count": 18,
     "metadata": {},
     "output_type": "execute_result"
    }
   ],
   "source": [
    "%time tmp = pandas.read_sql('select * from exp_values inner join exp_parameters on exp_values.parameters_id = exp_parameters.parameters_id where node == 20', connection)\n",
    "print(len(tmp))\n",
    "tmp.head()"
   ]
  },
  {
   "cell_type": "markdown",
   "metadata": {},
   "source": [
    "Wow, these durations are crazy. I must be doing something wrong.\n",
    "\n",
    "## A tentative to shrink the database: using keys and index\n",
    "\n",
    "Note: we cannot do the table creation directly with Pandas, we have to run the SQL queries ourselves."
   ]
  },
  {
   "cell_type": "code",
   "execution_count": 19,
   "metadata": {},
   "outputs": [],
   "source": [
    "!rm /tmp/dgemm.db"
   ]
  },
  {
   "cell_type": "code",
   "execution_count": 20,
   "metadata": {},
   "outputs": [
    {
     "data": {
      "text/plain": [
       "<sqlite3.Cursor at 0x7fbccbd84f10>"
      ]
     },
     "execution_count": 20,
     "metadata": {},
     "output_type": "execute_result"
    }
   ],
   "source": [
    "connection = sqlite3.connect('/tmp/dgemm.db')\n",
    "cursor = connection.cursor()\n",
    "cursor.execute('''\n",
    "CREATE TABLE IF NOT EXISTS \"exp_parameters\" (\n",
    "\"function\" TEXT,\n",
    "  m INTEGER,\n",
    "  n INTEGER,\n",
    "  k INTEGER,\n",
    "  node INTEGER,\n",
    "  core INTEGER,\n",
    "  parameters_id INTEGER PRIMARY KEY\n",
    ")''')\n",
    "cursor.execute('''\n",
    "CREATE TABLE IF NOT EXISTS \"exp_values\" (\n",
    "  timestamp REAL,\n",
    "  duration REAL,\n",
    "  parameters_id INTEGER,\n",
    "  FOREIGN KEY(parameters_id) REFERENCES exp_parameters(parameters_id)\n",
    ")''')\n",
    "cursor.execute('''\n",
    "CREATE INDEX parameters_index\n",
    "    ON exp_values(parameters_id)\n",
    "''')"
   ]
  },
  {
   "cell_type": "code",
   "execution_count": 21,
   "metadata": {},
   "outputs": [
    {
     "name": "stdout",
     "output_type": "stream",
     "text": [
      "CPU times: user 7.6 s, sys: 2.15 s, total: 9.75 s\n",
      "Wall time: 9.75 s\n"
     ]
    }
   ],
   "source": [
    "%%time\n",
    "connection = sqlite3.connect('/tmp/dgemm.db')\n",
    "tmp_values.to_sql('exp_values', connection, index=False, if_exists='append')\n",
    "tmp_params.to_sql('exp_parameters', connection, index=False, if_exists='append')"
   ]
  },
  {
   "cell_type": "code",
   "execution_count": 22,
   "metadata": {},
   "outputs": [
    {
     "name": "stdout",
     "output_type": "stream",
     "text": [
      "250M\t/tmp/dgemm.csv\n",
      "221M\t/tmp/dgemm.db\n"
     ]
    }
   ],
   "source": [
    "!du -sh /tmp/dgemm*"
   ]
  },
  {
   "cell_type": "code",
   "execution_count": 23,
   "metadata": {},
   "outputs": [
    {
     "name": "stdout",
     "output_type": "stream",
     "text": [
      "CPU times: user 12.9 s, sys: 1.56 s, total: 14.5 s\n",
      "Wall time: 14.5 s\n",
      "5004288\n"
     ]
    },
    {
     "data": {
      "text/html": [
       "<div>\n",
       "<style scoped>\n",
       "    .dataframe tbody tr th:only-of-type {\n",
       "        vertical-align: middle;\n",
       "    }\n",
       "\n",
       "    .dataframe tbody tr th {\n",
       "        vertical-align: top;\n",
       "    }\n",
       "\n",
       "    .dataframe thead th {\n",
       "        text-align: right;\n",
       "    }\n",
       "</style>\n",
       "<table border=\"1\" class=\"dataframe\">\n",
       "  <thead>\n",
       "    <tr style=\"text-align: right;\">\n",
       "      <th></th>\n",
       "      <th>timestamp</th>\n",
       "      <th>duration</th>\n",
       "      <th>parameters_id</th>\n",
       "      <th>function</th>\n",
       "      <th>m</th>\n",
       "      <th>n</th>\n",
       "      <th>k</th>\n",
       "      <th>node</th>\n",
       "      <th>core</th>\n",
       "      <th>parameters_id</th>\n",
       "    </tr>\n",
       "  </thead>\n",
       "  <tbody>\n",
       "    <tr>\n",
       "      <th>0</th>\n",
       "      <td>3723.065742</td>\n",
       "      <td>1.432000e-06</td>\n",
       "      <td>451899</td>\n",
       "      <td>dgemm</td>\n",
       "      <td>1</td>\n",
       "      <td>1</td>\n",
       "      <td>1</td>\n",
       "      <td>1</td>\n",
       "      <td>0</td>\n",
       "      <td>451899</td>\n",
       "    </tr>\n",
       "    <tr>\n",
       "      <th>1</th>\n",
       "      <td>3723.065746</td>\n",
       "      <td>2.530000e-07</td>\n",
       "      <td>451899</td>\n",
       "      <td>dgemm</td>\n",
       "      <td>1</td>\n",
       "      <td>1</td>\n",
       "      <td>1</td>\n",
       "      <td>1</td>\n",
       "      <td>0</td>\n",
       "      <td>451899</td>\n",
       "    </tr>\n",
       "    <tr>\n",
       "      <th>2</th>\n",
       "      <td>3723.065748</td>\n",
       "      <td>1.830000e-07</td>\n",
       "      <td>451899</td>\n",
       "      <td>dgemm</td>\n",
       "      <td>1</td>\n",
       "      <td>1</td>\n",
       "      <td>1</td>\n",
       "      <td>1</td>\n",
       "      <td>0</td>\n",
       "      <td>451899</td>\n",
       "    </tr>\n",
       "    <tr>\n",
       "      <th>3</th>\n",
       "      <td>3906.877902</td>\n",
       "      <td>1.520000e-06</td>\n",
       "      <td>451899</td>\n",
       "      <td>dgemm</td>\n",
       "      <td>1</td>\n",
       "      <td>1</td>\n",
       "      <td>1</td>\n",
       "      <td>1</td>\n",
       "      <td>0</td>\n",
       "      <td>451899</td>\n",
       "    </tr>\n",
       "    <tr>\n",
       "      <th>4</th>\n",
       "      <td>3906.877906</td>\n",
       "      <td>2.890000e-07</td>\n",
       "      <td>451899</td>\n",
       "      <td>dgemm</td>\n",
       "      <td>1</td>\n",
       "      <td>1</td>\n",
       "      <td>1</td>\n",
       "      <td>1</td>\n",
       "      <td>0</td>\n",
       "      <td>451899</td>\n",
       "    </tr>\n",
       "  </tbody>\n",
       "</table>\n",
       "</div>"
      ],
      "text/plain": [
       "     timestamp      duration  parameters_id function  m  n  k  node  core  \\\n",
       "0  3723.065742  1.432000e-06         451899    dgemm  1  1  1     1     0   \n",
       "1  3723.065746  2.530000e-07         451899    dgemm  1  1  1     1     0   \n",
       "2  3723.065748  1.830000e-07         451899    dgemm  1  1  1     1     0   \n",
       "3  3906.877902  1.520000e-06         451899    dgemm  1  1  1     1     0   \n",
       "4  3906.877906  2.890000e-07         451899    dgemm  1  1  1     1     0   \n",
       "\n",
       "   parameters_id  \n",
       "0         451899  \n",
       "1         451899  \n",
       "2         451899  \n",
       "3         451899  \n",
       "4         451899  "
      ]
     },
     "execution_count": 23,
     "metadata": {},
     "output_type": "execute_result"
    }
   ],
   "source": [
    "%time tmp = pandas.read_sql('select * from exp_values inner join exp_parameters on exp_values.parameters_id = exp_parameters.parameters_id', connection)\n",
    "print(len(tmp))\n",
    "tmp.head()"
   ]
  },
  {
   "cell_type": "code",
   "execution_count": 24,
   "metadata": {},
   "outputs": [
    {
     "name": "stdout",
     "output_type": "stream",
     "text": [
      "CPU times: user 451 ms, sys: 26.9 ms, total: 478 ms\n",
      "Wall time: 477 ms\n",
      "156384\n"
     ]
    },
    {
     "data": {
      "text/html": [
       "<div>\n",
       "<style scoped>\n",
       "    .dataframe tbody tr th:only-of-type {\n",
       "        vertical-align: middle;\n",
       "    }\n",
       "\n",
       "    .dataframe tbody tr th {\n",
       "        vertical-align: top;\n",
       "    }\n",
       "\n",
       "    .dataframe thead th {\n",
       "        text-align: right;\n",
       "    }\n",
       "</style>\n",
       "<table border=\"1\" class=\"dataframe\">\n",
       "  <thead>\n",
       "    <tr style=\"text-align: right;\">\n",
       "      <th></th>\n",
       "      <th>timestamp</th>\n",
       "      <th>duration</th>\n",
       "      <th>parameters_id</th>\n",
       "      <th>function</th>\n",
       "      <th>m</th>\n",
       "      <th>n</th>\n",
       "      <th>k</th>\n",
       "      <th>node</th>\n",
       "      <th>core</th>\n",
       "      <th>parameters_id</th>\n",
       "    </tr>\n",
       "  </thead>\n",
       "  <tbody>\n",
       "    <tr>\n",
       "      <th>0</th>\n",
       "      <td>3485.569752</td>\n",
       "      <td>0.486023</td>\n",
       "      <td>191136</td>\n",
       "      <td>dgemm</td>\n",
       "      <td>378</td>\n",
       "      <td>7640</td>\n",
       "      <td>2427</td>\n",
       "      <td>20</td>\n",
       "      <td>0</td>\n",
       "      <td>191136</td>\n",
       "    </tr>\n",
       "    <tr>\n",
       "      <th>1</th>\n",
       "      <td>3486.055798</td>\n",
       "      <td>0.486281</td>\n",
       "      <td>191136</td>\n",
       "      <td>dgemm</td>\n",
       "      <td>378</td>\n",
       "      <td>7640</td>\n",
       "      <td>2427</td>\n",
       "      <td>20</td>\n",
       "      <td>0</td>\n",
       "      <td>191136</td>\n",
       "    </tr>\n",
       "    <tr>\n",
       "      <th>2</th>\n",
       "      <td>3486.542086</td>\n",
       "      <td>0.485554</td>\n",
       "      <td>191136</td>\n",
       "      <td>dgemm</td>\n",
       "      <td>378</td>\n",
       "      <td>7640</td>\n",
       "      <td>2427</td>\n",
       "      <td>20</td>\n",
       "      <td>0</td>\n",
       "      <td>191136</td>\n",
       "    </tr>\n",
       "    <tr>\n",
       "      <th>3</th>\n",
       "      <td>4593.538610</td>\n",
       "      <td>0.486360</td>\n",
       "      <td>191136</td>\n",
       "      <td>dgemm</td>\n",
       "      <td>378</td>\n",
       "      <td>7640</td>\n",
       "      <td>2427</td>\n",
       "      <td>20</td>\n",
       "      <td>0</td>\n",
       "      <td>191136</td>\n",
       "    </tr>\n",
       "    <tr>\n",
       "      <th>4</th>\n",
       "      <td>4594.024977</td>\n",
       "      <td>0.486772</td>\n",
       "      <td>191136</td>\n",
       "      <td>dgemm</td>\n",
       "      <td>378</td>\n",
       "      <td>7640</td>\n",
       "      <td>2427</td>\n",
       "      <td>20</td>\n",
       "      <td>0</td>\n",
       "      <td>191136</td>\n",
       "    </tr>\n",
       "  </tbody>\n",
       "</table>\n",
       "</div>"
      ],
      "text/plain": [
       "     timestamp  duration  parameters_id function    m     n     k  node  core  \\\n",
       "0  3485.569752  0.486023         191136    dgemm  378  7640  2427    20     0   \n",
       "1  3486.055798  0.486281         191136    dgemm  378  7640  2427    20     0   \n",
       "2  3486.542086  0.485554         191136    dgemm  378  7640  2427    20     0   \n",
       "3  4593.538610  0.486360         191136    dgemm  378  7640  2427    20     0   \n",
       "4  4594.024977  0.486772         191136    dgemm  378  7640  2427    20     0   \n",
       "\n",
       "   parameters_id  \n",
       "0         191136  \n",
       "1         191136  \n",
       "2         191136  \n",
       "3         191136  \n",
       "4         191136  "
      ]
     },
     "execution_count": 24,
     "metadata": {},
     "output_type": "execute_result"
    }
   ],
   "source": [
    "%time tmp = pandas.read_sql('select * from exp_values inner join exp_parameters on exp_values.parameters_id = exp_parameters.parameters_id where node == 20', connection)\n",
    "print(len(tmp))\n",
    "tmp.head()"
   ]
  },
  {
   "cell_type": "markdown",
   "metadata": {},
   "source": [
    "This is better, but we are still worse than the single-table case when we select everything. Also, note the important increase of storage space."
   ]
  }
 ],
 "metadata": {
  "kernelspec": {
   "display_name": "Python 3",
   "language": "python",
   "name": "python3"
  },
  "language_info": {
   "codemirror_mode": {
    "name": "ipython",
    "version": 3
   },
   "file_extension": ".py",
   "mimetype": "text/x-python",
   "name": "python",
   "nbconvert_exporter": "python",
   "pygments_lexer": "ipython3",
   "version": "3.6.8"
  }
 },
 "nbformat": 4,
 "nbformat_minor": 2
}
