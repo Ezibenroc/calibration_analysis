{
 "cells": [
  {
   "cell_type": "markdown",
   "metadata": {},
   "source": [
    "# Dgemm model generation\n",
    "\n",
    "In this notebook, we take an existing dgemm model from an old zip archive and modify it to create new models (with higher and lower variability)."
   ]
  },
  {
   "cell_type": "code",
   "execution_count": 1,
   "metadata": {},
   "outputs": [
    {
     "name": "stdout",
     "output_type": "stream",
     "text": [
      "78820b4f0219eadb81dfeb33f40f4714c2b3b64c7ee6f7ef9a74b77b138cd039  /tmp/dgemm.yaml\n"
     ]
    }
   ],
   "source": [
    "!unzip -p factor_exp/2/grenoble_2020-01-16_1909229.zip dgemm_128.yaml > /tmp/dgemm.yaml\n",
    "!sha256sum /tmp/dgemm.yaml"
   ]
  },
  {
   "cell_type": "code",
   "execution_count": 2,
   "metadata": {},
   "outputs": [
    {
     "data": {
      "text/plain": [
       "{'cluster': 'dahu',\n",
       " 'experiment_date': '2020-01-14 09:08:32',\n",
       " 'expfile_hash': '84746a24489a46f4cf7b4c6accf8d5540c9001dc1d4ab054622612039adb8d68',\n",
       " 'function': 'dgemm',\n",
       " 'jobid': 1908315}"
      ]
     },
     "execution_count": 2,
     "metadata": {},
     "output_type": "execute_result"
    }
   ],
   "source": [
    "import yaml\n",
    "import copy\n",
    "import datetime\n",
    "\n",
    "with open('/tmp/dgemm.yaml') as f:\n",
    "    model = yaml.load(f, Loader=yaml.SafeLoader)\n",
    "model['info']"
   ]
  },
  {
   "cell_type": "code",
   "execution_count": 3,
   "metadata": {},
   "outputs": [
    {
     "data": {
      "text/plain": [
       "{'archive_file': '../mpi_calibration/dahu/blas/block_size/6/grenoble_2020-01-14_1908315.zip',\n",
       " 'cashew_git': 'ca8a64e6735b60bc60c49342320befcdeaf55f90',\n",
       " 'file_creation_date': '2020-01-16 17:03:53.485894'}"
      ]
     },
     "execution_count": 3,
     "metadata": {},
     "output_type": "execute_result"
    }
   ],
   "source": [
    "model['metadata']"
   ]
  },
  {
   "cell_type": "code",
   "execution_count": 4,
   "metadata": {},
   "outputs": [
    {
     "data": {
      "text/plain": [
       "[{'avg_gflops': 27.791429198588983,\n",
       "  'cpu': 0,\n",
       "  'cpu_id': 2,\n",
       "  'intercept': 2.3131041666666666e-06,\n",
       "  'intercept_residual': 2.502215256002448e-07,\n",
       "  'mk': 1.548172812203589e-09,\n",
       "  'mk_residual': 2.954739221845529e-11,\n",
       "  'mn': -2.607011073797494e-11,\n",
       "  'mn_residual': -1.7276391852417193e-11,\n",
       "  'mnk': 7.109456643397961e-11,\n",
       "  'mnk_residual': 3.094747443316429e-13,\n",
       "  'nk': 4.708826525721923e-09,\n",
       "  'nk_residual': -7.705694556409434e-11,\n",
       "  'node': 1,\n",
       "  'tvalue_mk': 2.2326711115763165,\n",
       "  'tvalue_mk_residual': 0.1861172248510929,\n",
       "  'tvalue_mn': -0.30938859812470476,\n",
       "  'tvalue_mn_residual': -0.8955226383620872,\n",
       "  'tvalue_mnk': 91.04221458652901,\n",
       "  'tvalue_mnk_residual': 1.7309866186048979,\n",
       "  'tvalue_nk': 6.790754152593327,\n",
       "  'tvalue_nk_residual': -0.48537700917420395},\n",
       " {'avg_gflops': 29.089353709306522,\n",
       "  'cpu': 1,\n",
       "  'cpu_id': 3,\n",
       "  'intercept': 2.2221875e-06,\n",
       "  'intercept_residual': 4.6807654175550695e-07,\n",
       "  'mk': 1.493565993389137e-09,\n",
       "  'mk_residual': 9.174467832725285e-11,\n",
       "  'mn': -2.42814061378926e-11,\n",
       "  'mn_residual': -3.116296605859093e-11,\n",
       "  'mnk': 6.794373389299325e-11,\n",
       "  'mnk_residual': 4.980274290760683e-13,\n",
       "  'nk': 4.342368904102775e-09,\n",
       "  'nk_residual': -2.5523175949297286e-10,\n",
       "  'node': 1,\n",
       "  'tvalue_mk': 2.216808605129266,\n",
       "  'tvalue_mk_residual': 0.7094735762777518,\n",
       "  'tvalue_mn': -0.29657444551548523,\n",
       "  'tvalue_mn_residual': -1.9831256948117313,\n",
       "  'tvalue_mnk': 89.54766763103304,\n",
       "  'tvalue_mnk_residual': 3.419870743436546,\n",
       "  'tvalue_nk': 6.445112432840952,\n",
       "  'tvalue_nk_residual': -1.973740520853213}]"
      ]
     },
     "execution_count": 4,
     "metadata": {},
     "output_type": "execute_result"
    }
   ],
   "source": [
    "model['model'][:2]"
   ]
  },
  {
   "cell_type": "code",
   "execution_count": 5,
   "metadata": {},
   "outputs": [],
   "source": [
    "def apply_factor_cpu(cpu_model, factor):\n",
    "    for key, value in cpu_model.items():\n",
    "        if key.endswith('_residual'):\n",
    "            other = key[:-len('_residual')]\n",
    "            cpu_model[key] = cpu_model[other] * factor\n",
    "\n",
    "def apply_factor(model, factor):\n",
    "    for cpu_model in model['model']:\n",
    "        apply_factor_cpu(cpu_model, factor)\n",
    "    model['metadata']['comment'] = 'Modified the residuals to have a coefficient of variation of %e' % factor\n",
    "    model['metadata']['file_creation_date'] = str(datetime.datetime.now())"
   ]
  },
  {
   "cell_type": "code",
   "execution_count": 6,
   "metadata": {},
   "outputs": [
    {
     "name": "stdout",
     "output_type": "stream",
     "text": [
      "mnk_residual for CPU 6 with factor 1.000000e-01: 6.942250e-12\n",
      "mnk_residual for CPU 6 with factor 1.000000e-02: 6.942250e-13\n",
      "mnk_residual for CPU 6 with factor 1.000000e-03: 6.942250e-14\n",
      "mnk_residual for CPU 6 with factor 0.000000e+00: 0.000000e+00\n"
     ]
    }
   ],
   "source": [
    "for factor in [0.1, 0.01, 0.001, 0]:\n",
    "    tmp = copy.deepcopy(model)\n",
    "    apply_factor(tmp, factor)\n",
    "    cpu_model = tmp['model'][4]  # taking some arbitrary CPU\n",
    "    print('mnk_residual for CPU %d with factor %e: %e' % (cpu_model['cpu_id'], factor, cpu_model['mnk_residual']))\n",
    "    with open('/tmp/dgemm_sigma_%.0e.yaml' % factor, 'w') as f:\n",
    "        f.write(yaml.dump(tmp))"
   ]
  },
  {
   "cell_type": "code",
   "execution_count": 7,
   "metadata": {},
   "outputs": [
    {
     "name": "stdout",
     "output_type": "stream",
     "text": [
      "ac8b53352e176390cc2cd56fc066b2f46ec632c45b49860e26f8ad64a16c2177  /tmp/dgemm_sigma_0e+00.yaml\n",
      "886e2cb60cd9d7ad015db492fb99c1bd7f7c37aa01f98d7bb6773065ae81ab38  /tmp/dgemm_sigma_1e-01.yaml\n",
      "92d7d8c7bc17bc82bfee2fd178889a7cfe4fd6fba55885868e902a8e0b430c13  /tmp/dgemm_sigma_1e-02.yaml\n",
      "18bf0d6bd4ce721f3fcd9cf8c052ffaa29aad15c619953d5d225b4cd56ec1c20  /tmp/dgemm_sigma_1e-03.yaml\n"
     ]
    }
   ],
   "source": [
    "!sha256sum /tmp/dgemm_sigma_*"
   ]
  }
 ],
 "metadata": {
  "kernelspec": {
   "display_name": "Python 3",
   "language": "python",
   "name": "python3"
  },
  "language_info": {
   "codemirror_mode": {
    "name": "ipython",
    "version": 3
   },
   "file_extension": ".py",
   "mimetype": "text/x-python",
   "name": "python",
   "nbconvert_exporter": "python",
   "pygments_lexer": "ipython3",
   "version": "3.7.3"
  }
 },
 "nbformat": 4,
 "nbformat_minor": 4
}
