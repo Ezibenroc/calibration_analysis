{
 "cells": [
  {
   "cell_type": "code",
   "execution_count": 1,
   "metadata": {},
   "outputs": [
    {
     "name": "stdout",
     "output_type": "stream",
     "text": [
      "f6b876d42ce4ebff4c12ad9dbd26e894f5f880a8\n"
     ]
    }
   ],
   "source": [
    "import pandas\n",
    "from peanut.smpi_hpl import SMPIHPL\n",
    "from peanut.peanut import ExpFile, RunError\n",
    "import peanut\n",
    "print(peanut.__git_version__)"
   ]
  },
  {
   "cell_type": "code",
   "execution_count": 2,
   "metadata": {},
   "outputs": [
    {
     "name": "stderr",
     "output_type": "stream",
     "text": [
      "\u001b[37m[2019-01-14 09:00:39][DEBUG] \u001b[37m[frontend | /home/tocornebize] oarsub -n \"🥐\" -q default -t deploy  -l \"{cluster in ('dahu')}/nodes=1,walltime=02:00:00\" -r \"2019-01-14 09:00:39\"\u001b[0m\n",
      "\u001b[37m[2019-01-14 09:00:42][DEBUG] \u001b[37m[frontend | /home/tocornebize] oarstat -fJ -j 1839830\u001b[0m\n",
      "\u001b[37m[2019-01-14 09:00:48][DEBUG] \u001b[37m[frontend | /home/tocornebize] oarstat -fJ -j 1839830\u001b[0m\n",
      "\u001b[37m[2019-01-14 09:00:59][DEBUG] \u001b[37m[frontend | /home/tocornebize] oarstat -fJ -j 1839830\u001b[0m\n",
      "\u001b[37m[2019-01-14 09:01:20][DEBUG] \u001b[37m[frontend | /home/tocornebize] oarstat -fJ -j 1839830\u001b[0m\n",
      "\u001b[37m[2019-01-14 09:01:21][DEBUG] \u001b[37m[frontend | /home/tocornebize] kadeploy3 -k -f /var/lib/oar/1839830 -e debian9-x64-base\u001b[0m\n",
      "\u001b[37m[2019-01-14 09:04:49][DEBUG] \u001b[37m[allnodes | /tmp] echo \"hello world\"\u001b[0m\n",
      "\u001b[37m[2019-01-14 09:04:49][DEBUG] \u001b[37m[allnodes | /tmp] rm -rf /tmp/*\u001b[0m\n",
      "\u001b[37m[2019-01-14 09:04:50][DEBUG] \u001b[37m[director | /tmp] echo UEsFBgAAAAAAAAAAAAAAAAAAAAAAAA== | base64 -d > grenoble_2019-01-14_1839830.zip\u001b[0m\n",
      "\u001b[37m[2019-01-14 09:04:50][DEBUG] \u001b[37m[director | /root] ssh-keygen -b 2048 -t rsa -f .ssh/id_rsa -q -N \"\"\u001b[0m\n",
      "\u001b[37m[2019-01-14 09:04:50][DEBUG] \u001b[37m[director] get: /root/.ssh/id_rsa.pub → /home/tom/Dropbox/Documents/Fac/phd/mpi_calibration/dahu/smpi_hpl/tmptrf_556u\u001b[0m\n",
      "\u001b[37m[2019-01-14 09:04:50][DEBUG] \u001b[37m[orchestra] put: /home/tom/Dropbox/Documents/Fac/phd/mpi_calibration/dahu/smpi_hpl/tmptrf_556u → /tmp/id_rsa.pub\u001b[0m\n",
      "\u001b[37m[2019-01-14 09:04:50][DEBUG] \u001b[37m[orchestra | /root] cat /tmp/id_rsa.pub >> .ssh/authorized_keys\u001b[0m\n",
      "\u001b[37m[2019-01-14 09:04:50][DEBUG] \u001b[37m[allnodes | /tmp] apt update -qq && DEBIAN_FRONTEND=noninteractive apt upgrade -qq -y\u001b[0m\n",
      "\u001b[37m[2019-01-14 09:05:04][DEBUG] \u001b[37m[allnodes | /tmp] DEBIAN_FRONTEND=noninteractive apt install -qq -y build-essential zip make git time hwloc pciutils cmake cpufrequtils linux-cpupower\u001b[0m\n",
      "\u001b[37m[2019-01-14 09:05:19][DEBUG] \u001b[37m[allnodes | /tmp] git clone https://github.com/xianyi/OpenBLAS.git openblas\u001b[0m\n",
      "\u001b[37m[2019-01-14 09:05:23][DEBUG] \u001b[37m[allnodes | /tmp/openblas] git checkout v0.3.1\u001b[0m\n",
      "\u001b[37m[2019-01-14 09:05:24][DEBUG] \u001b[37m[allnodes | /tmp/openblas] git rev-parse HEAD\u001b[0m\n",
      "\u001b[37m[2019-01-14 09:05:24][DEBUG] \u001b[37m[allnodes | /tmp/openblas] make -j 64\u001b[0m\n",
      "\u001b[37m[2019-01-14 09:05:32][DEBUG] \u001b[37m[allnodes | /tmp/openblas] make install PREFIX=/tmp\u001b[0m\n",
      "\u001b[37m[2019-01-14 09:05:32][DEBUG] \u001b[37m[allnodes | /tmp] apt update -qq && DEBIAN_FRONTEND=noninteractive apt upgrade -qq -y\u001b[0m\n",
      "\u001b[37m[2019-01-14 09:05:34][DEBUG] \u001b[37m[allnodes | /tmp] DEBIAN_FRONTEND=noninteractive apt install -qq -y python3 libboost-dev pajeng\u001b[0m\n",
      "\u001b[37m[2019-01-14 09:06:00][DEBUG] \u001b[37m[allnodes | /tmp] git clone https://framagit.org/simgrid/simgrid.git simgrid\u001b[0m\n",
      "\u001b[37m[2019-01-14 09:06:11][DEBUG] \u001b[37m[allnodes | /tmp/simgrid] git checkout a6f883f0e28e60a805227007ec71cac80bced118\u001b[0m\n",
      "\u001b[37m[2019-01-14 09:06:12][DEBUG] \u001b[37m[allnodes | /tmp/simgrid] git rev-parse HEAD\u001b[0m\n",
      "\u001b[37m[2019-01-14 09:06:12][DEBUG] \u001b[37m[allnodes | /tmp/simgrid] mkdir build && cd build && cmake -Denable_documentation=OFF ..\u001b[0m\n",
      "\u001b[37m[2019-01-14 09:06:17][DEBUG] \u001b[37m[allnodes | /tmp/simgrid/build] make -j 64 && make install\u001b[0m\n",
      "\u001b[37m[2019-01-14 09:08:02][DEBUG] \u001b[37m[allnodes | /tmp] git clone https://github.com/Ezibenroc/hpl.git hpl-2.2\u001b[0m\n",
      "\u001b[37m[2019-01-14 09:08:05][DEBUG] \u001b[37m[allnodes | /tmp/hpl-2.2] git rev-parse HEAD\u001b[0m\n",
      "\u001b[37m[2019-01-14 09:08:05][DEBUG] \u001b[37m[allnodes] put: /home/tom/Dropbox/Documents/Fac/phd/mpi_calibration/dahu/smpi_hpl/tmpt0176ihf → /tmp/patch.diff\u001b[0m\n",
      "\u001b[37m[2019-01-14 09:08:05][DEBUG] \u001b[37m[allnodes | /tmp/hpl-2.2] git apply --whitespace=fix /tmp/patch.diff\u001b[0m\n",
      "\u001b[37m[2019-01-14 09:08:05][DEBUG] \u001b[37m[allnodes | /tmp/hpl-2.2] make startup arch=SMPI\u001b[0m\n",
      "\u001b[37m[2019-01-14 09:08:05][DEBUG] \u001b[37m[allnodes | /tmp/hpl-2.2] make SMPI_OPTS=\"-DSMPI_OPTIMIZATION -DSMPI_MEASURE\" arch=SMPI\u001b[0m\n",
      "\u001b[37m[2019-01-14 09:08:22][DEBUG] \u001b[37m[allnodes | /tmp] lstopo -f topology.xml && cat topology.xml\u001b[0m\n",
      "\u001b[37m[2019-01-14 09:08:22][DEBUG] \u001b[37m[allnodes | /tmp] echo -n '0' | tee /sys/devices/system/cpu/cpu32/online /sys/devices/system/cpu/cpu34/online /sys/devices/system/cpu/cpu36/online /sys/devices/system/cpu/cpu38/online /sys/devices/system/cpu/cpu40/online /sys/devices/system/cpu/cpu42/online /sys/devices/system/cpu/cpu44/online /sys/devices/system/cpu/cpu46/online /sys/devices/system/cpu/cpu48/online /sys/devices/system/cpu/cpu50/online /sys/devices/system/cpu/cpu52/online /sys/devices/system/cpu/cpu54/online /sys/devices/system/cpu/cpu56/online /sys/devices/system/cpu/cpu58/online /sys/devices/system/cpu/cpu60/online /sys/devices/system/cpu/cpu62/online /sys/devices/system/cpu/cpu33/online /sys/devices/system/cpu/cpu35/online /sys/devices/system/cpu/cpu37/online /sys/devices/system/cpu/cpu39/online /sys/devices/system/cpu/cpu41/online /sys/devices/system/cpu/cpu43/online /sys/devices/system/cpu/cpu45/online /sys/devices/system/cpu/cpu47/online /sys/devices/system/cpu/cpu49/online /sys/devices/system/cpu/cpu51/online /sys/devices/system/cpu/cpu53/online /sys/devices/system/cpu/cpu55/online /sys/devices/system/cpu/cpu57/online /sys/devices/system/cpu/cpu59/online /sys/devices/system/cpu/cpu61/online /sys/devices/system/cpu/cpu63/online\u001b[0m\n",
      "\u001b[37m[2019-01-14 09:08:28][DEBUG] \u001b[37m[allnodes | /tmp] cpufreq-info -l\u001b[0m\n",
      "\u001b[37m[2019-01-14 09:08:28][DEBUG] \u001b[37m[allnodes | /tmp] cpufreq-info -g\u001b[0m\n",
      "\u001b[37m[2019-01-14 09:08:28][DEBUG] \u001b[37m[allnodes | /tmp] cpupower -c all frequency-set -g performance -d 3700000 -u 3700000\u001b[0m\n",
      "\u001b[37m[2019-01-14 09:08:30][DEBUG] \u001b[37m[allnodes | /tmp] sysctl -w vm.overcommit_memory=1\u001b[0m\n",
      "\u001b[37m[2019-01-14 09:08:30][DEBUG] \u001b[37m[allnodes | /tmp] sysctl -w vm.max_map_count=2000000000\u001b[0m\n",
      "\u001b[37m[2019-01-14 09:08:31][DEBUG] \u001b[37m[allnodes | /tmp] mkdir -p /root/huge\u001b[0m\n",
      "\u001b[37m[2019-01-14 09:08:31][DEBUG] \u001b[37m[allnodes | /tmp] mount none /root/huge -t hugetlbfs -o rw,mode=0777\u001b[0m\n",
      "\u001b[37m[2019-01-14 09:08:31][DEBUG] \u001b[37m[allnodes | /tmp] echo -n '1' | tee /proc/sys/vm/nr_hugepages\u001b[0m\n"
     ]
    }
   ],
   "source": [
    "if True:\n",
    "    job = SMPIHPL.oarsub_cluster(cluster='dahu', username='tocornebize', walltime='02:00:00', deploy='debian9-x64-base', nb_nodes=1)\n",
    "    job.trace_execution = True\n",
    "    job.setup()\n",
    "else:\n",
    "    job = SMPIHPL.get_jobs('nancy', 'tocornebize')[0]\n",
    "    job.trace_execution = True\n",
    "    job.nodes.run('pwd')"
   ]
  },
  {
   "cell_type": "markdown",
   "metadata": {},
   "source": [
    "We have applied an ad-hoc patch to HPL, so let's commit it so as to not remove it then."
   ]
  },
  {
   "cell_type": "code",
   "execution_count": 3,
   "metadata": {},
   "outputs": [
    {
     "name": "stderr",
     "output_type": "stream",
     "text": [
      "\u001b[37m[2019-01-14 09:08:31][DEBUG] \u001b[37m[allnodes | /tmp/hpl-2.2] git commit -am \"bla\"\u001b[0m\n"
     ]
    },
    {
     "data": {
      "text/plain": [
       "{<Connection host=dahu-4.grenoble.grid5000.fr user=root gw=proxyjump>: <Result cmd='cd /tmp/hpl-2.2 && git commit -am \"bla\"' exited=0>}"
      ]
     },
     "execution_count": 3,
     "metadata": {},
     "output_type": "execute_result"
    }
   ],
   "source": [
    "job.nodes.run('git commit -am \"bla\"', directory=job.hpl_dir)"
   ]
  },
  {
   "cell_type": "markdown",
   "metadata": {},
   "source": [
    "## Gathering a trace with optimization level 1"
   ]
  },
  {
   "cell_type": "code",
   "execution_count": 4,
   "metadata": {},
   "outputs": [],
   "source": [
    "def build_hpl(job, opt_level):\n",
    "    job.nodes.run('git clean -xfd .', directory=job.hpl_dir)\n",
    "    options = '-DSMPI_MEASURE -DSMPI_OPTIMIZATION_LEVEL=%d' % opt_level\n",
    "    while True:\n",
    "        try:\n",
    "            job.nodes.run('make SMPI_OPTS=\"%s\" arch=SMPI' % options, directory=job.hpl_dir)\n",
    "        except RunError as e:  # for some reason, this command fails sometime...\n",
    "            msg = str(e).split('\\n')[0]\n",
    "            logger.error('Previous command failed with message %s' % msg)\n",
    "        else:\n",
    "            break"
   ]
  },
  {
   "cell_type": "code",
   "execution_count": 5,
   "metadata": {},
   "outputs": [
    {
     "name": "stderr",
     "output_type": "stream",
     "text": [
      "\u001b[37m[2019-01-14 09:08:31][DEBUG] \u001b[37m[allnodes | /tmp/hpl-2.2] git clean -xfd .\u001b[0m\n",
      "\u001b[37m[2019-01-14 09:08:31][DEBUG] \u001b[37m[allnodes | /tmp/hpl-2.2] make SMPI_OPTS=\"-DSMPI_MEASURE -DSMPI_OPTIMIZATION_LEVEL=1\" arch=SMPI\u001b[0m\n"
     ]
    }
   ],
   "source": [
    "build_hpl(job, 1)"
   ]
  },
  {
   "cell_type": "markdown",
   "metadata": {},
   "source": [
    "Let's take the experiment files I used previously."
   ]
  },
  {
   "cell_type": "code",
   "execution_count": 6,
   "metadata": {},
   "outputs": [],
   "source": [
    "!unzip -p grenoble_2018-12-18_1829370.zip exp_smpi.csv > /tmp/exp_smpi.csv\n",
    "!unzip -p grenoble_2018-12-18_1829370.zip dahu.xml > /tmp/dahu.xml\n",
    "job.expfile = [ExpFile(filename='/tmp/exp_smpi.csv', types=job.expfile_types, header=job.expfile_header, header_in_file=job.expfile_header_in_file),\n",
    "               ExpFile(filename='/tmp/dahu.xml')]"
   ]
  },
  {
   "cell_type": "code",
   "execution_count": 7,
   "metadata": {},
   "outputs": [
    {
     "data": {
      "text/plain": [
       "[{'matrix_size': 50000,\n",
       "  'block_size': 128,\n",
       "  'proc_p': 2,\n",
       "  'proc_q': 4,\n",
       "  'pfact': 1,\n",
       "  'rfact': 2,\n",
       "  'bcast': 2,\n",
       "  'depth': 1,\n",
       "  'swap': 0,\n",
       "  'mem_align': 8,\n",
       "  'process_per_node': 1,\n",
       "  'thread_per_process': 32,\n",
       "  'dgemm_coefficient': 2.548998e-12,\n",
       "  'dgemm_intercept': 9.905042e-05,\n",
       "  'dtrsm_coefficient': 4.524788e-12,\n",
       "  'dtrsm_intercept': 3.975362e-05}]"
      ]
     },
     "execution_count": 7,
     "metadata": {},
     "output_type": "execute_result"
    }
   ],
   "source": [
    "job.expfile[0].content"
   ]
  },
  {
   "cell_type": "code",
   "execution_count": 8,
   "metadata": {},
   "outputs": [
    {
     "name": "stdout",
     "output_type": "stream",
     "text": [
      "<?xml version=\"1.0\"?>\n",
      "<!DOCTYPE platform SYSTEM \"http://simgrid.gforge.inria.fr/simgrid/simgrid.dtd\">\n",
      "\n",
      "<platform version=\"4.1\">\n",
      "    <config id=\"General\">\n",
      "        <prop id=\"smpi/os\" value=\"0:2.9654918472829634e-07:9.636195922971908e-11;8133:0.0:0.0;15831:0.0:0.0;33956:0.0:0.0;63305:0.0:0.0\"/>\n",
      "        <prop id=\"smpi/or\" value=\"0:1.3754300044375224e-06:8.456019002037343e-11;8133:0.0:0.0;15831:0.0:0.0;33956:0.0:0.0;63305:0.0:0.0\"/>\n",
      "        <prop id=\"smpi/ois\" value=\"0:6.93122952108322e-07:7.051204536228499e-11;8133:3.601990790153314e-07:1.2449128895712003e-10;15831:2.977016881030904e-06:4.130261264964205e-11;33956:3.1334661540668004e-06:3.293458765282178e-11;63305:6.939993663604218e-07:0.0\"/>\n",
      "        <prop id=\"smpi/bw-factor\" value=\"0:0.4709912642540426;8133:0.6770561715947873;15831:0.7091971477925826;33956:0.7033449540683548;63305:0.9867951082730284\"/>\n",
      "        <prop id=\"smpi/lat-factor\" value=\"0:1.1347371681807956;8133:29.84698135078078;15831:30.274775156187765;33956:64.63917831305292;63305:129.24904864614737\"/>\n",
      "        <prop id=\"smpi/async-small-thresh\" value=\"8133\"/>\n",
      "        <prop id=\"smpi/send-is-detached-thresh\" value=\"8133\"/>\n",
      "        <prop id=\"smpi/wtime\" value=\"5.094848181818182e-06\"/>\n",
      "        <prop id=\"smpi/iprobe\" value=\"2.115437983643232e-07\"/>\n",
      "        <prop id=\"smpi/test\" value=\"8.090518732515405e-07\"/>\n",
      "        <prop id=\"smpi/host-speed\" value=\"1\"/>\n",
      "    </config>\n",
      "\n",
      "    <AS id=\"AS0\" routing=\"Full\">\n",
      "        <cluster id=\"cluster\" prefix=\"dahu-\" suffix=\".grid5000.fr\" radical=\"0-31\" speed=\"1\" bw=\"12.5GBps\" lat=\"0.10us\"/>\n",
      "    </AS>\n",
      "</platform>\n",
      "\n"
     ]
    }
   ],
   "source": [
    "print(job.expfile[1].raw_content)"
   ]
  },
  {
   "cell_type": "code",
   "execution_count": 9,
   "metadata": {},
   "outputs": [
    {
     "name": "stderr",
     "output_type": "stream",
     "text": [
      "\u001b[37m[2019-01-14 09:08:49][DEBUG] \u001b[37m[director] put: /home/tom/Dropbox/Documents/Fac/phd/mpi_calibration/dahu/smpi_hpl/tmpw_gxxw2y → /tmp/hpl-2.2/bin/SMPI/concatenate.sh\u001b[0m\n",
      "\u001b[37m[2019-01-14 09:08:49][DEBUG] \u001b[37m[allnodes] put: /home/tom/Dropbox/Documents/Fac/phd/mpi_calibration/dahu/smpi_hpl/tmp8_m6x4x5 → /tmp/hpl-2.2/bin/SMPI/platform.xml\u001b[0m\n",
      "\u001b[37m[2019-01-14 09:08:49][DEBUG] \u001b[37m[allnodes] put: /home/tom/Dropbox/Documents/Fac/phd/mpi_calibration/dahu/smpi_hpl/tmph2hfqt78 → /tmp/hpl-2.2/bin/SMPI/hosts.txt\u001b[0m\n",
      "\u001b[33m[2019-01-14 09:08:50][WARNING] \u001b[37mRequested 1 process per node and 32 thread per process, but 1 cores are available\u001b[0m\n",
      "\u001b[37m[2019-01-14 09:08:50][DEBUG] \u001b[37m[allnodes] put: /home/tom/Dropbox/Documents/Fac/phd/mpi_calibration/dahu/smpi_hpl/tmpjs8eltk9 → /tmp/hpl-2.2/bin/SMPI/HPL.dat\u001b[0m\n",
      "\u001b[37m[2019-01-14 09:08:50][DEBUG] \u001b[37m[director | /tmp/hpl-2.2/bin/SMPI] SMPI_DGEMM_COEFFICIENT=2.548998e-12 SMPI_DGEMM_INTERCEPT=9.905042e-05 SMPI_DTRSM_COEFFICIENT=4.524788e-12 SMPI_DTRSM_INTERCEPT=3.975362e-05 TIME=\"/usr/bin/time:output %U %S %F %R %P\" LD_LIBRARY_PATH=/tmp/lib smpirun -wrapper /usr/bin/time --cfg=smpi/privatize-global-variables:dlopen -np 8 --cfg=tracing:yes --cfg=tracing/filename:/tmp/trace_0.paje --cfg=tracing/smpi:1 --cfg=tracing/smpi/display-sizes:yes --cfg=tracing/smpi/computing:yes --cfg=smpi/shared-malloc-hugepage:/root/huge --cfg=smpi/shared-malloc-blocksize:2097152 --cfg=smpi/display-timing:yes -platform platform.xml -hostfile hosts.txt ./xhpl\u001b[0m\n",
      "\u001b[37m[2019-01-14 09:13:49][DEBUG] \u001b[37m[director | /tmp] pj_dump -u /tmp/trace_0.paje | grep -v MPI_Iprobe > trace_mpi_0.csv\u001b[0m\n",
      "\u001b[37m[2019-01-14 09:13:58][DEBUG] \u001b[37m[director | /tmp/hpl-2.2/bin/SMPI] bash concatenate.sh blas*trace > /tmp/trace_blas_0.csv\u001b[0m\n",
      "\u001b[37m[2019-01-14 09:13:58][DEBUG] \u001b[37m[allnodes | /tmp/hpl-2.2/bin/SMPI] rm -f blas*trace\u001b[0m\n",
      "\u001b[37m[2019-01-14 09:13:58][DEBUG] \u001b[37m[director | /tmp] zip -ru grenoble_2019-01-14_1839830.zip trace_mpi_0.csv\u001b[0m\n",
      "\u001b[37m[2019-01-14 09:14:00][DEBUG] \u001b[37m[director | /tmp] zip -ru grenoble_2019-01-14_1839830.zip trace_blas_0.csv\u001b[0m\n",
      "\u001b[37m[2019-01-14 09:14:01][DEBUG] \u001b[37m[director] put: /home/tom/Dropbox/Documents/Fac/phd/mpi_calibration/dahu/smpi_hpl/tmpz9jzmze_ → /tmp/results.csv\u001b[0m\n",
      "\u001b[37m[2019-01-14 09:14:01][DEBUG] \u001b[37m[director | /tmp] zip -ru grenoble_2019-01-14_1839830.zip results.csv\u001b[0m\n"
     ]
    }
   ],
   "source": [
    "job.run_exp()"
   ]
  },
  {
   "cell_type": "code",
   "execution_count": 10,
   "metadata": {},
   "outputs": [
    {
     "name": "stderr",
     "output_type": "stream",
     "text": [
      "\u001b[37m[2019-01-14 09:14:01][DEBUG] \u001b[37m[allnodes | /tmp] grep -E \"MPI_Recv|MPI_Send|MPI_Irecv|computing\" /tmp/trace_mpi_0.csv | grep -E \"rank-0|rank-1|rank-2|rank-3|rank-4|rank-5|rank-6|rank-7\" > /tmp/mpi.csv\u001b[0m\n",
      "\u001b[37m[2019-01-14 09:14:04][DEBUG] \u001b[37m[allnodes] get: /tmp/mpi.csv → /tmp/mpi.csv\u001b[0m\n"
     ]
    },
    {
     "data": {
      "text/html": [
       "<div>\n",
       "<style scoped>\n",
       "    .dataframe tbody tr th:only-of-type {\n",
       "        vertical-align: middle;\n",
       "    }\n",
       "\n",
       "    .dataframe tbody tr th {\n",
       "        vertical-align: top;\n",
       "    }\n",
       "\n",
       "    .dataframe thead th {\n",
       "        text-align: right;\n",
       "    }\n",
       "</style>\n",
       "<table border=\"1\" class=\"dataframe\">\n",
       "  <thead>\n",
       "    <tr style=\"text-align: right;\">\n",
       "      <th></th>\n",
       "      <th>type</th>\n",
       "      <th>rank</th>\n",
       "      <th>container</th>\n",
       "      <th>start</th>\n",
       "      <th>end</th>\n",
       "      <th>duration</th>\n",
       "      <th>level</th>\n",
       "      <th>function</th>\n",
       "      <th>msg_size</th>\n",
       "    </tr>\n",
       "  </thead>\n",
       "  <tbody>\n",
       "    <tr>\n",
       "      <th>670634</th>\n",
       "      <td>State</td>\n",
       "      <td>0</td>\n",
       "      <td>MPI_STATE</td>\n",
       "      <td>0.000000</td>\n",
       "      <td>0.000085</td>\n",
       "      <td>0.000085</td>\n",
       "      <td>0.0</td>\n",
       "      <td>computing</td>\n",
       "      <td>0.000085</td>\n",
       "    </tr>\n",
       "    <tr>\n",
       "      <th>670635</th>\n",
       "      <td>State</td>\n",
       "      <td>0</td>\n",
       "      <td>MPI_STATE</td>\n",
       "      <td>0.000085</td>\n",
       "      <td>0.000087</td>\n",
       "      <td>0.000002</td>\n",
       "      <td>0.0</td>\n",
       "      <td>MPI_Recv</td>\n",
       "      <td>4.000000</td>\n",
       "    </tr>\n",
       "    <tr>\n",
       "      <th>670636</th>\n",
       "      <td>State</td>\n",
       "      <td>0</td>\n",
       "      <td>MPI_STATE</td>\n",
       "      <td>0.000087</td>\n",
       "      <td>0.000088</td>\n",
       "      <td>0.000001</td>\n",
       "      <td>0.0</td>\n",
       "      <td>computing</td>\n",
       "      <td>0.000002</td>\n",
       "    </tr>\n",
       "    <tr>\n",
       "      <th>670637</th>\n",
       "      <td>State</td>\n",
       "      <td>0</td>\n",
       "      <td>MPI_STATE</td>\n",
       "      <td>0.000088</td>\n",
       "      <td>0.000090</td>\n",
       "      <td>0.000002</td>\n",
       "      <td>0.0</td>\n",
       "      <td>MPI_Recv</td>\n",
       "      <td>4.000000</td>\n",
       "    </tr>\n",
       "    <tr>\n",
       "      <th>670638</th>\n",
       "      <td>State</td>\n",
       "      <td>0</td>\n",
       "      <td>MPI_STATE</td>\n",
       "      <td>0.000090</td>\n",
       "      <td>0.000091</td>\n",
       "      <td>0.000001</td>\n",
       "      <td>0.0</td>\n",
       "      <td>MPI_Recv</td>\n",
       "      <td>4.000000</td>\n",
       "    </tr>\n",
       "  </tbody>\n",
       "</table>\n",
       "</div>"
      ],
      "text/plain": [
       "         type  rank   container     start       end  duration  level  \\\n",
       "670634  State     0   MPI_STATE  0.000000  0.000085  0.000085    0.0   \n",
       "670635  State     0   MPI_STATE  0.000085  0.000087  0.000002    0.0   \n",
       "670636  State     0   MPI_STATE  0.000087  0.000088  0.000001    0.0   \n",
       "670637  State     0   MPI_STATE  0.000088  0.000090  0.000002    0.0   \n",
       "670638  State     0   MPI_STATE  0.000090  0.000091  0.000001    0.0   \n",
       "\n",
       "         function  msg_size  \n",
       "670634  computing  0.000085  \n",
       "670635   MPI_Recv  4.000000  \n",
       "670636  computing  0.000002  \n",
       "670637   MPI_Recv  4.000000  \n",
       "670638   MPI_Recv  4.000000  "
      ]
     },
     "execution_count": 10,
     "metadata": {},
     "output_type": "execute_result"
    }
   ],
   "source": [
    "def get_trace(job, functions, ranks):\n",
    "    func_reg = '|'.join(functions)\n",
    "    rank_reg = '|'.join(['rank-%d' % r for r in ranks])\n",
    "    cmd = 'grep -E \"%s\" /tmp/trace_mpi_0.csv | grep -E \"%s\" > /tmp/mpi.csv' % (func_reg, rank_reg)\n",
    "    job.nodes.run(cmd)\n",
    "    job.nodes.get('/tmp/mpi.csv', '/tmp/mpi.csv')\n",
    "    df = pandas.read_csv('/tmp/mpi.csv', names=['type', 'rank', 'container', 'start', 'end', 'duration', 'level', 'function', 'msg_size'])\n",
    "    df['function'] = df['function'].str.replace('PMPI', 'MPI').str.strip()\n",
    "    df['rank'] = df['rank'].str.slice(6).astype(int)  # changing 'rank-42' into 42\n",
    "    return df.sort_values(by=['rank', 'start'])\n",
    "\n",
    "trace_level1 = get_trace(job, ['MPI_Recv', 'MPI_Send', 'MPI_Irecv', 'computing'], range(8))\n",
    "trace_level1.head()"
   ]
  },
  {
   "cell_type": "code",
   "execution_count": 11,
   "metadata": {},
   "outputs": [
    {
     "data": {
      "text/html": [
       "<div>\n",
       "<style scoped>\n",
       "    .dataframe tbody tr th:only-of-type {\n",
       "        vertical-align: middle;\n",
       "    }\n",
       "\n",
       "    .dataframe tbody tr th {\n",
       "        vertical-align: top;\n",
       "    }\n",
       "\n",
       "    .dataframe thead tr th {\n",
       "        text-align: left;\n",
       "    }\n",
       "\n",
       "    .dataframe thead tr:last-of-type th {\n",
       "        text-align: right;\n",
       "    }\n",
       "</style>\n",
       "<table border=\"1\" class=\"dataframe\">\n",
       "  <thead>\n",
       "    <tr>\n",
       "      <th></th>\n",
       "      <th>msg_size</th>\n",
       "      <th>duration</th>\n",
       "    </tr>\n",
       "    <tr>\n",
       "      <th></th>\n",
       "      <th>sum</th>\n",
       "      <th>sum</th>\n",
       "    </tr>\n",
       "    <tr>\n",
       "      <th>function</th>\n",
       "      <th></th>\n",
       "      <th></th>\n",
       "    </tr>\n",
       "  </thead>\n",
       "  <tbody>\n",
       "    <tr>\n",
       "      <th>MPI_Irecv</th>\n",
       "      <td>1.511708e+10</td>\n",
       "      <td>0.000000</td>\n",
       "    </tr>\n",
       "    <tr>\n",
       "      <th>MPI_Recv</th>\n",
       "      <td>3.023868e+10</td>\n",
       "      <td>3.339951</td>\n",
       "    </tr>\n",
       "    <tr>\n",
       "      <th>MPI_Send</th>\n",
       "      <td>4.535576e+10</td>\n",
       "      <td>58.247144</td>\n",
       "    </tr>\n",
       "    <tr>\n",
       "      <th>computing</th>\n",
       "      <td>2.179918e+02</td>\n",
       "      <td>217.980549</td>\n",
       "    </tr>\n",
       "  </tbody>\n",
       "</table>\n",
       "</div>"
      ],
      "text/plain": [
       "               msg_size    duration\n",
       "                    sum         sum\n",
       "function                           \n",
       "MPI_Irecv  1.511708e+10    0.000000\n",
       "MPI_Recv   3.023868e+10    3.339951\n",
       "MPI_Send   4.535576e+10   58.247144\n",
       "computing  2.179918e+02  217.980549"
      ]
     },
     "execution_count": 11,
     "metadata": {},
     "output_type": "execute_result"
    }
   ],
   "source": [
    "trace_level1.groupby(['function'])[['msg_size', 'duration']].agg(['sum'])"
   ]
  },
  {
   "cell_type": "markdown",
   "metadata": {},
   "source": [
    "## Gathering a trace with optimization level 4"
   ]
  },
  {
   "cell_type": "code",
   "execution_count": 12,
   "metadata": {},
   "outputs": [
    {
     "name": "stderr",
     "output_type": "stream",
     "text": [
      "\u001b[37m[2019-01-14 09:14:09][DEBUG] \u001b[37m[allnodes | /tmp/hpl-2.2] git clean -xfd .\u001b[0m\n",
      "\u001b[37m[2019-01-14 09:14:09][DEBUG] \u001b[37m[allnodes | /tmp/hpl-2.2] make SMPI_OPTS=\"-DSMPI_MEASURE -DSMPI_OPTIMIZATION_LEVEL=4\" arch=SMPI\u001b[0m\n"
     ]
    }
   ],
   "source": [
    "build_hpl(job, 4)"
   ]
  },
  {
   "cell_type": "code",
   "execution_count": 13,
   "metadata": {},
   "outputs": [
    {
     "name": "stderr",
     "output_type": "stream",
     "text": [
      "\u001b[37m[2019-01-14 09:14:26][DEBUG] \u001b[37m[director] put: /home/tom/Dropbox/Documents/Fac/phd/mpi_calibration/dahu/smpi_hpl/tmp1oqxyhyz → /tmp/hpl-2.2/bin/SMPI/concatenate.sh\u001b[0m\n",
      "\u001b[37m[2019-01-14 09:14:26][DEBUG] \u001b[37m[allnodes] put: /home/tom/Dropbox/Documents/Fac/phd/mpi_calibration/dahu/smpi_hpl/tmpfm8f3kuh → /tmp/hpl-2.2/bin/SMPI/platform.xml\u001b[0m\n",
      "\u001b[37m[2019-01-14 09:14:26][DEBUG] \u001b[37m[allnodes] put: /home/tom/Dropbox/Documents/Fac/phd/mpi_calibration/dahu/smpi_hpl/tmp3ll4ktb1 → /tmp/hpl-2.2/bin/SMPI/hosts.txt\u001b[0m\n",
      "\u001b[33m[2019-01-14 09:14:27][WARNING] \u001b[37mRequested 1 process per node and 32 thread per process, but 1 cores are available\u001b[0m\n",
      "\u001b[37m[2019-01-14 09:14:27][DEBUG] \u001b[37m[allnodes] put: /home/tom/Dropbox/Documents/Fac/phd/mpi_calibration/dahu/smpi_hpl/tmppuupd09n → /tmp/hpl-2.2/bin/SMPI/HPL.dat\u001b[0m\n",
      "\u001b[37m[2019-01-14 09:14:27][DEBUG] \u001b[37m[director | /tmp/hpl-2.2/bin/SMPI] SMPI_DGEMM_COEFFICIENT=2.548998e-12 SMPI_DGEMM_INTERCEPT=9.905042e-05 SMPI_DTRSM_COEFFICIENT=4.524788e-12 SMPI_DTRSM_INTERCEPT=3.975362e-05 TIME=\"/usr/bin/time:output %U %S %F %R %P\" LD_LIBRARY_PATH=/tmp/lib smpirun -wrapper /usr/bin/time --cfg=smpi/privatize-global-variables:dlopen -np 8 --cfg=tracing:yes --cfg=tracing/filename:/tmp/trace_0.paje --cfg=tracing/smpi:1 --cfg=tracing/smpi/display-sizes:yes --cfg=tracing/smpi/computing:yes --cfg=smpi/shared-malloc-hugepage:/root/huge --cfg=smpi/shared-malloc-blocksize:2097152 --cfg=smpi/display-timing:yes -platform platform.xml -hostfile hosts.txt ./xhpl\u001b[0m\n",
      "\u001b[37m[2019-01-14 09:14:48][DEBUG] \u001b[37m[director | /tmp] pj_dump -u /tmp/trace_0.paje | grep -v MPI_Iprobe > trace_mpi_0.csv\u001b[0m\n",
      "\u001b[37m[2019-01-14 09:14:56][DEBUG] \u001b[37m[director | /tmp/hpl-2.2/bin/SMPI] bash concatenate.sh blas*trace > /tmp/trace_blas_0.csv\u001b[0m\n",
      "\u001b[37m[2019-01-14 09:14:56][DEBUG] \u001b[37m[allnodes | /tmp/hpl-2.2/bin/SMPI] rm -f blas*trace\u001b[0m\n",
      "\u001b[37m[2019-01-14 09:14:57][DEBUG] \u001b[37m[director | /tmp] zip -ru grenoble_2019-01-14_1839830.zip trace_mpi_0.csv\u001b[0m\n",
      "\u001b[37m[2019-01-14 09:14:58][DEBUG] \u001b[37m[director | /tmp] zip -ru grenoble_2019-01-14_1839830.zip trace_blas_0.csv\u001b[0m\n",
      "\u001b[37m[2019-01-14 09:14:59][DEBUG] \u001b[37m[director] put: /home/tom/Dropbox/Documents/Fac/phd/mpi_calibration/dahu/smpi_hpl/tmpb874eydp → /tmp/results.csv\u001b[0m\n",
      "\u001b[37m[2019-01-14 09:14:59][DEBUG] \u001b[37m[director | /tmp] zip -ru grenoble_2019-01-14_1839830.zip results.csv\u001b[0m\n"
     ]
    }
   ],
   "source": [
    "job.run_exp()"
   ]
  },
  {
   "cell_type": "code",
   "execution_count": 14,
   "metadata": {},
   "outputs": [
    {
     "name": "stderr",
     "output_type": "stream",
     "text": [
      "\u001b[37m[2019-01-14 09:15:00][DEBUG] \u001b[37m[allnodes | /tmp] grep -E \"MPI_Recv|MPI_Send|MPI_Irecv|computing\" /tmp/trace_mpi_0.csv | grep -E \"rank-0|rank-1|rank-2|rank-3|rank-4|rank-5|rank-6|rank-7\" > /tmp/mpi.csv\u001b[0m\n",
      "\u001b[37m[2019-01-14 09:15:03][DEBUG] \u001b[37m[allnodes] get: /tmp/mpi.csv → /tmp/mpi.csv\u001b[0m\n"
     ]
    },
    {
     "data": {
      "text/html": [
       "<div>\n",
       "<style scoped>\n",
       "    .dataframe tbody tr th:only-of-type {\n",
       "        vertical-align: middle;\n",
       "    }\n",
       "\n",
       "    .dataframe tbody tr th {\n",
       "        vertical-align: top;\n",
       "    }\n",
       "\n",
       "    .dataframe thead th {\n",
       "        text-align: right;\n",
       "    }\n",
       "</style>\n",
       "<table border=\"1\" class=\"dataframe\">\n",
       "  <thead>\n",
       "    <tr style=\"text-align: right;\">\n",
       "      <th></th>\n",
       "      <th>type</th>\n",
       "      <th>rank</th>\n",
       "      <th>container</th>\n",
       "      <th>start</th>\n",
       "      <th>end</th>\n",
       "      <th>duration</th>\n",
       "      <th>level</th>\n",
       "      <th>function</th>\n",
       "      <th>msg_size</th>\n",
       "    </tr>\n",
       "  </thead>\n",
       "  <tbody>\n",
       "    <tr>\n",
       "      <th>602335</th>\n",
       "      <td>State</td>\n",
       "      <td>0</td>\n",
       "      <td>MPI_STATE</td>\n",
       "      <td>0.000000</td>\n",
       "      <td>0.000068</td>\n",
       "      <td>0.000068</td>\n",
       "      <td>0.0</td>\n",
       "      <td>computing</td>\n",
       "      <td>0.000068</td>\n",
       "    </tr>\n",
       "    <tr>\n",
       "      <th>602336</th>\n",
       "      <td>State</td>\n",
       "      <td>0</td>\n",
       "      <td>MPI_STATE</td>\n",
       "      <td>0.000068</td>\n",
       "      <td>0.000069</td>\n",
       "      <td>0.000001</td>\n",
       "      <td>0.0</td>\n",
       "      <td>MPI_Recv</td>\n",
       "      <td>4.000000</td>\n",
       "    </tr>\n",
       "    <tr>\n",
       "      <th>602337</th>\n",
       "      <td>State</td>\n",
       "      <td>0</td>\n",
       "      <td>MPI_STATE</td>\n",
       "      <td>0.000069</td>\n",
       "      <td>0.000071</td>\n",
       "      <td>0.000002</td>\n",
       "      <td>0.0</td>\n",
       "      <td>computing</td>\n",
       "      <td>0.000001</td>\n",
       "    </tr>\n",
       "    <tr>\n",
       "      <th>602338</th>\n",
       "      <td>State</td>\n",
       "      <td>0</td>\n",
       "      <td>MPI_STATE</td>\n",
       "      <td>0.000071</td>\n",
       "      <td>0.000072</td>\n",
       "      <td>0.000001</td>\n",
       "      <td>0.0</td>\n",
       "      <td>MPI_Recv</td>\n",
       "      <td>4.000000</td>\n",
       "    </tr>\n",
       "    <tr>\n",
       "      <th>602339</th>\n",
       "      <td>State</td>\n",
       "      <td>0</td>\n",
       "      <td>MPI_STATE</td>\n",
       "      <td>0.000072</td>\n",
       "      <td>0.000073</td>\n",
       "      <td>0.000001</td>\n",
       "      <td>0.0</td>\n",
       "      <td>MPI_Recv</td>\n",
       "      <td>4.000000</td>\n",
       "    </tr>\n",
       "  </tbody>\n",
       "</table>\n",
       "</div>"
      ],
      "text/plain": [
       "         type  rank   container     start       end  duration  level  \\\n",
       "602335  State     0   MPI_STATE  0.000000  0.000068  0.000068    0.0   \n",
       "602336  State     0   MPI_STATE  0.000068  0.000069  0.000001    0.0   \n",
       "602337  State     0   MPI_STATE  0.000069  0.000071  0.000002    0.0   \n",
       "602338  State     0   MPI_STATE  0.000071  0.000072  0.000001    0.0   \n",
       "602339  State     0   MPI_STATE  0.000072  0.000073  0.000001    0.0   \n",
       "\n",
       "         function  msg_size  \n",
       "602335  computing  0.000068  \n",
       "602336   MPI_Recv  4.000000  \n",
       "602337  computing  0.000001  \n",
       "602338   MPI_Recv  4.000000  \n",
       "602339   MPI_Recv  4.000000  "
      ]
     },
     "execution_count": 14,
     "metadata": {},
     "output_type": "execute_result"
    }
   ],
   "source": [
    "trace_level4 = get_trace(job, ['MPI_Recv', 'MPI_Send', 'MPI_Irecv', 'computing'], range(8))\n",
    "trace_level4.head()"
   ]
  },
  {
   "cell_type": "code",
   "execution_count": 15,
   "metadata": {},
   "outputs": [
    {
     "data": {
      "text/html": [
       "<div>\n",
       "<style scoped>\n",
       "    .dataframe tbody tr th:only-of-type {\n",
       "        vertical-align: middle;\n",
       "    }\n",
       "\n",
       "    .dataframe tbody tr th {\n",
       "        vertical-align: top;\n",
       "    }\n",
       "\n",
       "    .dataframe thead tr th {\n",
       "        text-align: left;\n",
       "    }\n",
       "\n",
       "    .dataframe thead tr:last-of-type th {\n",
       "        text-align: right;\n",
       "    }\n",
       "</style>\n",
       "<table border=\"1\" class=\"dataframe\">\n",
       "  <thead>\n",
       "    <tr>\n",
       "      <th></th>\n",
       "      <th>msg_size</th>\n",
       "      <th>duration</th>\n",
       "    </tr>\n",
       "    <tr>\n",
       "      <th></th>\n",
       "      <th>sum</th>\n",
       "      <th>sum</th>\n",
       "    </tr>\n",
       "    <tr>\n",
       "      <th>function</th>\n",
       "      <th></th>\n",
       "      <th></th>\n",
       "    </tr>\n",
       "  </thead>\n",
       "  <tbody>\n",
       "    <tr>\n",
       "      <th>MPI_Irecv</th>\n",
       "      <td>1.508871e+10</td>\n",
       "      <td>0.000000</td>\n",
       "    </tr>\n",
       "    <tr>\n",
       "      <th>MPI_Recv</th>\n",
       "      <td>3.023268e+10</td>\n",
       "      <td>2.574183</td>\n",
       "    </tr>\n",
       "    <tr>\n",
       "      <th>MPI_Send</th>\n",
       "      <td>4.532139e+10</td>\n",
       "      <td>7.548743</td>\n",
       "    </tr>\n",
       "    <tr>\n",
       "      <th>computing</th>\n",
       "      <td>1.740831e+00</td>\n",
       "      <td>1.707108</td>\n",
       "    </tr>\n",
       "  </tbody>\n",
       "</table>\n",
       "</div>"
      ],
      "text/plain": [
       "               msg_size  duration\n",
       "                    sum       sum\n",
       "function                         \n",
       "MPI_Irecv  1.508871e+10  0.000000\n",
       "MPI_Recv   3.023268e+10  2.574183\n",
       "MPI_Send   4.532139e+10  7.548743\n",
       "computing  1.740831e+00  1.707108"
      ]
     },
     "execution_count": 15,
     "metadata": {},
     "output_type": "execute_result"
    }
   ],
   "source": [
    "trace_level4.groupby(['function'])[['msg_size', 'duration']].agg(['sum'])"
   ]
  },
  {
   "cell_type": "markdown",
   "metadata": {},
   "source": [
    "## Patching my version of HPL\n",
    "\n",
    "First, let's get the original source code."
   ]
  },
  {
   "cell_type": "code",
   "execution_count": 16,
   "metadata": {},
   "outputs": [
    {
     "name": "stderr",
     "output_type": "stream",
     "text": [
      "\u001b[37m[2019-01-14 09:15:06][DEBUG] \u001b[37m[allnodes | /tmp] wget http://www.netlib.org/benchmark/hpl/hpl-2.2.tar.gz\u001b[0m\n",
      "\u001b[37m[2019-01-14 09:15:07][DEBUG] \u001b[37m[allnodes | /tmp] mkdir original\u001b[0m\n",
      "\u001b[37m[2019-01-14 09:15:07][DEBUG] \u001b[37m[allnodes | /tmp] tar -xvf hpl-2.2.tar.gz -C original\u001b[0m\n"
     ]
    },
    {
     "data": {
      "text/plain": [
       "{<Connection host=dahu-4.grenoble.grid5000.fr user=root gw=proxyjump>: <Result cmd='cd /tmp && tar -xvf hpl-2.2.tar.gz -C original' exited=0>}"
      ]
     },
     "execution_count": 16,
     "metadata": {},
     "output_type": "execute_result"
    }
   ],
   "source": [
    "job.nodes.run('wget http://www.netlib.org/benchmark/hpl/hpl-2.2.tar.gz')\n",
    "job.nodes.run('mkdir original')\n",
    "job.nodes.run('tar -xvf hpl-2.2.tar.gz -C original')"
   ]
  },
  {
   "cell_type": "code",
   "execution_count": 17,
   "metadata": {},
   "outputs": [],
   "source": [
    "def change_hpl_files(job, filenames, original_dir='/tmp/original/hpl-2.2'):\n",
    "    for file in filenames:\n",
    "        job.nodes.run('cp -f %s/%s %s/%s' % (original_dir, file, job.hpl_dir, file))"
   ]
  },
  {
   "cell_type": "code",
   "execution_count": 18,
   "metadata": {},
   "outputs": [],
   "source": [
    "def remove_hpl_lines(job, filename, lines):\n",
    "    lines = ';'.join(['%dd' % l for l in lines])\n",
    "    job.nodes.run('sed -i -e \"%s\" %s/%s' % (lines, job.hpl_dir, filename))"
   ]
  },
  {
   "cell_type": "code",
   "execution_count": 19,
   "metadata": {},
   "outputs": [],
   "source": [
    "def patch_hpl(job, *patches):\n",
    "    job.nodes.run('git checkout src include testing', directory=job.hpl_dir)\n",
    "    job.nodes.run('git clean -xfd .', directory=job.hpl_dir)\n",
    "    for func, *args in patches:\n",
    "        func(job, *args)\n",
    "    build_hpl(job, 4)\n",
    "    print(job.nodes.run_unique('git diff --color src include testing', directory=job.hpl_dir).stdout)"
   ]
  },
  {
   "cell_type": "markdown",
   "metadata": {},
   "source": [
    "### HPL utility functions"
   ]
  },
  {
   "cell_type": "code",
   "execution_count": 20,
   "metadata": {},
   "outputs": [
    {
     "name": "stderr",
     "output_type": "stream",
     "text": [
      "\u001b[37m[2019-01-14 09:15:07][DEBUG] \u001b[37m[allnodes | /tmp/hpl-2.2] git checkout src include testing\u001b[0m\n",
      "\u001b[37m[2019-01-14 09:15:07][DEBUG] \u001b[37m[allnodes | /tmp/hpl-2.2] git clean -xfd .\u001b[0m\n",
      "\u001b[37m[2019-01-14 09:15:08][DEBUG] \u001b[37m[allnodes | /tmp] cp -f /tmp/original/hpl-2.2/src/auxil/HPL_dlatcpy.c hpl-2.2/src/auxil/HPL_dlatcpy.c\u001b[0m\n",
      "\u001b[37m[2019-01-14 09:15:08][DEBUG] \u001b[37m[allnodes | /tmp] cp -f /tmp/original/hpl-2.2/src/auxil/HPL_dlacpy.c hpl-2.2/src/auxil/HPL_dlacpy.c\u001b[0m\n",
      "\u001b[37m[2019-01-14 09:15:08][DEBUG] \u001b[37m[allnodes | /tmp] cp -f /tmp/original/hpl-2.2/src/pauxil/HPL_dlaswp01T.c hpl-2.2/src/pauxil/HPL_dlaswp01T.c\u001b[0m\n",
      "\u001b[37m[2019-01-14 09:15:08][DEBUG] \u001b[37m[allnodes | /tmp] cp -f /tmp/original/hpl-2.2/src/pauxil/HPL_dlaswp06T.c hpl-2.2/src/pauxil/HPL_dlaswp06T.c\u001b[0m\n",
      "\u001b[37m[2019-01-14 09:15:08][DEBUG] \u001b[37m[allnodes | /tmp] cp -f /tmp/original/hpl-2.2/src/pauxil/HPL_dlaswp00N.c hpl-2.2/src/pauxil/HPL_dlaswp00N.c\u001b[0m\n",
      "\u001b[37m[2019-01-14 09:15:08][DEBUG] \u001b[37m[allnodes | /tmp] cp -f /tmp/original/hpl-2.2/src/pauxil/HPL_dlaswp05N.c hpl-2.2/src/pauxil/HPL_dlaswp05N.c\u001b[0m\n",
      "\u001b[37m[2019-01-14 09:15:09][DEBUG] \u001b[37m[allnodes | /tmp] cp -f /tmp/original/hpl-2.2/src/pauxil/HPL_dlaswp03T.c hpl-2.2/src/pauxil/HPL_dlaswp03T.c\u001b[0m\n",
      "\u001b[37m[2019-01-14 09:15:09][DEBUG] \u001b[37m[allnodes | /tmp] cp -f /tmp/original/hpl-2.2/src/pauxil/HPL_dlaswp10N.c hpl-2.2/src/pauxil/HPL_dlaswp10N.c\u001b[0m\n",
      "\u001b[37m[2019-01-14 09:15:09][DEBUG] \u001b[37m[allnodes | /tmp] cp -f /tmp/original/hpl-2.2/src/pauxil/HPL_dlaswp05T.c hpl-2.2/src/pauxil/HPL_dlaswp05T.c\u001b[0m\n",
      "\u001b[37m[2019-01-14 09:15:09][DEBUG] \u001b[37m[allnodes | /tmp] cp -f /tmp/original/hpl-2.2/src/pauxil/HPL_dlaswp02N.c hpl-2.2/src/pauxil/HPL_dlaswp02N.c\u001b[0m\n",
      "\u001b[37m[2019-01-14 09:15:09][DEBUG] \u001b[37m[allnodes | /tmp] cp -f /tmp/original/hpl-2.2/src/pauxil/HPL_dlaswp03N.c hpl-2.2/src/pauxil/HPL_dlaswp03N.c\u001b[0m\n",
      "\u001b[37m[2019-01-14 09:15:09][DEBUG] \u001b[37m[allnodes | /tmp] cp -f /tmp/original/hpl-2.2/src/pauxil/HPL_dlaswp01N.c hpl-2.2/src/pauxil/HPL_dlaswp01N.c\u001b[0m\n",
      "\u001b[37m[2019-01-14 09:15:10][DEBUG] \u001b[37m[allnodes | /tmp] cp -f /tmp/original/hpl-2.2/src/pauxil/HPL_dlaswp04N.c hpl-2.2/src/pauxil/HPL_dlaswp04N.c\u001b[0m\n",
      "\u001b[37m[2019-01-14 09:15:10][DEBUG] \u001b[37m[allnodes | /tmp] cp -f /tmp/original/hpl-2.2/src/pauxil/HPL_dlaswp04T.c hpl-2.2/src/pauxil/HPL_dlaswp04T.c\u001b[0m\n",
      "\u001b[37m[2019-01-14 09:15:10][DEBUG] \u001b[37m[allnodes | /tmp] cp -f /tmp/original/hpl-2.2/src/pauxil/HPL_dlaswp06N.c hpl-2.2/src/pauxil/HPL_dlaswp06N.c\u001b[0m\n",
      "\u001b[37m[2019-01-14 09:15:10][DEBUG] \u001b[37m[allnodes | /tmp/hpl-2.2] git clean -xfd .\u001b[0m\n",
      "\u001b[37m[2019-01-14 09:15:10][DEBUG] \u001b[37m[allnodes | /tmp/hpl-2.2] make SMPI_OPTS=\"-DSMPI_MEASURE -DSMPI_OPTIMIZATION_LEVEL=4\" arch=SMPI\u001b[0m\n",
      "\u001b[37m[2019-01-14 09:15:27][DEBUG] \u001b[37m[allnodes | /tmp/hpl-2.2] git diff --color src include testing\u001b[0m\n"
     ]
    },
    {
     "name": "stdout",
     "output_type": "stream",
     "text": [
      "\u001b[1mdiff --git a/src/auxil/HPL_dlacpy.c b/src/auxil/HPL_dlacpy.c\u001b[m\n",
      "\u001b[1mindex 8c1396a..89ae13b 100644\u001b[m\n",
      "\u001b[1m--- a/src/auxil/HPL_dlacpy.c\u001b[m\n",
      "\u001b[1m+++ b/src/auxil/HPL_dlacpy.c\u001b[m\n",
      "\u001b[36m@@ -127,9 +127,6 @@\u001b[m \u001b[mvoid HPL_dlacpy\u001b[m\n",
      " /*\u001b[m\n",
      "  * .. Local Variables ..\u001b[m\n",
      "  */\u001b[m\n",
      "\u001b[31m-#if SMPI_OPTIMIZATION_LEVEL >= 2\u001b[m\n",
      "\u001b[31m-    return;\u001b[m\n",
      "\u001b[31m-#endif\u001b[m\n",
      " #ifdef HPL_LACPY_USE_COPY\u001b[m\n",
      "    register int               j;\u001b[m\n",
      " #else\u001b[m\n",
      "\u001b[1mdiff --git a/src/auxil/HPL_dlatcpy.c b/src/auxil/HPL_dlatcpy.c\u001b[m\n",
      "\u001b[1mindex 417a1d5..7643676 100644\u001b[m\n",
      "\u001b[1m--- a/src/auxil/HPL_dlatcpy.c\u001b[m\n",
      "\u001b[1m+++ b/src/auxil/HPL_dlatcpy.c\u001b[m\n",
      "\u001b[36m@@ -127,9 +127,6 @@\u001b[m \u001b[mvoid HPL_dlatcpy\u001b[m\n",
      " /*\u001b[m\n",
      "  * .. Local Variables ..\u001b[m\n",
      "  */\u001b[m\n",
      "\u001b[31m-#if SMPI_OPTIMIZATION_LEVEL >= 2\u001b[m\n",
      "\u001b[31m-    return;\u001b[m\n",
      "\u001b[31m-#endif\u001b[m\n",
      " #ifdef HPL_LATCPY_USE_COPY\u001b[m\n",
      "    register int               j;\u001b[m\n",
      " #else\u001b[m\n",
      "\u001b[1mdiff --git a/src/pauxil/HPL_dlaswp00N.c b/src/pauxil/HPL_dlaswp00N.c\u001b[m\n",
      "\u001b[1mindex 2cab3c3..60ae8b1 100644\u001b[m\n",
      "\u001b[1m--- a/src/pauxil/HPL_dlaswp00N.c\u001b[m\n",
      "\u001b[1m+++ b/src/pauxil/HPL_dlaswp00N.c\u001b[m\n",
      "\u001b[36m@@ -112,9 +112,6 @@\u001b[m \u001b[mvoid HPL_dlaswp00N\u001b[m\n",
      " /*\u001b[m\n",
      "  * .. Local Variables ..\u001b[m\n",
      "  */\u001b[m\n",
      "\u001b[31m-#if SMPI_OPTIMIZATION_LEVEL >= 2\u001b[m\n",
      "\u001b[31m-    return;\u001b[m\n",
      "\u001b[31m-#endif\u001b[m\n",
      "    register double            r;\u001b[m\n",
      "    double                     * a0, * a1;\u001b[m\n",
      "    const int                  incA = (int)( (unsigned int)(LDA) <<\u001b[m\n",
      "\u001b[1mdiff --git a/src/pauxil/HPL_dlaswp01N.c b/src/pauxil/HPL_dlaswp01N.c\u001b[m\n",
      "\u001b[1mindex 45aec37..f467470 100644\u001b[m\n",
      "\u001b[1m--- a/src/pauxil/HPL_dlaswp01N.c\u001b[m\n",
      "\u001b[1m+++ b/src/pauxil/HPL_dlaswp01N.c\u001b[m\n",
      "\u001b[36m@@ -140,9 +140,6 @@\u001b[m \u001b[mvoid HPL_dlaswp01N\u001b[m\n",
      " /*\u001b[m\n",
      "  * .. Local Variables ..\u001b[m\n",
      "  */\u001b[m\n",
      "\u001b[31m-#if SMPI_OPTIMIZATION_LEVEL >= 2\u001b[m\n",
      "\u001b[31m-    return;\u001b[m\n",
      "\u001b[31m-#endif\u001b[m\n",
      "    double                     * a0, * a1;\u001b[m\n",
      "    const int                  incA = (int)( (unsigned int)(LDA) <<\u001b[m\n",
      "                                             HPL_LASWP01N_LOG2_DEPTH ),\u001b[m\n",
      "\u001b[1mdiff --git a/src/pauxil/HPL_dlaswp01T.c b/src/pauxil/HPL_dlaswp01T.c\u001b[m\n",
      "\u001b[1mindex afb24b6..c3c9e4a 100644\u001b[m\n",
      "\u001b[1m--- a/src/pauxil/HPL_dlaswp01T.c\u001b[m\n",
      "\u001b[1m+++ b/src/pauxil/HPL_dlaswp01T.c\u001b[m\n",
      "\u001b[36m@@ -141,9 +141,6 @@\u001b[m \u001b[mvoid HPL_dlaswp01T\u001b[m\n",
      " /*\u001b[m\n",
      "  * .. Local Variables ..\u001b[m\n",
      "  */\u001b[m\n",
      "\u001b[31m-#if SMPI_OPTIMIZATION_LEVEL >= 2\u001b[m\n",
      "\u001b[31m-    return;\u001b[m\n",
      "\u001b[31m-#endif\u001b[m\n",
      "    double                     * a0, * a1;\u001b[m\n",
      "    const int                  incA = (int)( (unsigned int)(LDA) <<\u001b[m\n",
      "                                             HPL_LASWP01T_LOG2_DEPTH ),\u001b[m\n",
      "\u001b[1mdiff --git a/src/pauxil/HPL_dlaswp02N.c b/src/pauxil/HPL_dlaswp02N.c\u001b[m\n",
      "\u001b[1mindex a49d28b..84a887b 100644\u001b[m\n",
      "\u001b[1m--- a/src/pauxil/HPL_dlaswp02N.c\u001b[m\n",
      "\u001b[1m+++ b/src/pauxil/HPL_dlaswp02N.c\u001b[m\n",
      "\u001b[36m@@ -137,9 +137,6 @@\u001b[m \u001b[mvoid HPL_dlaswp02N\u001b[m\n",
      " /*\u001b[m\n",
      "  * .. Local Variables ..\u001b[m\n",
      "  */\u001b[m\n",
      "\u001b[31m-#if SMPI_OPTIMIZATION_LEVEL >= 2\u001b[m\n",
      "\u001b[31m-    return;\u001b[m\n",
      "\u001b[31m-#endif\u001b[m\n",
      "    const double               * A0 = A, * a0;\u001b[m\n",
      "    double                     * w0;\u001b[m\n",
      "    const int                  incA = (int)( (unsigned int)(LDA) <<\u001b[m\n",
      "\u001b[1mdiff --git a/src/pauxil/HPL_dlaswp03N.c b/src/pauxil/HPL_dlaswp03N.c\u001b[m\n",
      "\u001b[1mindex f08ed10..711c211 100644\u001b[m\n",
      "\u001b[1m--- a/src/pauxil/HPL_dlaswp03N.c\u001b[m\n",
      "\u001b[1m+++ b/src/pauxil/HPL_dlaswp03N.c\u001b[m\n",
      "\u001b[36m@@ -127,9 +127,6 @@\u001b[m \u001b[mvoid HPL_dlaswp03N\u001b[m\n",
      " /*\u001b[m\n",
      "  * .. Local Variables ..\u001b[m\n",
      "  */\u001b[m\n",
      "\u001b[31m-#if SMPI_OPTIMIZATION_LEVEL >= 2\u001b[m\n",
      "\u001b[31m-    return;\u001b[m\n",
      "\u001b[31m-#endif\u001b[m\n",
      "    const double               * w = W, * w0;\u001b[m\n",
      "    double                     * u0;\u001b[m\n",
      "    const int                  incU = (int)( (unsigned int)(LDU) <<\u001b[m\n",
      "\u001b[1mdiff --git a/src/pauxil/HPL_dlaswp03T.c b/src/pauxil/HPL_dlaswp03T.c\u001b[m\n",
      "\u001b[1mindex efffab5..d6629de 100644\u001b[m\n",
      "\u001b[1m--- a/src/pauxil/HPL_dlaswp03T.c\u001b[m\n",
      "\u001b[1m+++ b/src/pauxil/HPL_dlaswp03T.c\u001b[m\n",
      "\u001b[36m@@ -127,9 +127,6 @@\u001b[m \u001b[mvoid HPL_dlaswp03T\u001b[m\n",
      " /*\u001b[m\n",
      "  * .. Local Variables ..\u001b[m\n",
      "  */\u001b[m\n",
      "\u001b[31m-#if SMPI_OPTIMIZATION_LEVEL >= 2\u001b[m\n",
      "\u001b[31m-    return;\u001b[m\n",
      "\u001b[31m-#endif\u001b[m\n",
      "    const double               * w = W, * w0; \u001b[m\n",
      "    double                     * u0;\u001b[m\n",
      "    const int                  incU = ( 1 << HPL_LASWP03T_LOG2_DEPTH );\u001b[m\n",
      "\u001b[1mdiff --git a/src/pauxil/HPL_dlaswp04N.c b/src/pauxil/HPL_dlaswp04N.c\u001b[m\n",
      "\u001b[1mindex c167354..822a5ac 100644\u001b[m\n",
      "\u001b[1m--- a/src/pauxil/HPL_dlaswp04N.c\u001b[m\n",
      "\u001b[1m+++ b/src/pauxil/HPL_dlaswp04N.c\u001b[m\n",
      "\u001b[36m@@ -158,9 +158,6 @@\u001b[m \u001b[mvoid HPL_dlaswp04N\u001b[m\n",
      " /*\u001b[m\n",
      "  * .. Local Variables ..\u001b[m\n",
      "  */\u001b[m\n",
      "\u001b[31m-#if SMPI_OPTIMIZATION_LEVEL >= 2\u001b[m\n",
      "\u001b[31m-    return;\u001b[m\n",
      "\u001b[31m-#endif\u001b[m\n",
      "    const double               * w = W, * w0;\u001b[m\n",
      "    double                     * a0, * u0;\u001b[m\n",
      "    const int                  incA = (int)( (unsigned int)(LDA) << \u001b[m\n",
      "\u001b[1mdiff --git a/src/pauxil/HPL_dlaswp04T.c b/src/pauxil/HPL_dlaswp04T.c\u001b[m\n",
      "\u001b[1mindex f279771..4b62689 100644\u001b[m\n",
      "\u001b[1m--- a/src/pauxil/HPL_dlaswp04T.c\u001b[m\n",
      "\u001b[1m+++ b/src/pauxil/HPL_dlaswp04T.c\u001b[m\n",
      "\u001b[36m@@ -159,9 +159,6 @@\u001b[m \u001b[mvoid HPL_dlaswp04T\u001b[m\n",
      " /*\u001b[m\n",
      "  * .. Local Variables ..\u001b[m\n",
      "  */\u001b[m\n",
      "\u001b[31m-#if SMPI_OPTIMIZATION_LEVEL >= 2\u001b[m\n",
      "\u001b[31m-    return;\u001b[m\n",
      "\u001b[31m-#endif\u001b[m\n",
      "    const double               * w = W, * w0;\u001b[m\n",
      "    double                     * a0, * u0;\u001b[m\n",
      "    const int                  incA = (int)( (unsigned int)(LDA) <<\u001b[m\n",
      "\u001b[1mdiff --git a/src/pauxil/HPL_dlaswp05N.c b/src/pauxil/HPL_dlaswp05N.c\u001b[m\n",
      "\u001b[1mindex 9b5f348..928e7f7 100644\u001b[m\n",
      "\u001b[1m--- a/src/pauxil/HPL_dlaswp05N.c\u001b[m\n",
      "\u001b[1m+++ b/src/pauxil/HPL_dlaswp05N.c\u001b[m\n",
      "\u001b[36m@@ -129,9 +129,6 @@\u001b[m \u001b[mvoid HPL_dlaswp05N\u001b[m\n",
      " /*\u001b[m\n",
      "  * .. Local Variables ..\u001b[m\n",
      "  */\u001b[m\n",
      "\u001b[31m-#if SMPI_OPTIMIZATION_LEVEL >= 2\u001b[m\n",
      "\u001b[31m-    return;\u001b[m\n",
      "\u001b[31m-#endif\u001b[m\n",
      "    const double               * U0 = U, * u0;\u001b[m\n",
      "    double                     * a0;\u001b[m\n",
      "    const int                  incA = (int)( (unsigned int)(LDA) <<\u001b[m\n",
      "\u001b[1mdiff --git a/src/pauxil/HPL_dlaswp05T.c b/src/pauxil/HPL_dlaswp05T.c\u001b[m\n",
      "\u001b[1mindex 019e173..50f337a 100644\u001b[m\n",
      "\u001b[1m--- a/src/pauxil/HPL_dlaswp05T.c\u001b[m\n",
      "\u001b[1m+++ b/src/pauxil/HPL_dlaswp05T.c\u001b[m\n",
      "\u001b[36m@@ -129,9 +129,6 @@\u001b[m \u001b[mvoid HPL_dlaswp05T\u001b[m\n",
      " /*\u001b[m\n",
      "  * .. Local Variables ..\u001b[m\n",
      "  */\u001b[m\n",
      "\u001b[31m-#if SMPI_OPTIMIZATION_LEVEL >= 2\u001b[m\n",
      "\u001b[31m-    return;\u001b[m\n",
      "\u001b[31m-#endif\u001b[m\n",
      "    const double               * U0 = U, * u0;\u001b[m\n",
      "    double                     * a0;\u001b[m\n",
      "    const int                  incA = (int)( (unsigned int)(LDA) <<\u001b[m\n",
      "\u001b[1mdiff --git a/src/pauxil/HPL_dlaswp06N.c b/src/pauxil/HPL_dlaswp06N.c\u001b[m\n",
      "\u001b[1mindex a745348..8954577 100644\u001b[m\n",
      "\u001b[1m--- a/src/pauxil/HPL_dlaswp06N.c\u001b[m\n",
      "\u001b[1m+++ b/src/pauxil/HPL_dlaswp06N.c\u001b[m\n",
      "\u001b[36m@@ -124,9 +124,6 @@\u001b[m \u001b[mvoid HPL_dlaswp06N\u001b[m\n",
      " /*\u001b[m\n",
      "  * .. Local Variables ..\u001b[m\n",
      "  */\u001b[m\n",
      "\u001b[31m-#if SMPI_OPTIMIZATION_LEVEL >= 2\u001b[m\n",
      "\u001b[31m-    return;\u001b[m\n",
      "\u001b[31m-#endif\u001b[m\n",
      "    double                     r;\u001b[m\n",
      "    double                     * U0 = U, * a0, * u0;\u001b[m\n",
      "    const int                  incA = (int)( (unsigned int)(LDA) <<\u001b[m\n",
      "\u001b[1mdiff --git a/src/pauxil/HPL_dlaswp06T.c b/src/pauxil/HPL_dlaswp06T.c\u001b[m\n",
      "\u001b[1mindex 1fa1268..481b53b 100644\u001b[m\n",
      "\u001b[1m--- a/src/pauxil/HPL_dlaswp06T.c\u001b[m\n",
      "\u001b[1m+++ b/src/pauxil/HPL_dlaswp06T.c\u001b[m\n",
      "\u001b[36m@@ -124,9 +124,6 @@\u001b[m \u001b[mvoid HPL_dlaswp06T\u001b[m\n",
      " /*\u001b[m\n",
      "  * .. Local Variables ..\u001b[m\n",
      "  */\u001b[m\n",
      "\u001b[31m-#if SMPI_OPTIMIZATION_LEVEL >= 2\u001b[m\n",
      "\u001b[31m-    return;\u001b[m\n",
      "\u001b[31m-#endif\u001b[m\n",
      "    double                     r;\u001b[m\n",
      "    double                     * U0 = U, * a0, * u0;\u001b[m\n",
      "    const int                  incA = (int)( (unsigned int)(LDA) <<\u001b[m\n",
      "\u001b[1mdiff --git a/src/pauxil/HPL_dlaswp10N.c b/src/pauxil/HPL_dlaswp10N.c\u001b[m\n",
      "\u001b[1mindex 912b842..8b33de5 100644\u001b[m\n",
      "\u001b[1m--- a/src/pauxil/HPL_dlaswp10N.c\u001b[m\n",
      "\u001b[1m+++ b/src/pauxil/HPL_dlaswp10N.c\u001b[m\n",
      "\u001b[36m@@ -111,9 +111,6 @@\u001b[m \u001b[mvoid HPL_dlaswp10N\u001b[m\n",
      " /*\u001b[m\n",
      "  * .. Local Variables ..\u001b[m\n",
      "  */\u001b[m\n",
      "\u001b[31m-#if SMPI_OPTIMIZATION_LEVEL >= 2\u001b[m\n",
      "\u001b[31m-    return;\u001b[m\n",
      "\u001b[31m-#endif\u001b[m\n",
      "    double                     r;\u001b[m\n",
      "    double                     * a0, * a1;\u001b[m\n",
      "    const int                  incA = ( 1 << HPL_LASWP10N_LOG2_DEPTH );\u001b[m\n",
      "\n"
     ]
    }
   ],
   "source": [
    "files = [\n",
    "    'src/auxil/HPL_dlatcpy.c',\n",
    "    'src/auxil/HPL_dlacpy.c',\n",
    "    'src/pauxil/HPL_dlaswp01T.c',\n",
    "    'src/pauxil/HPL_dlaswp06T.c',\n",
    "    'src/pauxil/HPL_dlaswp00N.c',\n",
    "    'src/pauxil/HPL_dlaswp05N.c',\n",
    "    'src/pauxil/HPL_dlaswp03T.c',\n",
    "    'src/pauxil/HPL_dlaswp10N.c',\n",
    "    'src/pauxil/HPL_dlaswp05T.c',\n",
    "    'src/pauxil/HPL_dlaswp02N.c',\n",
    "    'src/pauxil/HPL_dlaswp03N.c',\n",
    "    'src/pauxil/HPL_dlaswp01N.c',\n",
    "    'src/pauxil/HPL_dlaswp04N.c',\n",
    "    'src/pauxil/HPL_dlaswp04T.c',\n",
    "    'src/pauxil/HPL_dlaswp06N.c',\n",
    "]\n",
    "patch_utility = (change_hpl_files, files)\n",
    "patch_hpl(job, patch_utility)"
   ]
  },
  {
   "cell_type": "code",
   "execution_count": 21,
   "metadata": {},
   "outputs": [
    {
     "name": "stderr",
     "output_type": "stream",
     "text": [
      "\u001b[37m[2019-01-14 09:15:27][DEBUG] \u001b[37m[director] put: /home/tom/Dropbox/Documents/Fac/phd/mpi_calibration/dahu/smpi_hpl/tmp2qkmhz22 → /tmp/hpl-2.2/bin/SMPI/concatenate.sh\u001b[0m\n",
      "\u001b[37m[2019-01-14 09:15:28][DEBUG] \u001b[37m[allnodes] put: /home/tom/Dropbox/Documents/Fac/phd/mpi_calibration/dahu/smpi_hpl/tmpwy6oljzm → /tmp/hpl-2.2/bin/SMPI/platform.xml\u001b[0m\n",
      "\u001b[37m[2019-01-14 09:15:28][DEBUG] \u001b[37m[allnodes] put: /home/tom/Dropbox/Documents/Fac/phd/mpi_calibration/dahu/smpi_hpl/tmp990684ch → /tmp/hpl-2.2/bin/SMPI/hosts.txt\u001b[0m\n",
      "\u001b[33m[2019-01-14 09:15:28][WARNING] \u001b[37mRequested 1 process per node and 32 thread per process, but 1 cores are available\u001b[0m\n",
      "\u001b[37m[2019-01-14 09:15:28][DEBUG] \u001b[37m[allnodes] put: /home/tom/Dropbox/Documents/Fac/phd/mpi_calibration/dahu/smpi_hpl/tmp6ev73ezw → /tmp/hpl-2.2/bin/SMPI/HPL.dat\u001b[0m\n",
      "\u001b[37m[2019-01-14 09:15:28][DEBUG] \u001b[37m[director | /tmp/hpl-2.2/bin/SMPI] SMPI_DGEMM_COEFFICIENT=2.548998e-12 SMPI_DGEMM_INTERCEPT=9.905042e-05 SMPI_DTRSM_COEFFICIENT=4.524788e-12 SMPI_DTRSM_INTERCEPT=3.975362e-05 TIME=\"/usr/bin/time:output %U %S %F %R %P\" LD_LIBRARY_PATH=/tmp/lib smpirun -wrapper /usr/bin/time --cfg=smpi/privatize-global-variables:dlopen -np 8 --cfg=tracing:yes --cfg=tracing/filename:/tmp/trace_0.paje --cfg=tracing/smpi:1 --cfg=tracing/smpi/display-sizes:yes --cfg=tracing/smpi/computing:yes --cfg=smpi/shared-malloc-hugepage:/root/huge --cfg=smpi/shared-malloc-blocksize:2097152 --cfg=smpi/display-timing:yes -platform platform.xml -hostfile hosts.txt ./xhpl\u001b[0m\n",
      "\u001b[37m[2019-01-14 09:16:03][DEBUG] \u001b[37m[director | /tmp] pj_dump -u /tmp/trace_0.paje | grep -v MPI_Iprobe > trace_mpi_0.csv\u001b[0m\n",
      "\u001b[37m[2019-01-14 09:16:10][DEBUG] \u001b[37m[director | /tmp/hpl-2.2/bin/SMPI] bash concatenate.sh blas*trace > /tmp/trace_blas_0.csv\u001b[0m\n",
      "\u001b[37m[2019-01-14 09:16:10][DEBUG] \u001b[37m[allnodes | /tmp/hpl-2.2/bin/SMPI] rm -f blas*trace\u001b[0m\n",
      "\u001b[37m[2019-01-14 09:16:11][DEBUG] \u001b[37m[director | /tmp] zip -ru grenoble_2019-01-14_1839830.zip trace_mpi_0.csv\u001b[0m\n",
      "\u001b[37m[2019-01-14 09:16:12][DEBUG] \u001b[37m[director | /tmp] zip -ru grenoble_2019-01-14_1839830.zip trace_blas_0.csv\u001b[0m\n",
      "\u001b[37m[2019-01-14 09:16:13][DEBUG] \u001b[37m[director] put: /home/tom/Dropbox/Documents/Fac/phd/mpi_calibration/dahu/smpi_hpl/tmpv023spuc → /tmp/results.csv\u001b[0m\n",
      "\u001b[37m[2019-01-14 09:16:13][DEBUG] \u001b[37m[director | /tmp] zip -ru grenoble_2019-01-14_1839830.zip results.csv\u001b[0m\n"
     ]
    }
   ],
   "source": [
    "job.run_exp()"
   ]
  },
  {
   "cell_type": "code",
   "execution_count": 22,
   "metadata": {},
   "outputs": [
    {
     "name": "stderr",
     "output_type": "stream",
     "text": [
      "\u001b[37m[2019-01-14 09:16:13][DEBUG] \u001b[37m[allnodes | /tmp] grep -E \"MPI_Recv|MPI_Send|MPI_Irecv|computing\" /tmp/trace_mpi_0.csv | grep -E \"rank-0|rank-1|rank-2|rank-3|rank-4|rank-5|rank-6|rank-7\" > /tmp/mpi.csv\u001b[0m\n",
      "\u001b[37m[2019-01-14 09:16:17][DEBUG] \u001b[37m[allnodes] get: /tmp/mpi.csv → /tmp/mpi.csv\u001b[0m\n"
     ]
    },
    {
     "data": {
      "text/html": [
       "<div>\n",
       "<style scoped>\n",
       "    .dataframe tbody tr th:only-of-type {\n",
       "        vertical-align: middle;\n",
       "    }\n",
       "\n",
       "    .dataframe tbody tr th {\n",
       "        vertical-align: top;\n",
       "    }\n",
       "\n",
       "    .dataframe thead th {\n",
       "        text-align: right;\n",
       "    }\n",
       "</style>\n",
       "<table border=\"1\" class=\"dataframe\">\n",
       "  <thead>\n",
       "    <tr style=\"text-align: right;\">\n",
       "      <th></th>\n",
       "      <th>type</th>\n",
       "      <th>rank</th>\n",
       "      <th>container</th>\n",
       "      <th>start</th>\n",
       "      <th>end</th>\n",
       "      <th>duration</th>\n",
       "      <th>level</th>\n",
       "      <th>function</th>\n",
       "      <th>msg_size</th>\n",
       "    </tr>\n",
       "  </thead>\n",
       "  <tbody>\n",
       "    <tr>\n",
       "      <th>592658</th>\n",
       "      <td>State</td>\n",
       "      <td>0</td>\n",
       "      <td>MPI_STATE</td>\n",
       "      <td>0.000000</td>\n",
       "      <td>0.000081</td>\n",
       "      <td>0.000081</td>\n",
       "      <td>0.0</td>\n",
       "      <td>computing</td>\n",
       "      <td>0.000081</td>\n",
       "    </tr>\n",
       "    <tr>\n",
       "      <th>592659</th>\n",
       "      <td>State</td>\n",
       "      <td>0</td>\n",
       "      <td>MPI_STATE</td>\n",
       "      <td>0.000081</td>\n",
       "      <td>0.000082</td>\n",
       "      <td>0.000001</td>\n",
       "      <td>0.0</td>\n",
       "      <td>MPI_Recv</td>\n",
       "      <td>4.000000</td>\n",
       "    </tr>\n",
       "    <tr>\n",
       "      <th>592660</th>\n",
       "      <td>State</td>\n",
       "      <td>0</td>\n",
       "      <td>MPI_STATE</td>\n",
       "      <td>0.000082</td>\n",
       "      <td>0.000083</td>\n",
       "      <td>0.000001</td>\n",
       "      <td>0.0</td>\n",
       "      <td>computing</td>\n",
       "      <td>0.000001</td>\n",
       "    </tr>\n",
       "    <tr>\n",
       "      <th>592661</th>\n",
       "      <td>State</td>\n",
       "      <td>0</td>\n",
       "      <td>MPI_STATE</td>\n",
       "      <td>0.000083</td>\n",
       "      <td>0.000085</td>\n",
       "      <td>0.000002</td>\n",
       "      <td>0.0</td>\n",
       "      <td>MPI_Recv</td>\n",
       "      <td>4.000000</td>\n",
       "    </tr>\n",
       "    <tr>\n",
       "      <th>592662</th>\n",
       "      <td>State</td>\n",
       "      <td>0</td>\n",
       "      <td>MPI_STATE</td>\n",
       "      <td>0.000085</td>\n",
       "      <td>0.000086</td>\n",
       "      <td>0.000001</td>\n",
       "      <td>0.0</td>\n",
       "      <td>MPI_Recv</td>\n",
       "      <td>4.000000</td>\n",
       "    </tr>\n",
       "  </tbody>\n",
       "</table>\n",
       "</div>"
      ],
      "text/plain": [
       "         type  rank   container     start       end  duration  level  \\\n",
       "592658  State     0   MPI_STATE  0.000000  0.000081  0.000081    0.0   \n",
       "592659  State     0   MPI_STATE  0.000081  0.000082  0.000001    0.0   \n",
       "592660  State     0   MPI_STATE  0.000082  0.000083  0.000001    0.0   \n",
       "592661  State     0   MPI_STATE  0.000083  0.000085  0.000002    0.0   \n",
       "592662  State     0   MPI_STATE  0.000085  0.000086  0.000001    0.0   \n",
       "\n",
       "         function  msg_size  \n",
       "592658  computing  0.000081  \n",
       "592659   MPI_Recv  4.000000  \n",
       "592660  computing  0.000001  \n",
       "592661   MPI_Recv  4.000000  \n",
       "592662   MPI_Recv  4.000000  "
      ]
     },
     "execution_count": 22,
     "metadata": {},
     "output_type": "execute_result"
    }
   ],
   "source": [
    "trace_tmp = get_trace(job, ['MPI_Recv', 'MPI_Send', 'MPI_Irecv', 'computing'], range(8))\n",
    "trace_tmp.head()"
   ]
  },
  {
   "cell_type": "code",
   "execution_count": 23,
   "metadata": {},
   "outputs": [
    {
     "data": {
      "text/html": [
       "<div>\n",
       "<style scoped>\n",
       "    .dataframe tbody tr th:only-of-type {\n",
       "        vertical-align: middle;\n",
       "    }\n",
       "\n",
       "    .dataframe tbody tr th {\n",
       "        vertical-align: top;\n",
       "    }\n",
       "\n",
       "    .dataframe thead tr th {\n",
       "        text-align: left;\n",
       "    }\n",
       "\n",
       "    .dataframe thead tr:last-of-type th {\n",
       "        text-align: right;\n",
       "    }\n",
       "</style>\n",
       "<table border=\"1\" class=\"dataframe\">\n",
       "  <thead>\n",
       "    <tr>\n",
       "      <th></th>\n",
       "      <th>msg_size</th>\n",
       "      <th>duration</th>\n",
       "    </tr>\n",
       "    <tr>\n",
       "      <th></th>\n",
       "      <th>sum</th>\n",
       "      <th>sum</th>\n",
       "    </tr>\n",
       "    <tr>\n",
       "      <th>function</th>\n",
       "      <th></th>\n",
       "      <th></th>\n",
       "    </tr>\n",
       "  </thead>\n",
       "  <tbody>\n",
       "    <tr>\n",
       "      <th>MPI_Irecv</th>\n",
       "      <td>1.513166e+10</td>\n",
       "      <td>0.000000</td>\n",
       "    </tr>\n",
       "    <tr>\n",
       "      <th>MPI_Recv</th>\n",
       "      <td>3.023268e+10</td>\n",
       "      <td>2.574159</td>\n",
       "    </tr>\n",
       "    <tr>\n",
       "      <th>MPI_Send</th>\n",
       "      <td>4.536435e+10</td>\n",
       "      <td>10.340138</td>\n",
       "    </tr>\n",
       "    <tr>\n",
       "      <th>computing</th>\n",
       "      <td>1.461248e+01</td>\n",
       "      <td>14.593082</td>\n",
       "    </tr>\n",
       "  </tbody>\n",
       "</table>\n",
       "</div>"
      ],
      "text/plain": [
       "               msg_size   duration\n",
       "                    sum        sum\n",
       "function                          \n",
       "MPI_Irecv  1.513166e+10   0.000000\n",
       "MPI_Recv   3.023268e+10   2.574159\n",
       "MPI_Send   4.536435e+10  10.340138\n",
       "computing  1.461248e+01  14.593082"
      ]
     },
     "execution_count": 23,
     "metadata": {},
     "output_type": "execute_result"
    }
   ],
   "source": [
    "trace_tmp.groupby(['function'])[['msg_size', 'duration']].agg(['sum'])"
   ]
  },
  {
   "cell_type": "markdown",
   "metadata": {},
   "source": [
    "### BLAS functions"
   ]
  },
  {
   "cell_type": "code",
   "execution_count": 24,
   "metadata": {},
   "outputs": [
    {
     "name": "stderr",
     "output_type": "stream",
     "text": [
      "\u001b[37m[2019-01-14 09:16:20][DEBUG] \u001b[37m[allnodes | /tmp/hpl-2.2] git checkout src include testing\u001b[0m\n",
      "\u001b[37m[2019-01-14 09:16:20][DEBUG] \u001b[37m[allnodes | /tmp/hpl-2.2] git clean -xfd .\u001b[0m\n",
      "\u001b[37m[2019-01-14 09:16:20][DEBUG] \u001b[37m[allnodes | /tmp] sed -i -e \"164d;165d;166d;167d;168d;169d;170d;171d;172d;173d;182d\" hpl-2.2/include/hpl_blas.h\u001b[0m\n",
      "\u001b[37m[2019-01-14 09:16:21][DEBUG] \u001b[37m[allnodes | /tmp/hpl-2.2] git clean -xfd .\u001b[0m\n",
      "\u001b[37m[2019-01-14 09:16:21][DEBUG] \u001b[37m[allnodes | /tmp/hpl-2.2] make SMPI_OPTS=\"-DSMPI_MEASURE -DSMPI_OPTIMIZATION_LEVEL=4\" arch=SMPI\u001b[0m\n",
      "\u001b[37m[2019-01-14 09:16:37][DEBUG] \u001b[37m[allnodes | /tmp/hpl-2.2] git diff --color src include testing\u001b[0m\n"
     ]
    },
    {
     "name": "stdout",
     "output_type": "stream",
     "text": [
      "\u001b[1mdiff --git a/include/hpl_blas.h b/include/hpl_blas.h\u001b[m\n",
      "\u001b[1mindex ee394d6..7fe502b 100644\u001b[m\n",
      "\u001b[1m--- a/include/hpl_blas.h\u001b[m\n",
      "\u001b[1m+++ b/include/hpl_blas.h\u001b[m\n",
      "\u001b[36m@@ -161,16 +161,6 @@\u001b[m \u001b[mSTDC_ARGS(\u001b[m\n",
      "  */\u001b[m\n",
      " #define    HPL_dcopy           cblas_dcopy\u001b[m\n",
      " \u001b[m\n",
      "\u001b[31m-#if SMPI_OPTIMIZATION_LEVEL >= 2\u001b[m\n",
      "\u001b[31m-#define    HPL_dswap(...)      {}\u001b[m\n",
      "\u001b[31m-#define    HPL_dgemv(...)      {}\u001b[m\n",
      "\u001b[31m-#define    HPL_daxpy(...)      {}\u001b[m\n",
      "\u001b[31m-#define    HPL_dscal(...)      {}\u001b[m\n",
      "\u001b[31m-#define    HPL_idamax(N, X, incX) (rand()%N)\u001b[m\n",
      "\u001b[31m-#define    HPL_dtrsv(...)      {}\u001b[m\n",
      "\u001b[31m-#define    HPL_dger(...)       {}\u001b[m\n",
      "\u001b[31m-#pragma message \"[SMPI] Using no-op for the “cheapest” BLAS functions.\"\u001b[m\n",
      "\u001b[31m-#else\u001b[m\n",
      " #define    HPL_dswap           cblas_dswap\u001b[m\n",
      " #define    HPL_dgemv           cblas_dgemv\u001b[m\n",
      " #define    HPL_daxpy           cblas_daxpy\u001b[m\n",
      "\u001b[36m@@ -179,7 +169,6 @@\u001b[m \u001b[mSTDC_ARGS(\u001b[m\n",
      " #define    HPL_dtrsv           cblas_dtrsv\u001b[m\n",
      " #define    HPL_dger            cblas_dger\u001b[m\n",
      " #pragma message \"[SMPI] Using cblas for the “cheapest” BLAS functions.\"\u001b[m\n",
      "\u001b[31m-#endif\u001b[m\n",
      " \u001b[m\n",
      " // From http://stackoverflow.com/a/10227059/4110059\u001b[m\n",
      " #define VALUE_TO_STRING(x) #x\u001b[m\n",
      "\n"
     ]
    }
   ],
   "source": [
    "patch_blas = (remove_hpl_lines, 'include/hpl_blas.h', list(range(164, 174))+[182])\n",
    "patch_hpl(job, patch_blas)"
   ]
  },
  {
   "cell_type": "code",
   "execution_count": 25,
   "metadata": {},
   "outputs": [
    {
     "name": "stderr",
     "output_type": "stream",
     "text": [
      "\u001b[37m[2019-01-14 09:16:37][DEBUG] \u001b[37m[director] put: /home/tom/Dropbox/Documents/Fac/phd/mpi_calibration/dahu/smpi_hpl/tmpznfrkwcz → /tmp/hpl-2.2/bin/SMPI/concatenate.sh\u001b[0m\n",
      "\u001b[37m[2019-01-14 09:16:38][DEBUG] \u001b[37m[allnodes] put: /home/tom/Dropbox/Documents/Fac/phd/mpi_calibration/dahu/smpi_hpl/tmp3kdjn9a8 → /tmp/hpl-2.2/bin/SMPI/platform.xml\u001b[0m\n",
      "\u001b[37m[2019-01-14 09:16:38][DEBUG] \u001b[37m[allnodes] put: /home/tom/Dropbox/Documents/Fac/phd/mpi_calibration/dahu/smpi_hpl/tmpq1pdie6l → /tmp/hpl-2.2/bin/SMPI/hosts.txt\u001b[0m\n",
      "\u001b[33m[2019-01-14 09:16:38][WARNING] \u001b[37mRequested 1 process per node and 32 thread per process, but 1 cores are available\u001b[0m\n",
      "\u001b[37m[2019-01-14 09:16:38][DEBUG] \u001b[37m[allnodes] put: /home/tom/Dropbox/Documents/Fac/phd/mpi_calibration/dahu/smpi_hpl/tmp8g57rx_f → /tmp/hpl-2.2/bin/SMPI/HPL.dat\u001b[0m\n",
      "\u001b[37m[2019-01-14 09:16:38][DEBUG] \u001b[37m[director | /tmp/hpl-2.2/bin/SMPI] SMPI_DGEMM_COEFFICIENT=2.548998e-12 SMPI_DGEMM_INTERCEPT=9.905042e-05 SMPI_DTRSM_COEFFICIENT=4.524788e-12 SMPI_DTRSM_INTERCEPT=3.975362e-05 TIME=\"/usr/bin/time:output %U %S %F %R %P\" LD_LIBRARY_PATH=/tmp/lib smpirun -wrapper /usr/bin/time --cfg=smpi/privatize-global-variables:dlopen -np 8 --cfg=tracing:yes --cfg=tracing/filename:/tmp/trace_0.paje --cfg=tracing/smpi:1 --cfg=tracing/smpi/display-sizes:yes --cfg=tracing/smpi/computing:yes --cfg=smpi/shared-malloc-hugepage:/root/huge --cfg=smpi/shared-malloc-blocksize:2097152 --cfg=smpi/display-timing:yes -platform platform.xml -hostfile hosts.txt ./xhpl\u001b[0m\n",
      "\u001b[37m[2019-01-14 09:17:27][DEBUG] \u001b[37m[director | /tmp] pj_dump -u /tmp/trace_0.paje | grep -v MPI_Iprobe > trace_mpi_0.csv\u001b[0m\n",
      "\u001b[37m[2019-01-14 09:17:35][DEBUG] \u001b[37m[director | /tmp/hpl-2.2/bin/SMPI] bash concatenate.sh blas*trace > /tmp/trace_blas_0.csv\u001b[0m\n",
      "\u001b[37m[2019-01-14 09:17:35][DEBUG] \u001b[37m[allnodes | /tmp/hpl-2.2/bin/SMPI] rm -f blas*trace\u001b[0m\n",
      "\u001b[37m[2019-01-14 09:17:35][DEBUG] \u001b[37m[director | /tmp] zip -ru grenoble_2019-01-14_1839830.zip trace_mpi_0.csv\u001b[0m\n",
      "\u001b[37m[2019-01-14 09:17:37][DEBUG] \u001b[37m[director | /tmp] zip -ru grenoble_2019-01-14_1839830.zip trace_blas_0.csv\u001b[0m\n",
      "\u001b[37m[2019-01-14 09:17:38][DEBUG] \u001b[37m[director] put: /home/tom/Dropbox/Documents/Fac/phd/mpi_calibration/dahu/smpi_hpl/tmpr_99enh2 → /tmp/results.csv\u001b[0m\n",
      "\u001b[37m[2019-01-14 09:17:38][DEBUG] \u001b[37m[director | /tmp] zip -ru grenoble_2019-01-14_1839830.zip results.csv\u001b[0m\n"
     ]
    }
   ],
   "source": [
    "job.run_exp()"
   ]
  },
  {
   "cell_type": "code",
   "execution_count": 26,
   "metadata": {},
   "outputs": [
    {
     "name": "stderr",
     "output_type": "stream",
     "text": [
      "\u001b[37m[2019-01-14 09:17:38][DEBUG] \u001b[37m[allnodes | /tmp] grep -E \"MPI_Recv|MPI_Send|MPI_Irecv|computing\" /tmp/trace_mpi_0.csv | grep -E \"rank-0|rank-1|rank-2|rank-3|rank-4|rank-5|rank-6|rank-7\" > /tmp/mpi.csv\u001b[0m\n",
      "\u001b[37m[2019-01-14 09:17:42][DEBUG] \u001b[37m[allnodes] get: /tmp/mpi.csv → /tmp/mpi.csv\u001b[0m\n"
     ]
    },
    {
     "data": {
      "text/html": [
       "<div>\n",
       "<style scoped>\n",
       "    .dataframe tbody tr th:only-of-type {\n",
       "        vertical-align: middle;\n",
       "    }\n",
       "\n",
       "    .dataframe tbody tr th {\n",
       "        vertical-align: top;\n",
       "    }\n",
       "\n",
       "    .dataframe thead th {\n",
       "        text-align: right;\n",
       "    }\n",
       "</style>\n",
       "<table border=\"1\" class=\"dataframe\">\n",
       "  <thead>\n",
       "    <tr style=\"text-align: right;\">\n",
       "      <th></th>\n",
       "      <th>type</th>\n",
       "      <th>rank</th>\n",
       "      <th>container</th>\n",
       "      <th>start</th>\n",
       "      <th>end</th>\n",
       "      <th>duration</th>\n",
       "      <th>level</th>\n",
       "      <th>function</th>\n",
       "      <th>msg_size</th>\n",
       "    </tr>\n",
       "  </thead>\n",
       "  <tbody>\n",
       "    <tr>\n",
       "      <th>679145</th>\n",
       "      <td>State</td>\n",
       "      <td>0</td>\n",
       "      <td>MPI_STATE</td>\n",
       "      <td>0.000000</td>\n",
       "      <td>0.000073</td>\n",
       "      <td>0.000073</td>\n",
       "      <td>0.0</td>\n",
       "      <td>computing</td>\n",
       "      <td>0.000073</td>\n",
       "    </tr>\n",
       "    <tr>\n",
       "      <th>679146</th>\n",
       "      <td>State</td>\n",
       "      <td>0</td>\n",
       "      <td>MPI_STATE</td>\n",
       "      <td>0.000073</td>\n",
       "      <td>0.000075</td>\n",
       "      <td>0.000002</td>\n",
       "      <td>0.0</td>\n",
       "      <td>MPI_Recv</td>\n",
       "      <td>4.000000</td>\n",
       "    </tr>\n",
       "    <tr>\n",
       "      <th>679147</th>\n",
       "      <td>State</td>\n",
       "      <td>0</td>\n",
       "      <td>MPI_STATE</td>\n",
       "      <td>0.000075</td>\n",
       "      <td>0.000076</td>\n",
       "      <td>0.000001</td>\n",
       "      <td>0.0</td>\n",
       "      <td>computing</td>\n",
       "      <td>0.000001</td>\n",
       "    </tr>\n",
       "    <tr>\n",
       "      <th>679148</th>\n",
       "      <td>State</td>\n",
       "      <td>0</td>\n",
       "      <td>MPI_STATE</td>\n",
       "      <td>0.000076</td>\n",
       "      <td>0.000077</td>\n",
       "      <td>0.000001</td>\n",
       "      <td>0.0</td>\n",
       "      <td>MPI_Recv</td>\n",
       "      <td>4.000000</td>\n",
       "    </tr>\n",
       "    <tr>\n",
       "      <th>679149</th>\n",
       "      <td>State</td>\n",
       "      <td>0</td>\n",
       "      <td>MPI_STATE</td>\n",
       "      <td>0.000077</td>\n",
       "      <td>0.000079</td>\n",
       "      <td>0.000002</td>\n",
       "      <td>0.0</td>\n",
       "      <td>MPI_Recv</td>\n",
       "      <td>4.000000</td>\n",
       "    </tr>\n",
       "  </tbody>\n",
       "</table>\n",
       "</div>"
      ],
      "text/plain": [
       "         type  rank   container     start       end  duration  level  \\\n",
       "679145  State     0   MPI_STATE  0.000000  0.000073  0.000073    0.0   \n",
       "679146  State     0   MPI_STATE  0.000073  0.000075  0.000002    0.0   \n",
       "679147  State     0   MPI_STATE  0.000075  0.000076  0.000001    0.0   \n",
       "679148  State     0   MPI_STATE  0.000076  0.000077  0.000001    0.0   \n",
       "679149  State     0   MPI_STATE  0.000077  0.000079  0.000002    0.0   \n",
       "\n",
       "         function  msg_size  \n",
       "679145  computing  0.000073  \n",
       "679146   MPI_Recv  4.000000  \n",
       "679147  computing  0.000001  \n",
       "679148   MPI_Recv  4.000000  \n",
       "679149   MPI_Recv  4.000000  "
      ]
     },
     "execution_count": 26,
     "metadata": {},
     "output_type": "execute_result"
    }
   ],
   "source": [
    "trace_tmp = get_trace(job, ['MPI_Recv', 'MPI_Send', 'MPI_Irecv', 'computing'], range(8))\n",
    "trace_tmp.head()"
   ]
  },
  {
   "cell_type": "code",
   "execution_count": 27,
   "metadata": {},
   "outputs": [
    {
     "data": {
      "text/html": [
       "<div>\n",
       "<style scoped>\n",
       "    .dataframe tbody tr th:only-of-type {\n",
       "        vertical-align: middle;\n",
       "    }\n",
       "\n",
       "    .dataframe tbody tr th {\n",
       "        vertical-align: top;\n",
       "    }\n",
       "\n",
       "    .dataframe thead tr th {\n",
       "        text-align: left;\n",
       "    }\n",
       "\n",
       "    .dataframe thead tr:last-of-type th {\n",
       "        text-align: right;\n",
       "    }\n",
       "</style>\n",
       "<table border=\"1\" class=\"dataframe\">\n",
       "  <thead>\n",
       "    <tr>\n",
       "      <th></th>\n",
       "      <th>msg_size</th>\n",
       "      <th>duration</th>\n",
       "    </tr>\n",
       "    <tr>\n",
       "      <th></th>\n",
       "      <th>sum</th>\n",
       "      <th>sum</th>\n",
       "    </tr>\n",
       "    <tr>\n",
       "      <th>function</th>\n",
       "      <th></th>\n",
       "      <th></th>\n",
       "    </tr>\n",
       "  </thead>\n",
       "  <tbody>\n",
       "    <tr>\n",
       "      <th>MPI_Irecv</th>\n",
       "      <td>9.076838e+09</td>\n",
       "      <td>0.000000</td>\n",
       "    </tr>\n",
       "    <tr>\n",
       "      <th>MPI_Recv</th>\n",
       "      <td>3.316546e+10</td>\n",
       "      <td>3.151779</td>\n",
       "    </tr>\n",
       "    <tr>\n",
       "      <th>MPI_Send</th>\n",
       "      <td>4.224229e+10</td>\n",
       "      <td>6.415966</td>\n",
       "    </tr>\n",
       "    <tr>\n",
       "      <th>computing</th>\n",
       "      <td>4.842156e+00</td>\n",
       "      <td>4.843948</td>\n",
       "    </tr>\n",
       "  </tbody>\n",
       "</table>\n",
       "</div>"
      ],
      "text/plain": [
       "               msg_size  duration\n",
       "                    sum       sum\n",
       "function                         \n",
       "MPI_Irecv  9.076838e+09  0.000000\n",
       "MPI_Recv   3.316546e+10  3.151779\n",
       "MPI_Send   4.224229e+10  6.415966\n",
       "computing  4.842156e+00  4.843948"
      ]
     },
     "execution_count": 27,
     "metadata": {},
     "output_type": "execute_result"
    }
   ],
   "source": [
    "trace_tmp.groupby(['function'])[['msg_size', 'duration']].agg(['sum'])"
   ]
  },
  {
   "cell_type": "markdown",
   "metadata": {},
   "source": [
    "### Initialization and verification"
   ]
  },
  {
   "cell_type": "code",
   "execution_count": 28,
   "metadata": {},
   "outputs": [
    {
     "name": "stderr",
     "output_type": "stream",
     "text": [
      "\u001b[37m[2019-01-14 09:17:46][DEBUG] \u001b[37m[allnodes | /tmp/hpl-2.2] git checkout src include testing\u001b[0m\n",
      "\u001b[37m[2019-01-14 09:17:46][DEBUG] \u001b[37m[allnodes | /tmp/hpl-2.2] git clean -xfd .\u001b[0m\n",
      "\u001b[37m[2019-01-14 09:17:46][DEBUG] \u001b[37m[allnodes | /tmp] sed -i -e \"64d;65d;66d;215d;217d;351d;352d;353d;354d;355d\" hpl-2.2/testing/ptest/HPL_pdtest.c\u001b[0m\n",
      "\u001b[37m[2019-01-14 09:17:46][DEBUG] \u001b[37m[allnodes | /tmp/hpl-2.2] git clean -xfd .\u001b[0m\n",
      "\u001b[37m[2019-01-14 09:17:46][DEBUG] \u001b[37m[allnodes | /tmp/hpl-2.2] make SMPI_OPTS=\"-DSMPI_MEASURE -DSMPI_OPTIMIZATION_LEVEL=4\" arch=SMPI\u001b[0m\n",
      "\u001b[37m[2019-01-14 09:18:03][DEBUG] \u001b[37m[allnodes | /tmp/hpl-2.2] git diff --color src include testing\u001b[0m\n"
     ]
    },
    {
     "name": "stdout",
     "output_type": "stream",
     "text": [
      "\u001b[1mdiff --git a/testing/ptest/HPL_pdtest.c b/testing/ptest/HPL_pdtest.c\u001b[m\n",
      "\u001b[1mindex 21c0a32..db07875 100644\u001b[m\n",
      "\u001b[1m--- a/testing/ptest/HPL_pdtest.c\u001b[m\n",
      "\u001b[1m+++ b/testing/ptest/HPL_pdtest.c\u001b[m\n",
      "\u001b[36m@@ -61,9 +61,6 @@\u001b[m\n",
      " #define smpi_free free\u001b[m\n",
      " #endif\u001b[m\n",
      " \u001b[m\n",
      "\u001b[31m-#if SMPI_OPTIMIZATION_LEVEL <= 1\u001b[m\n",
      "\u001b[31m-#define SMPI_DO_INITIALIZATION_VERIFICATION\u001b[m\n",
      "\u001b[31m-#endif\u001b[m\n",
      " \u001b[m\n",
      " void *random_shared_malloc(size_t size) {\u001b[m\n",
      "     void *ptr = SMPI_SHARED_MALLOC(size);\u001b[m\n",
      "\u001b[36m@@ -212,9 +209,7 @@\u001b[m \u001b[mvoid HPL_pdtest\u001b[m\n",
      "    mat.A  = (double *)HPL_PTR( vptr,\u001b[m\n",
      "                                ((size_t)(ALGO->align) * sizeof(double) ) );\u001b[m\n",
      "    mat.X  = Mptr( mat.A, 0, mat.nq, mat.ld );\u001b[m\n",
      "\u001b[31m-#ifdef SMPI_DO_INITIALIZATION_VERIFICATION\u001b[m\n",
      "    HPL_pdmatgen( GRID, N, N+1, NB, mat.A, mat.ld, HPL_ISEED );\u001b[m\n",
      "\u001b[31m-#endif\u001b[m\n",
      " #ifdef HPL_CALL_VSIPL\u001b[m\n",
      "    mat.block = vsip_blockbind_d( (vsip_scalar_d *)(mat.A),\u001b[m\n",
      "                                  (vsip_length)(mat.ld * mat.nq),\u001b[m\n",
      "\u001b[36m@@ -348,11 +343,6 @@\u001b[m \u001b[mvoid HPL_pdtest\u001b[m\n",
      "    }\u001b[m\n",
      " #endif\u001b[m\n",
      " \u001b[m\n",
      "\u001b[31m-#ifndef SMPI_DO_INITIALIZATION_VERIFICATION\u001b[m\n",
      "\u001b[31m-    if(vptr)\u001b[m\n",
      "\u001b[31m-        smpi_free(vptr);\u001b[m\n",
      "\u001b[31m-    return;\u001b[m\n",
      "\u001b[31m-#endif\u001b[m\n",
      " /*\u001b[m\n",
      "  * Quick return, if I am not interested in checking the computations\u001b[m\n",
      "  */\u001b[m\n",
      "\n"
     ]
    }
   ],
   "source": [
    "patch_init = (remove_hpl_lines, 'testing/ptest/HPL_pdtest.c', [64, 65, 66, 215, 217, 351, 352, 353, 354, 355])\n",
    "patch_hpl(job, patch_init)"
   ]
  },
  {
   "cell_type": "code",
   "execution_count": 29,
   "metadata": {},
   "outputs": [
    {
     "name": "stderr",
     "output_type": "stream",
     "text": [
      "\u001b[37m[2019-01-14 09:18:03][DEBUG] \u001b[37m[director] put: /home/tom/Dropbox/Documents/Fac/phd/mpi_calibration/dahu/smpi_hpl/tmpozfuspyc → /tmp/hpl-2.2/bin/SMPI/concatenate.sh\u001b[0m\n",
      "\u001b[37m[2019-01-14 09:18:03][DEBUG] \u001b[37m[allnodes] put: /home/tom/Dropbox/Documents/Fac/phd/mpi_calibration/dahu/smpi_hpl/tmpz42jylzm → /tmp/hpl-2.2/bin/SMPI/platform.xml\u001b[0m\n",
      "\u001b[37m[2019-01-14 09:18:04][DEBUG] \u001b[37m[allnodes] put: /home/tom/Dropbox/Documents/Fac/phd/mpi_calibration/dahu/smpi_hpl/tmpcaflw6ri → /tmp/hpl-2.2/bin/SMPI/hosts.txt\u001b[0m\n",
      "\u001b[33m[2019-01-14 09:18:04][WARNING] \u001b[37mRequested 1 process per node and 32 thread per process, but 1 cores are available\u001b[0m\n",
      "\u001b[37m[2019-01-14 09:18:04][DEBUG] \u001b[37m[allnodes] put: /home/tom/Dropbox/Documents/Fac/phd/mpi_calibration/dahu/smpi_hpl/tmpjb6z_b0d → /tmp/hpl-2.2/bin/SMPI/HPL.dat\u001b[0m\n",
      "\u001b[37m[2019-01-14 09:18:04][DEBUG] \u001b[37m[director | /tmp/hpl-2.2/bin/SMPI] SMPI_DGEMM_COEFFICIENT=2.548998e-12 SMPI_DGEMM_INTERCEPT=9.905042e-05 SMPI_DTRSM_COEFFICIENT=4.524788e-12 SMPI_DTRSM_INTERCEPT=3.975362e-05 TIME=\"/usr/bin/time:output %U %S %F %R %P\" LD_LIBRARY_PATH=/tmp/lib smpirun -wrapper /usr/bin/time --cfg=smpi/privatize-global-variables:dlopen -np 8 --cfg=tracing:yes --cfg=tracing/filename:/tmp/trace_0.paje --cfg=tracing/smpi:1 --cfg=tracing/smpi/display-sizes:yes --cfg=tracing/smpi/computing:yes --cfg=smpi/shared-malloc-hugepage:/root/huge --cfg=smpi/shared-malloc-blocksize:2097152 --cfg=smpi/display-timing:yes -platform platform.xml -hostfile hosts.txt ./xhpl\u001b[0m\n",
      "\u001b[37m[2019-01-14 09:20:31][DEBUG] \u001b[37m[director | /tmp] pj_dump -u /tmp/trace_0.paje | grep -v MPI_Iprobe > trace_mpi_0.csv\u001b[0m\n",
      "\u001b[37m[2019-01-14 09:20:39][DEBUG] \u001b[37m[director | /tmp/hpl-2.2/bin/SMPI] bash concatenate.sh blas*trace > /tmp/trace_blas_0.csv\u001b[0m\n",
      "\u001b[37m[2019-01-14 09:20:39][DEBUG] \u001b[37m[allnodes | /tmp/hpl-2.2/bin/SMPI] rm -f blas*trace\u001b[0m\n",
      "\u001b[37m[2019-01-14 09:20:39][DEBUG] \u001b[37m[director | /tmp] zip -ru grenoble_2019-01-14_1839830.zip trace_mpi_0.csv\u001b[0m\n",
      "\u001b[37m[2019-01-14 09:20:41][DEBUG] \u001b[37m[director | /tmp] zip -ru grenoble_2019-01-14_1839830.zip trace_blas_0.csv\u001b[0m\n",
      "\u001b[37m[2019-01-14 09:20:42][DEBUG] \u001b[37m[director] put: /home/tom/Dropbox/Documents/Fac/phd/mpi_calibration/dahu/smpi_hpl/tmpr45bxabx → /tmp/results.csv\u001b[0m\n",
      "\u001b[37m[2019-01-14 09:20:42][DEBUG] \u001b[37m[director | /tmp] zip -ru grenoble_2019-01-14_1839830.zip results.csv\u001b[0m\n"
     ]
    }
   ],
   "source": [
    "job.run_exp()"
   ]
  },
  {
   "cell_type": "code",
   "execution_count": 30,
   "metadata": {},
   "outputs": [
    {
     "name": "stderr",
     "output_type": "stream",
     "text": [
      "\u001b[37m[2019-01-14 09:20:42][DEBUG] \u001b[37m[allnodes | /tmp] grep -E \"MPI_Recv|MPI_Send|MPI_Irecv|computing\" /tmp/trace_mpi_0.csv | grep -E \"rank-0|rank-1|rank-2|rank-3|rank-4|rank-5|rank-6|rank-7\" > /tmp/mpi.csv\u001b[0m\n",
      "\u001b[37m[2019-01-14 09:20:45][DEBUG] \u001b[37m[allnodes] get: /tmp/mpi.csv → /tmp/mpi.csv\u001b[0m\n"
     ]
    },
    {
     "data": {
      "text/html": [
       "<div>\n",
       "<style scoped>\n",
       "    .dataframe tbody tr th:only-of-type {\n",
       "        vertical-align: middle;\n",
       "    }\n",
       "\n",
       "    .dataframe tbody tr th {\n",
       "        vertical-align: top;\n",
       "    }\n",
       "\n",
       "    .dataframe thead th {\n",
       "        text-align: right;\n",
       "    }\n",
       "</style>\n",
       "<table border=\"1\" class=\"dataframe\">\n",
       "  <thead>\n",
       "    <tr style=\"text-align: right;\">\n",
       "      <th></th>\n",
       "      <th>type</th>\n",
       "      <th>rank</th>\n",
       "      <th>container</th>\n",
       "      <th>start</th>\n",
       "      <th>end</th>\n",
       "      <th>duration</th>\n",
       "      <th>level</th>\n",
       "      <th>function</th>\n",
       "      <th>msg_size</th>\n",
       "    </tr>\n",
       "  </thead>\n",
       "  <tbody>\n",
       "    <tr>\n",
       "      <th>604877</th>\n",
       "      <td>State</td>\n",
       "      <td>0</td>\n",
       "      <td>MPI_STATE</td>\n",
       "      <td>0.000000</td>\n",
       "      <td>0.000063</td>\n",
       "      <td>0.000063</td>\n",
       "      <td>0.0</td>\n",
       "      <td>computing</td>\n",
       "      <td>0.000063</td>\n",
       "    </tr>\n",
       "    <tr>\n",
       "      <th>604878</th>\n",
       "      <td>State</td>\n",
       "      <td>0</td>\n",
       "      <td>MPI_STATE</td>\n",
       "      <td>0.000063</td>\n",
       "      <td>0.000065</td>\n",
       "      <td>0.000002</td>\n",
       "      <td>0.0</td>\n",
       "      <td>MPI_Recv</td>\n",
       "      <td>4.000000</td>\n",
       "    </tr>\n",
       "    <tr>\n",
       "      <th>604879</th>\n",
       "      <td>State</td>\n",
       "      <td>0</td>\n",
       "      <td>MPI_STATE</td>\n",
       "      <td>0.000065</td>\n",
       "      <td>0.000066</td>\n",
       "      <td>0.000001</td>\n",
       "      <td>0.0</td>\n",
       "      <td>computing</td>\n",
       "      <td>0.000001</td>\n",
       "    </tr>\n",
       "    <tr>\n",
       "      <th>604880</th>\n",
       "      <td>State</td>\n",
       "      <td>0</td>\n",
       "      <td>MPI_STATE</td>\n",
       "      <td>0.000066</td>\n",
       "      <td>0.000067</td>\n",
       "      <td>0.000001</td>\n",
       "      <td>0.0</td>\n",
       "      <td>MPI_Recv</td>\n",
       "      <td>4.000000</td>\n",
       "    </tr>\n",
       "    <tr>\n",
       "      <th>604881</th>\n",
       "      <td>State</td>\n",
       "      <td>0</td>\n",
       "      <td>MPI_STATE</td>\n",
       "      <td>0.000067</td>\n",
       "      <td>0.000069</td>\n",
       "      <td>0.000002</td>\n",
       "      <td>0.0</td>\n",
       "      <td>MPI_Recv</td>\n",
       "      <td>4.000000</td>\n",
       "    </tr>\n",
       "  </tbody>\n",
       "</table>\n",
       "</div>"
      ],
      "text/plain": [
       "         type  rank   container     start       end  duration  level  \\\n",
       "604877  State     0   MPI_STATE  0.000000  0.000063  0.000063    0.0   \n",
       "604878  State     0   MPI_STATE  0.000063  0.000065  0.000002    0.0   \n",
       "604879  State     0   MPI_STATE  0.000065  0.000066  0.000001    0.0   \n",
       "604880  State     0   MPI_STATE  0.000066  0.000067  0.000001    0.0   \n",
       "604881  State     0   MPI_STATE  0.000067  0.000069  0.000002    0.0   \n",
       "\n",
       "         function  msg_size  \n",
       "604877  computing  0.000063  \n",
       "604878   MPI_Recv  4.000000  \n",
       "604879  computing  0.000001  \n",
       "604880   MPI_Recv  4.000000  \n",
       "604881   MPI_Recv  4.000000  "
      ]
     },
     "execution_count": 30,
     "metadata": {},
     "output_type": "execute_result"
    }
   ],
   "source": [
    "trace_tmp = get_trace(job, ['MPI_Recv', 'MPI_Send', 'MPI_Irecv', 'computing'], range(8))\n",
    "trace_tmp.head()"
   ]
  },
  {
   "cell_type": "code",
   "execution_count": 31,
   "metadata": {},
   "outputs": [
    {
     "data": {
      "text/html": [
       "<div>\n",
       "<style scoped>\n",
       "    .dataframe tbody tr th:only-of-type {\n",
       "        vertical-align: middle;\n",
       "    }\n",
       "\n",
       "    .dataframe tbody tr th {\n",
       "        vertical-align: top;\n",
       "    }\n",
       "\n",
       "    .dataframe thead tr th {\n",
       "        text-align: left;\n",
       "    }\n",
       "\n",
       "    .dataframe thead tr:last-of-type th {\n",
       "        text-align: right;\n",
       "    }\n",
       "</style>\n",
       "<table border=\"1\" class=\"dataframe\">\n",
       "  <thead>\n",
       "    <tr>\n",
       "      <th></th>\n",
       "      <th>msg_size</th>\n",
       "      <th>duration</th>\n",
       "    </tr>\n",
       "    <tr>\n",
       "      <th></th>\n",
       "      <th>sum</th>\n",
       "      <th>sum</th>\n",
       "    </tr>\n",
       "    <tr>\n",
       "      <th>function</th>\n",
       "      <th></th>\n",
       "      <th></th>\n",
       "    </tr>\n",
       "  </thead>\n",
       "  <tbody>\n",
       "    <tr>\n",
       "      <th>MPI_Irecv</th>\n",
       "      <td>1.512280e+10</td>\n",
       "      <td>0.000000</td>\n",
       "    </tr>\n",
       "    <tr>\n",
       "      <th>MPI_Recv</th>\n",
       "      <td>3.023868e+10</td>\n",
       "      <td>3.102054</td>\n",
       "    </tr>\n",
       "    <tr>\n",
       "      <th>MPI_Send</th>\n",
       "      <td>4.536148e+10</td>\n",
       "      <td>7.537622</td>\n",
       "    </tr>\n",
       "    <tr>\n",
       "      <th>computing</th>\n",
       "      <td>1.263856e+02</td>\n",
       "      <td>126.349935</td>\n",
       "    </tr>\n",
       "  </tbody>\n",
       "</table>\n",
       "</div>"
      ],
      "text/plain": [
       "               msg_size    duration\n",
       "                    sum         sum\n",
       "function                           \n",
       "MPI_Irecv  1.512280e+10    0.000000\n",
       "MPI_Recv   3.023868e+10    3.102054\n",
       "MPI_Send   4.536148e+10    7.537622\n",
       "computing  1.263856e+02  126.349935"
      ]
     },
     "execution_count": 31,
     "metadata": {},
     "output_type": "execute_result"
    }
   ],
   "source": [
    "trace_tmp.groupby(['function'])[['msg_size', 'duration']].agg(['sum'])"
   ]
  },
  {
   "cell_type": "markdown",
   "metadata": {},
   "source": [
    "### Initialization and verification & BLAS & utility"
   ]
  },
  {
   "cell_type": "code",
   "execution_count": 32,
   "metadata": {},
   "outputs": [
    {
     "name": "stderr",
     "output_type": "stream",
     "text": [
      "\u001b[37m[2019-01-14 09:20:49][DEBUG] \u001b[37m[allnodes | /tmp/hpl-2.2] git checkout src include testing\u001b[0m\n",
      "\u001b[37m[2019-01-14 09:20:49][DEBUG] \u001b[37m[allnodes | /tmp/hpl-2.2] git clean -xfd .\u001b[0m\n",
      "\u001b[37m[2019-01-14 09:20:49][DEBUG] \u001b[37m[allnodes | /tmp] sed -i -e \"64d;65d;66d;215d;217d;351d;352d;353d;354d;355d\" hpl-2.2/testing/ptest/HPL_pdtest.c\u001b[0m\n",
      "\u001b[37m[2019-01-14 09:20:49][DEBUG] \u001b[37m[allnodes | /tmp] sed -i -e \"164d;165d;166d;167d;168d;169d;170d;171d;172d;173d;182d\" hpl-2.2/include/hpl_blas.h\u001b[0m\n",
      "\u001b[37m[2019-01-14 09:20:50][DEBUG] \u001b[37m[allnodes | /tmp] cp -f /tmp/original/hpl-2.2/src/auxil/HPL_dlatcpy.c hpl-2.2/src/auxil/HPL_dlatcpy.c\u001b[0m\n",
      "\u001b[37m[2019-01-14 09:20:50][DEBUG] \u001b[37m[allnodes | /tmp] cp -f /tmp/original/hpl-2.2/src/auxil/HPL_dlacpy.c hpl-2.2/src/auxil/HPL_dlacpy.c\u001b[0m\n",
      "\u001b[37m[2019-01-14 09:20:50][DEBUG] \u001b[37m[allnodes | /tmp] cp -f /tmp/original/hpl-2.2/src/pauxil/HPL_dlaswp01T.c hpl-2.2/src/pauxil/HPL_dlaswp01T.c\u001b[0m\n",
      "\u001b[37m[2019-01-14 09:20:50][DEBUG] \u001b[37m[allnodes | /tmp] cp -f /tmp/original/hpl-2.2/src/pauxil/HPL_dlaswp06T.c hpl-2.2/src/pauxil/HPL_dlaswp06T.c\u001b[0m\n",
      "\u001b[37m[2019-01-14 09:20:50][DEBUG] \u001b[37m[allnodes | /tmp] cp -f /tmp/original/hpl-2.2/src/pauxil/HPL_dlaswp00N.c hpl-2.2/src/pauxil/HPL_dlaswp00N.c\u001b[0m\n",
      "\u001b[37m[2019-01-14 09:20:50][DEBUG] \u001b[37m[allnodes | /tmp] cp -f /tmp/original/hpl-2.2/src/pauxil/HPL_dlaswp05N.c hpl-2.2/src/pauxil/HPL_dlaswp05N.c\u001b[0m\n",
      "\u001b[37m[2019-01-14 09:20:51][DEBUG] \u001b[37m[allnodes | /tmp] cp -f /tmp/original/hpl-2.2/src/pauxil/HPL_dlaswp03T.c hpl-2.2/src/pauxil/HPL_dlaswp03T.c\u001b[0m\n",
      "\u001b[37m[2019-01-14 09:20:51][DEBUG] \u001b[37m[allnodes | /tmp] cp -f /tmp/original/hpl-2.2/src/pauxil/HPL_dlaswp10N.c hpl-2.2/src/pauxil/HPL_dlaswp10N.c\u001b[0m\n",
      "\u001b[37m[2019-01-14 09:20:51][DEBUG] \u001b[37m[allnodes | /tmp] cp -f /tmp/original/hpl-2.2/src/pauxil/HPL_dlaswp05T.c hpl-2.2/src/pauxil/HPL_dlaswp05T.c\u001b[0m\n",
      "\u001b[37m[2019-01-14 09:20:51][DEBUG] \u001b[37m[allnodes | /tmp] cp -f /tmp/original/hpl-2.2/src/pauxil/HPL_dlaswp02N.c hpl-2.2/src/pauxil/HPL_dlaswp02N.c\u001b[0m\n",
      "\u001b[37m[2019-01-14 09:20:51][DEBUG] \u001b[37m[allnodes | /tmp] cp -f /tmp/original/hpl-2.2/src/pauxil/HPL_dlaswp03N.c hpl-2.2/src/pauxil/HPL_dlaswp03N.c\u001b[0m\n",
      "\u001b[37m[2019-01-14 09:20:51][DEBUG] \u001b[37m[allnodes | /tmp] cp -f /tmp/original/hpl-2.2/src/pauxil/HPL_dlaswp01N.c hpl-2.2/src/pauxil/HPL_dlaswp01N.c\u001b[0m\n",
      "\u001b[37m[2019-01-14 09:20:52][DEBUG] \u001b[37m[allnodes | /tmp] cp -f /tmp/original/hpl-2.2/src/pauxil/HPL_dlaswp04N.c hpl-2.2/src/pauxil/HPL_dlaswp04N.c\u001b[0m\n",
      "\u001b[37m[2019-01-14 09:20:52][DEBUG] \u001b[37m[allnodes | /tmp] cp -f /tmp/original/hpl-2.2/src/pauxil/HPL_dlaswp04T.c hpl-2.2/src/pauxil/HPL_dlaswp04T.c\u001b[0m\n",
      "\u001b[37m[2019-01-14 09:20:52][DEBUG] \u001b[37m[allnodes | /tmp] cp -f /tmp/original/hpl-2.2/src/pauxil/HPL_dlaswp06N.c hpl-2.2/src/pauxil/HPL_dlaswp06N.c\u001b[0m\n",
      "\u001b[37m[2019-01-14 09:20:52][DEBUG] \u001b[37m[allnodes | /tmp/hpl-2.2] git clean -xfd .\u001b[0m\n",
      "\u001b[37m[2019-01-14 09:20:52][DEBUG] \u001b[37m[allnodes | /tmp/hpl-2.2] make SMPI_OPTS=\"-DSMPI_MEASURE -DSMPI_OPTIMIZATION_LEVEL=4\" arch=SMPI\u001b[0m\n",
      "\u001b[37m[2019-01-14 09:21:10][DEBUG] \u001b[37m[allnodes | /tmp/hpl-2.2] git diff --color src include testing\u001b[0m\n"
     ]
    },
    {
     "name": "stdout",
     "output_type": "stream",
     "text": [
      "\u001b[1mdiff --git a/include/hpl_blas.h b/include/hpl_blas.h\u001b[m\n",
      "\u001b[1mindex ee394d6..7fe502b 100644\u001b[m\n",
      "\u001b[1m--- a/include/hpl_blas.h\u001b[m\n",
      "\u001b[1m+++ b/include/hpl_blas.h\u001b[m\n",
      "\u001b[36m@@ -161,16 +161,6 @@\u001b[m \u001b[mSTDC_ARGS(\u001b[m\n",
      "  */\u001b[m\n",
      " #define    HPL_dcopy           cblas_dcopy\u001b[m\n",
      " \u001b[m\n",
      "\u001b[31m-#if SMPI_OPTIMIZATION_LEVEL >= 2\u001b[m\n",
      "\u001b[31m-#define    HPL_dswap(...)      {}\u001b[m\n",
      "\u001b[31m-#define    HPL_dgemv(...)      {}\u001b[m\n",
      "\u001b[31m-#define    HPL_daxpy(...)      {}\u001b[m\n",
      "\u001b[31m-#define    HPL_dscal(...)      {}\u001b[m\n",
      "\u001b[31m-#define    HPL_idamax(N, X, incX) (rand()%N)\u001b[m\n",
      "\u001b[31m-#define    HPL_dtrsv(...)      {}\u001b[m\n",
      "\u001b[31m-#define    HPL_dger(...)       {}\u001b[m\n",
      "\u001b[31m-#pragma message \"[SMPI] Using no-op for the “cheapest” BLAS functions.\"\u001b[m\n",
      "\u001b[31m-#else\u001b[m\n",
      " #define    HPL_dswap           cblas_dswap\u001b[m\n",
      " #define    HPL_dgemv           cblas_dgemv\u001b[m\n",
      " #define    HPL_daxpy           cblas_daxpy\u001b[m\n",
      "\u001b[36m@@ -179,7 +169,6 @@\u001b[m \u001b[mSTDC_ARGS(\u001b[m\n",
      " #define    HPL_dtrsv           cblas_dtrsv\u001b[m\n",
      " #define    HPL_dger            cblas_dger\u001b[m\n",
      " #pragma message \"[SMPI] Using cblas for the “cheapest” BLAS functions.\"\u001b[m\n",
      "\u001b[31m-#endif\u001b[m\n",
      " \u001b[m\n",
      " // From http://stackoverflow.com/a/10227059/4110059\u001b[m\n",
      " #define VALUE_TO_STRING(x) #x\u001b[m\n",
      "\u001b[1mdiff --git a/src/auxil/HPL_dlacpy.c b/src/auxil/HPL_dlacpy.c\u001b[m\n",
      "\u001b[1mindex 8c1396a..89ae13b 100644\u001b[m\n",
      "\u001b[1m--- a/src/auxil/HPL_dlacpy.c\u001b[m\n",
      "\u001b[1m+++ b/src/auxil/HPL_dlacpy.c\u001b[m\n",
      "\u001b[36m@@ -127,9 +127,6 @@\u001b[m \u001b[mvoid HPL_dlacpy\u001b[m\n",
      " /*\u001b[m\n",
      "  * .. Local Variables ..\u001b[m\n",
      "  */\u001b[m\n",
      "\u001b[31m-#if SMPI_OPTIMIZATION_LEVEL >= 2\u001b[m\n",
      "\u001b[31m-    return;\u001b[m\n",
      "\u001b[31m-#endif\u001b[m\n",
      " #ifdef HPL_LACPY_USE_COPY\u001b[m\n",
      "    register int               j;\u001b[m\n",
      " #else\u001b[m\n",
      "\u001b[1mdiff --git a/src/auxil/HPL_dlatcpy.c b/src/auxil/HPL_dlatcpy.c\u001b[m\n",
      "\u001b[1mindex 417a1d5..7643676 100644\u001b[m\n",
      "\u001b[1m--- a/src/auxil/HPL_dlatcpy.c\u001b[m\n",
      "\u001b[1m+++ b/src/auxil/HPL_dlatcpy.c\u001b[m\n",
      "\u001b[36m@@ -127,9 +127,6 @@\u001b[m \u001b[mvoid HPL_dlatcpy\u001b[m\n",
      " /*\u001b[m\n",
      "  * .. Local Variables ..\u001b[m\n",
      "  */\u001b[m\n",
      "\u001b[31m-#if SMPI_OPTIMIZATION_LEVEL >= 2\u001b[m\n",
      "\u001b[31m-    return;\u001b[m\n",
      "\u001b[31m-#endif\u001b[m\n",
      " #ifdef HPL_LATCPY_USE_COPY\u001b[m\n",
      "    register int               j;\u001b[m\n",
      " #else\u001b[m\n",
      "\u001b[1mdiff --git a/src/pauxil/HPL_dlaswp00N.c b/src/pauxil/HPL_dlaswp00N.c\u001b[m\n",
      "\u001b[1mindex 2cab3c3..60ae8b1 100644\u001b[m\n",
      "\u001b[1m--- a/src/pauxil/HPL_dlaswp00N.c\u001b[m\n",
      "\u001b[1m+++ b/src/pauxil/HPL_dlaswp00N.c\u001b[m\n",
      "\u001b[36m@@ -112,9 +112,6 @@\u001b[m \u001b[mvoid HPL_dlaswp00N\u001b[m\n",
      " /*\u001b[m\n",
      "  * .. Local Variables ..\u001b[m\n",
      "  */\u001b[m\n",
      "\u001b[31m-#if SMPI_OPTIMIZATION_LEVEL >= 2\u001b[m\n",
      "\u001b[31m-    return;\u001b[m\n",
      "\u001b[31m-#endif\u001b[m\n",
      "    register double            r;\u001b[m\n",
      "    double                     * a0, * a1;\u001b[m\n",
      "    const int                  incA = (int)( (unsigned int)(LDA) <<\u001b[m\n",
      "\u001b[1mdiff --git a/src/pauxil/HPL_dlaswp01N.c b/src/pauxil/HPL_dlaswp01N.c\u001b[m\n",
      "\u001b[1mindex 45aec37..f467470 100644\u001b[m\n",
      "\u001b[1m--- a/src/pauxil/HPL_dlaswp01N.c\u001b[m\n",
      "\u001b[1m+++ b/src/pauxil/HPL_dlaswp01N.c\u001b[m\n",
      "\u001b[36m@@ -140,9 +140,6 @@\u001b[m \u001b[mvoid HPL_dlaswp01N\u001b[m\n",
      " /*\u001b[m\n",
      "  * .. Local Variables ..\u001b[m\n",
      "  */\u001b[m\n",
      "\u001b[31m-#if SMPI_OPTIMIZATION_LEVEL >= 2\u001b[m\n",
      "\u001b[31m-    return;\u001b[m\n",
      "\u001b[31m-#endif\u001b[m\n",
      "    double                     * a0, * a1;\u001b[m\n",
      "    const int                  incA = (int)( (unsigned int)(LDA) <<\u001b[m\n",
      "                                             HPL_LASWP01N_LOG2_DEPTH ),\u001b[m\n",
      "\u001b[1mdiff --git a/src/pauxil/HPL_dlaswp01T.c b/src/pauxil/HPL_dlaswp01T.c\u001b[m\n",
      "\u001b[1mindex afb24b6..c3c9e4a 100644\u001b[m\n",
      "\u001b[1m--- a/src/pauxil/HPL_dlaswp01T.c\u001b[m\n",
      "\u001b[1m+++ b/src/pauxil/HPL_dlaswp01T.c\u001b[m\n",
      "\u001b[36m@@ -141,9 +141,6 @@\u001b[m \u001b[mvoid HPL_dlaswp01T\u001b[m\n",
      " /*\u001b[m\n",
      "  * .. Local Variables ..\u001b[m\n",
      "  */\u001b[m\n",
      "\u001b[31m-#if SMPI_OPTIMIZATION_LEVEL >= 2\u001b[m\n",
      "\u001b[31m-    return;\u001b[m\n",
      "\u001b[31m-#endif\u001b[m\n",
      "    double                     * a0, * a1;\u001b[m\n",
      "    const int                  incA = (int)( (unsigned int)(LDA) <<\u001b[m\n",
      "                                             HPL_LASWP01T_LOG2_DEPTH ),\u001b[m\n",
      "\u001b[1mdiff --git a/src/pauxil/HPL_dlaswp02N.c b/src/pauxil/HPL_dlaswp02N.c\u001b[m\n",
      "\u001b[1mindex a49d28b..84a887b 100644\u001b[m\n",
      "\u001b[1m--- a/src/pauxil/HPL_dlaswp02N.c\u001b[m\n",
      "\u001b[1m+++ b/src/pauxil/HPL_dlaswp02N.c\u001b[m\n",
      "\u001b[36m@@ -137,9 +137,6 @@\u001b[m \u001b[mvoid HPL_dlaswp02N\u001b[m\n",
      " /*\u001b[m\n",
      "  * .. Local Variables ..\u001b[m\n",
      "  */\u001b[m\n",
      "\u001b[31m-#if SMPI_OPTIMIZATION_LEVEL >= 2\u001b[m\n",
      "\u001b[31m-    return;\u001b[m\n",
      "\u001b[31m-#endif\u001b[m\n",
      "    const double               * A0 = A, * a0;\u001b[m\n",
      "    double                     * w0;\u001b[m\n",
      "    const int                  incA = (int)( (unsigned int)(LDA) <<\u001b[m\n",
      "\u001b[1mdiff --git a/src/pauxil/HPL_dlaswp03N.c b/src/pauxil/HPL_dlaswp03N.c\u001b[m\n",
      "\u001b[1mindex f08ed10..711c211 100644\u001b[m\n",
      "\u001b[1m--- a/src/pauxil/HPL_dlaswp03N.c\u001b[m\n",
      "\u001b[1m+++ b/src/pauxil/HPL_dlaswp03N.c\u001b[m\n",
      "\u001b[36m@@ -127,9 +127,6 @@\u001b[m \u001b[mvoid HPL_dlaswp03N\u001b[m\n",
      " /*\u001b[m\n",
      "  * .. Local Variables ..\u001b[m\n",
      "  */\u001b[m\n",
      "\u001b[31m-#if SMPI_OPTIMIZATION_LEVEL >= 2\u001b[m\n",
      "\u001b[31m-    return;\u001b[m\n",
      "\u001b[31m-#endif\u001b[m\n",
      "    const double               * w = W, * w0;\u001b[m\n",
      "    double                     * u0;\u001b[m\n",
      "    const int                  incU = (int)( (unsigned int)(LDU) <<\u001b[m\n",
      "\u001b[1mdiff --git a/src/pauxil/HPL_dlaswp03T.c b/src/pauxil/HPL_dlaswp03T.c\u001b[m\n",
      "\u001b[1mindex efffab5..d6629de 100644\u001b[m\n",
      "\u001b[1m--- a/src/pauxil/HPL_dlaswp03T.c\u001b[m\n",
      "\u001b[1m+++ b/src/pauxil/HPL_dlaswp03T.c\u001b[m\n",
      "\u001b[36m@@ -127,9 +127,6 @@\u001b[m \u001b[mvoid HPL_dlaswp03T\u001b[m\n",
      " /*\u001b[m\n",
      "  * .. Local Variables ..\u001b[m\n",
      "  */\u001b[m\n",
      "\u001b[31m-#if SMPI_OPTIMIZATION_LEVEL >= 2\u001b[m\n",
      "\u001b[31m-    return;\u001b[m\n",
      "\u001b[31m-#endif\u001b[m\n",
      "    const double               * w = W, * w0; \u001b[m\n",
      "    double                     * u0;\u001b[m\n",
      "    const int                  incU = ( 1 << HPL_LASWP03T_LOG2_DEPTH );\u001b[m\n",
      "\u001b[1mdiff --git a/src/pauxil/HPL_dlaswp04N.c b/src/pauxil/HPL_dlaswp04N.c\u001b[m\n",
      "\u001b[1mindex c167354..822a5ac 100644\u001b[m\n",
      "\u001b[1m--- a/src/pauxil/HPL_dlaswp04N.c\u001b[m\n",
      "\u001b[1m+++ b/src/pauxil/HPL_dlaswp04N.c\u001b[m\n",
      "\u001b[36m@@ -158,9 +158,6 @@\u001b[m \u001b[mvoid HPL_dlaswp04N\u001b[m\n",
      " /*\u001b[m\n",
      "  * .. Local Variables ..\u001b[m\n",
      "  */\u001b[m\n",
      "\u001b[31m-#if SMPI_OPTIMIZATION_LEVEL >= 2\u001b[m\n",
      "\u001b[31m-    return;\u001b[m\n",
      "\u001b[31m-#endif\u001b[m\n",
      "    const double               * w = W, * w0;\u001b[m\n",
      "    double                     * a0, * u0;\u001b[m\n",
      "    const int                  incA = (int)( (unsigned int)(LDA) << \u001b[m\n",
      "\u001b[1mdiff --git a/src/pauxil/HPL_dlaswp04T.c b/src/pauxil/HPL_dlaswp04T.c\u001b[m\n",
      "\u001b[1mindex f279771..4b62689 100644\u001b[m\n",
      "\u001b[1m--- a/src/pauxil/HPL_dlaswp04T.c\u001b[m\n",
      "\u001b[1m+++ b/src/pauxil/HPL_dlaswp04T.c\u001b[m\n",
      "\u001b[36m@@ -159,9 +159,6 @@\u001b[m \u001b[mvoid HPL_dlaswp04T\u001b[m\n",
      " /*\u001b[m\n",
      "  * .. Local Variables ..\u001b[m\n",
      "  */\u001b[m\n",
      "\u001b[31m-#if SMPI_OPTIMIZATION_LEVEL >= 2\u001b[m\n",
      "\u001b[31m-    return;\u001b[m\n",
      "\u001b[31m-#endif\u001b[m\n",
      "    const double               * w = W, * w0;\u001b[m\n",
      "    double                     * a0, * u0;\u001b[m\n",
      "    const int                  incA = (int)( (unsigned int)(LDA) <<\u001b[m\n",
      "\u001b[1mdiff --git a/src/pauxil/HPL_dlaswp05N.c b/src/pauxil/HPL_dlaswp05N.c\u001b[m\n",
      "\u001b[1mindex 9b5f348..928e7f7 100644\u001b[m\n",
      "\u001b[1m--- a/src/pauxil/HPL_dlaswp05N.c\u001b[m\n",
      "\u001b[1m+++ b/src/pauxil/HPL_dlaswp05N.c\u001b[m\n",
      "\u001b[36m@@ -129,9 +129,6 @@\u001b[m \u001b[mvoid HPL_dlaswp05N\u001b[m\n",
      " /*\u001b[m\n",
      "  * .. Local Variables ..\u001b[m\n",
      "  */\u001b[m\n",
      "\u001b[31m-#if SMPI_OPTIMIZATION_LEVEL >= 2\u001b[m\n",
      "\u001b[31m-    return;\u001b[m\n",
      "\u001b[31m-#endif\u001b[m\n",
      "    const double               * U0 = U, * u0;\u001b[m\n",
      "    double                     * a0;\u001b[m\n",
      "    const int                  incA = (int)( (unsigned int)(LDA) <<\u001b[m\n",
      "\u001b[1mdiff --git a/src/pauxil/HPL_dlaswp05T.c b/src/pauxil/HPL_dlaswp05T.c\u001b[m\n",
      "\u001b[1mindex 019e173..50f337a 100644\u001b[m\n",
      "\u001b[1m--- a/src/pauxil/HPL_dlaswp05T.c\u001b[m\n",
      "\u001b[1m+++ b/src/pauxil/HPL_dlaswp05T.c\u001b[m\n",
      "\u001b[36m@@ -129,9 +129,6 @@\u001b[m \u001b[mvoid HPL_dlaswp05T\u001b[m\n",
      " /*\u001b[m\n",
      "  * .. Local Variables ..\u001b[m\n",
      "  */\u001b[m\n",
      "\u001b[31m-#if SMPI_OPTIMIZATION_LEVEL >= 2\u001b[m\n",
      "\u001b[31m-    return;\u001b[m\n",
      "\u001b[31m-#endif\u001b[m\n",
      "    const double               * U0 = U, * u0;\u001b[m\n",
      "    double                     * a0;\u001b[m\n",
      "    const int                  incA = (int)( (unsigned int)(LDA) <<\u001b[m\n",
      "\u001b[1mdiff --git a/src/pauxil/HPL_dlaswp06N.c b/src/pauxil/HPL_dlaswp06N.c\u001b[m\n",
      "\u001b[1mindex a745348..8954577 100644\u001b[m\n",
      "\u001b[1m--- a/src/pauxil/HPL_dlaswp06N.c\u001b[m\n",
      "\u001b[1m+++ b/src/pauxil/HPL_dlaswp06N.c\u001b[m\n",
      "\u001b[36m@@ -124,9 +124,6 @@\u001b[m \u001b[mvoid HPL_dlaswp06N\u001b[m\n",
      " /*\u001b[m\n",
      "  * .. Local Variables ..\u001b[m\n",
      "  */\u001b[m\n",
      "\u001b[31m-#if SMPI_OPTIMIZATION_LEVEL >= 2\u001b[m\n",
      "\u001b[31m-    return;\u001b[m\n",
      "\u001b[31m-#endif\u001b[m\n",
      "    double                     r;\u001b[m\n",
      "    double                     * U0 = U, * a0, * u0;\u001b[m\n",
      "    const int                  incA = (int)( (unsigned int)(LDA) <<\u001b[m\n",
      "\u001b[1mdiff --git a/src/pauxil/HPL_dlaswp06T.c b/src/pauxil/HPL_dlaswp06T.c\u001b[m\n",
      "\u001b[1mindex 1fa1268..481b53b 100644\u001b[m\n",
      "\u001b[1m--- a/src/pauxil/HPL_dlaswp06T.c\u001b[m\n",
      "\u001b[1m+++ b/src/pauxil/HPL_dlaswp06T.c\u001b[m\n",
      "\u001b[36m@@ -124,9 +124,6 @@\u001b[m \u001b[mvoid HPL_dlaswp06T\u001b[m\n",
      " /*\u001b[m\n",
      "  * .. Local Variables ..\u001b[m\n",
      "  */\u001b[m\n",
      "\u001b[31m-#if SMPI_OPTIMIZATION_LEVEL >= 2\u001b[m\n",
      "\u001b[31m-    return;\u001b[m\n",
      "\u001b[31m-#endif\u001b[m\n",
      "    double                     r;\u001b[m\n",
      "    double                     * U0 = U, * a0, * u0;\u001b[m\n",
      "    const int                  incA = (int)( (unsigned int)(LDA) <<\u001b[m\n",
      "\u001b[1mdiff --git a/src/pauxil/HPL_dlaswp10N.c b/src/pauxil/HPL_dlaswp10N.c\u001b[m\n",
      "\u001b[1mindex 912b842..8b33de5 100644\u001b[m\n",
      "\u001b[1m--- a/src/pauxil/HPL_dlaswp10N.c\u001b[m\n",
      "\u001b[1m+++ b/src/pauxil/HPL_dlaswp10N.c\u001b[m\n",
      "\u001b[36m@@ -111,9 +111,6 @@\u001b[m \u001b[mvoid HPL_dlaswp10N\u001b[m\n",
      " /*\u001b[m\n",
      "  * .. Local Variables ..\u001b[m\n",
      "  */\u001b[m\n",
      "\u001b[31m-#if SMPI_OPTIMIZATION_LEVEL >= 2\u001b[m\n",
      "\u001b[31m-    return;\u001b[m\n",
      "\u001b[31m-#endif\u001b[m\n",
      "    double                     r;\u001b[m\n",
      "    double                     * a0, * a1;\u001b[m\n",
      "    const int                  incA = ( 1 << HPL_LASWP10N_LOG2_DEPTH );\u001b[m\n",
      "\u001b[1mdiff --git a/testing/ptest/HPL_pdtest.c b/testing/ptest/HPL_pdtest.c\u001b[m\n",
      "\u001b[1mindex 21c0a32..db07875 100644\u001b[m\n",
      "\u001b[1m--- a/testing/ptest/HPL_pdtest.c\u001b[m\n",
      "\u001b[1m+++ b/testing/ptest/HPL_pdtest.c\u001b[m\n",
      "\u001b[36m@@ -61,9 +61,6 @@\u001b[m\n",
      " #define smpi_free free\u001b[m\n",
      " #endif\u001b[m\n",
      " \u001b[m\n",
      "\u001b[31m-#if SMPI_OPTIMIZATION_LEVEL <= 1\u001b[m\n",
      "\u001b[31m-#define SMPI_DO_INITIALIZATION_VERIFICATION\u001b[m\n",
      "\u001b[31m-#endif\u001b[m\n",
      " \u001b[m\n",
      " void *random_shared_malloc(size_t size) {\u001b[m\n",
      "     void *ptr = SMPI_SHARED_MALLOC(size);\u001b[m\n",
      "\u001b[36m@@ -212,9 +209,7 @@\u001b[m \u001b[mvoid HPL_pdtest\u001b[m\n",
      "    mat.A  = (double *)HPL_PTR( vptr,\u001b[m\n",
      "                                ((size_t)(ALGO->align) * sizeof(double) ) );\u001b[m\n",
      "    mat.X  = Mptr( mat.A, 0, mat.nq, mat.ld );\u001b[m\n",
      "\u001b[31m-#ifdef SMPI_DO_INITIALIZATION_VERIFICATION\u001b[m\n",
      "    HPL_pdmatgen( GRID, N, N+1, NB, mat.A, mat.ld, HPL_ISEED );\u001b[m\n",
      "\u001b[31m-#endif\u001b[m\n",
      " #ifdef HPL_CALL_VSIPL\u001b[m\n",
      "    mat.block = vsip_blockbind_d( (vsip_scalar_d *)(mat.A),\u001b[m\n",
      "                                  (vsip_length)(mat.ld * mat.nq),\u001b[m\n",
      "\u001b[36m@@ -348,11 +343,6 @@\u001b[m \u001b[mvoid HPL_pdtest\u001b[m\n",
      "    }\u001b[m\n",
      " #endif\u001b[m\n",
      " \u001b[m\n",
      "\u001b[31m-#ifndef SMPI_DO_INITIALIZATION_VERIFICATION\u001b[m\n",
      "\u001b[31m-    if(vptr)\u001b[m\n",
      "\u001b[31m-        smpi_free(vptr);\u001b[m\n",
      "\u001b[31m-    return;\u001b[m\n",
      "\u001b[31m-#endif\u001b[m\n",
      " /*\u001b[m\n",
      "  * Quick return, if I am not interested in checking the computations\u001b[m\n",
      "  */\u001b[m\n",
      "\n"
     ]
    }
   ],
   "source": [
    "patch_hpl(job, patch_init, patch_blas, patch_utility)"
   ]
  },
  {
   "cell_type": "code",
   "execution_count": 33,
   "metadata": {},
   "outputs": [
    {
     "name": "stderr",
     "output_type": "stream",
     "text": [
      "\u001b[37m[2019-01-14 09:21:10][DEBUG] \u001b[37m[director] put: /home/tom/Dropbox/Documents/Fac/phd/mpi_calibration/dahu/smpi_hpl/tmp16076fb4 → /tmp/hpl-2.2/bin/SMPI/concatenate.sh\u001b[0m\n",
      "\u001b[37m[2019-01-14 09:21:10][DEBUG] \u001b[37m[allnodes] put: /home/tom/Dropbox/Documents/Fac/phd/mpi_calibration/dahu/smpi_hpl/tmp2hdtehm8 → /tmp/hpl-2.2/bin/SMPI/platform.xml\u001b[0m\n",
      "\u001b[37m[2019-01-14 09:21:10][DEBUG] \u001b[37m[allnodes] put: /home/tom/Dropbox/Documents/Fac/phd/mpi_calibration/dahu/smpi_hpl/tmp4suxya5v → /tmp/hpl-2.2/bin/SMPI/hosts.txt\u001b[0m\n",
      "\u001b[33m[2019-01-14 09:21:10][WARNING] \u001b[37mRequested 1 process per node and 32 thread per process, but 1 cores are available\u001b[0m\n",
      "\u001b[37m[2019-01-14 09:21:10][DEBUG] \u001b[37m[allnodes] put: /home/tom/Dropbox/Documents/Fac/phd/mpi_calibration/dahu/smpi_hpl/tmpfzwlnv2i → /tmp/hpl-2.2/bin/SMPI/HPL.dat\u001b[0m\n",
      "\u001b[37m[2019-01-14 09:21:10][DEBUG] \u001b[37m[director | /tmp/hpl-2.2/bin/SMPI] SMPI_DGEMM_COEFFICIENT=2.548998e-12 SMPI_DGEMM_INTERCEPT=9.905042e-05 SMPI_DTRSM_COEFFICIENT=4.524788e-12 SMPI_DTRSM_INTERCEPT=3.975362e-05 TIME=\"/usr/bin/time:output %U %S %F %R %P\" LD_LIBRARY_PATH=/tmp/lib smpirun -wrapper /usr/bin/time --cfg=smpi/privatize-global-variables:dlopen -np 8 --cfg=tracing:yes --cfg=tracing/filename:/tmp/trace_0.paje --cfg=tracing/smpi:1 --cfg=tracing/smpi/display-sizes:yes --cfg=tracing/smpi/computing:yes --cfg=smpi/shared-malloc-hugepage:/root/huge --cfg=smpi/shared-malloc-blocksize:2097152 --cfg=smpi/display-timing:yes -platform platform.xml -hostfile hosts.txt ./xhpl\u001b[0m\n",
      "\u001b[37m[2019-01-14 09:24:41][DEBUG] \u001b[37m[director | /tmp] pj_dump -u /tmp/trace_0.paje | grep -v MPI_Iprobe > trace_mpi_0.csv\u001b[0m\n",
      "\u001b[37m[2019-01-14 09:24:50][DEBUG] \u001b[37m[director | /tmp/hpl-2.2/bin/SMPI] bash concatenate.sh blas*trace > /tmp/trace_blas_0.csv\u001b[0m\n",
      "\u001b[37m[2019-01-14 09:24:50][DEBUG] \u001b[37m[allnodes | /tmp/hpl-2.2/bin/SMPI] rm -f blas*trace\u001b[0m\n",
      "\u001b[37m[2019-01-14 09:24:50][DEBUG] \u001b[37m[director | /tmp] zip -ru grenoble_2019-01-14_1839830.zip trace_mpi_0.csv\u001b[0m\n",
      "\u001b[37m[2019-01-14 09:24:53][DEBUG] \u001b[37m[director | /tmp] zip -ru grenoble_2019-01-14_1839830.zip trace_blas_0.csv\u001b[0m\n",
      "\u001b[37m[2019-01-14 09:24:53][DEBUG] \u001b[37m[director] put: /home/tom/Dropbox/Documents/Fac/phd/mpi_calibration/dahu/smpi_hpl/tmpokgvk2ez → /tmp/results.csv\u001b[0m\n",
      "\u001b[37m[2019-01-14 09:24:54][DEBUG] \u001b[37m[director | /tmp] zip -ru grenoble_2019-01-14_1839830.zip results.csv\u001b[0m\n"
     ]
    }
   ],
   "source": [
    "job.run_exp()"
   ]
  },
  {
   "cell_type": "code",
   "execution_count": 34,
   "metadata": {},
   "outputs": [
    {
     "name": "stderr",
     "output_type": "stream",
     "text": [
      "\u001b[37m[2019-01-14 09:24:54][DEBUG] \u001b[37m[allnodes | /tmp] grep -E \"MPI_Recv|MPI_Send|MPI_Irecv|computing\" /tmp/trace_mpi_0.csv | grep -E \"rank-0|rank-1|rank-2|rank-3|rank-4|rank-5|rank-6|rank-7\" > /tmp/mpi.csv\u001b[0m\n",
      "\u001b[37m[2019-01-14 09:24:57][DEBUG] \u001b[37m[allnodes] get: /tmp/mpi.csv → /tmp/mpi.csv\u001b[0m\n"
     ]
    },
    {
     "data": {
      "text/html": [
       "<div>\n",
       "<style scoped>\n",
       "    .dataframe tbody tr th:only-of-type {\n",
       "        vertical-align: middle;\n",
       "    }\n",
       "\n",
       "    .dataframe tbody tr th {\n",
       "        vertical-align: top;\n",
       "    }\n",
       "\n",
       "    .dataframe thead th {\n",
       "        text-align: right;\n",
       "    }\n",
       "</style>\n",
       "<table border=\"1\" class=\"dataframe\">\n",
       "  <thead>\n",
       "    <tr style=\"text-align: right;\">\n",
       "      <th></th>\n",
       "      <th>type</th>\n",
       "      <th>rank</th>\n",
       "      <th>container</th>\n",
       "      <th>start</th>\n",
       "      <th>end</th>\n",
       "      <th>duration</th>\n",
       "      <th>level</th>\n",
       "      <th>function</th>\n",
       "      <th>msg_size</th>\n",
       "    </tr>\n",
       "  </thead>\n",
       "  <tbody>\n",
       "    <tr>\n",
       "      <th>724723</th>\n",
       "      <td>State</td>\n",
       "      <td>0</td>\n",
       "      <td>MPI_STATE</td>\n",
       "      <td>0.000000</td>\n",
       "      <td>0.000069</td>\n",
       "      <td>0.000069</td>\n",
       "      <td>0.0</td>\n",
       "      <td>computing</td>\n",
       "      <td>0.000069</td>\n",
       "    </tr>\n",
       "    <tr>\n",
       "      <th>724724</th>\n",
       "      <td>State</td>\n",
       "      <td>0</td>\n",
       "      <td>MPI_STATE</td>\n",
       "      <td>0.000069</td>\n",
       "      <td>0.000071</td>\n",
       "      <td>0.000002</td>\n",
       "      <td>0.0</td>\n",
       "      <td>MPI_Recv</td>\n",
       "      <td>4.000000</td>\n",
       "    </tr>\n",
       "    <tr>\n",
       "      <th>724725</th>\n",
       "      <td>State</td>\n",
       "      <td>0</td>\n",
       "      <td>MPI_STATE</td>\n",
       "      <td>0.000071</td>\n",
       "      <td>0.000072</td>\n",
       "      <td>0.000001</td>\n",
       "      <td>0.0</td>\n",
       "      <td>computing</td>\n",
       "      <td>0.000001</td>\n",
       "    </tr>\n",
       "    <tr>\n",
       "      <th>724726</th>\n",
       "      <td>State</td>\n",
       "      <td>0</td>\n",
       "      <td>MPI_STATE</td>\n",
       "      <td>0.000072</td>\n",
       "      <td>0.000073</td>\n",
       "      <td>0.000001</td>\n",
       "      <td>0.0</td>\n",
       "      <td>MPI_Recv</td>\n",
       "      <td>4.000000</td>\n",
       "    </tr>\n",
       "    <tr>\n",
       "      <th>724727</th>\n",
       "      <td>State</td>\n",
       "      <td>0</td>\n",
       "      <td>MPI_STATE</td>\n",
       "      <td>0.000073</td>\n",
       "      <td>0.000075</td>\n",
       "      <td>0.000002</td>\n",
       "      <td>0.0</td>\n",
       "      <td>MPI_Recv</td>\n",
       "      <td>4.000000</td>\n",
       "    </tr>\n",
       "  </tbody>\n",
       "</table>\n",
       "</div>"
      ],
      "text/plain": [
       "         type  rank   container     start       end  duration  level  \\\n",
       "724723  State     0   MPI_STATE  0.000000  0.000069  0.000069    0.0   \n",
       "724724  State     0   MPI_STATE  0.000069  0.000071  0.000002    0.0   \n",
       "724725  State     0   MPI_STATE  0.000071  0.000072  0.000001    0.0   \n",
       "724726  State     0   MPI_STATE  0.000072  0.000073  0.000001    0.0   \n",
       "724727  State     0   MPI_STATE  0.000073  0.000075  0.000002    0.0   \n",
       "\n",
       "         function  msg_size  \n",
       "724723  computing  0.000069  \n",
       "724724   MPI_Recv  4.000000  \n",
       "724725  computing  0.000001  \n",
       "724726   MPI_Recv  4.000000  \n",
       "724727   MPI_Recv  4.000000  "
      ]
     },
     "execution_count": 34,
     "metadata": {},
     "output_type": "execute_result"
    }
   ],
   "source": [
    "trace_tmp = get_trace(job, ['MPI_Recv', 'MPI_Send', 'MPI_Irecv', 'computing'], range(8))\n",
    "trace_tmp.head()"
   ]
  },
  {
   "cell_type": "code",
   "execution_count": 35,
   "metadata": {},
   "outputs": [
    {
     "data": {
      "text/html": [
       "<div>\n",
       "<style scoped>\n",
       "    .dataframe tbody tr th:only-of-type {\n",
       "        vertical-align: middle;\n",
       "    }\n",
       "\n",
       "    .dataframe tbody tr th {\n",
       "        vertical-align: top;\n",
       "    }\n",
       "\n",
       "    .dataframe thead tr th {\n",
       "        text-align: left;\n",
       "    }\n",
       "\n",
       "    .dataframe thead tr:last-of-type th {\n",
       "        text-align: right;\n",
       "    }\n",
       "</style>\n",
       "<table border=\"1\" class=\"dataframe\">\n",
       "  <thead>\n",
       "    <tr>\n",
       "      <th></th>\n",
       "      <th>msg_size</th>\n",
       "      <th>duration</th>\n",
       "    </tr>\n",
       "    <tr>\n",
       "      <th></th>\n",
       "      <th>sum</th>\n",
       "      <th>sum</th>\n",
       "    </tr>\n",
       "    <tr>\n",
       "      <th>function</th>\n",
       "      <th></th>\n",
       "      <th></th>\n",
       "    </tr>\n",
       "  </thead>\n",
       "  <tbody>\n",
       "    <tr>\n",
       "      <th>MPI_Irecv</th>\n",
       "      <td>1.559350e+10</td>\n",
       "      <td>0.000000</td>\n",
       "    </tr>\n",
       "    <tr>\n",
       "      <th>MPI_Recv</th>\n",
       "      <td>3.052677e+10</td>\n",
       "      <td>3.625120</td>\n",
       "    </tr>\n",
       "    <tr>\n",
       "      <th>MPI_Send</th>\n",
       "      <td>4.612026e+10</td>\n",
       "      <td>12.157093</td>\n",
       "    </tr>\n",
       "    <tr>\n",
       "      <th>computing</th>\n",
       "      <td>1.462835e+02</td>\n",
       "      <td>146.270886</td>\n",
       "    </tr>\n",
       "  </tbody>\n",
       "</table>\n",
       "</div>"
      ],
      "text/plain": [
       "               msg_size    duration\n",
       "                    sum         sum\n",
       "function                           \n",
       "MPI_Irecv  1.559350e+10    0.000000\n",
       "MPI_Recv   3.052677e+10    3.625120\n",
       "MPI_Send   4.612026e+10   12.157093\n",
       "computing  1.462835e+02  146.270886"
      ]
     },
     "execution_count": 35,
     "metadata": {},
     "output_type": "execute_result"
    }
   ],
   "source": [
    "trace_tmp.groupby(['function'])[['msg_size', 'duration']].agg(['sum'])"
   ]
  },
  {
   "cell_type": "markdown",
   "metadata": {},
   "source": [
    "### Same thing, with optimization level 3"
   ]
  },
  {
   "cell_type": "code",
   "execution_count": 36,
   "metadata": {},
   "outputs": [
    {
     "name": "stderr",
     "output_type": "stream",
     "text": [
      "\u001b[37m[2019-01-14 09:25:02][DEBUG] \u001b[37m[allnodes | /tmp/hpl-2.2] git clean -xfd .\u001b[0m\n",
      "\u001b[37m[2019-01-14 09:25:02][DEBUG] \u001b[37m[allnodes | /tmp/hpl-2.2] make SMPI_OPTS=\"-DSMPI_MEASURE -DSMPI_OPTIMIZATION_LEVEL=3\" arch=SMPI\u001b[0m\n"
     ]
    }
   ],
   "source": [
    "build_hpl(job, 3)"
   ]
  },
  {
   "cell_type": "code",
   "execution_count": 37,
   "metadata": {},
   "outputs": [
    {
     "name": "stderr",
     "output_type": "stream",
     "text": [
      "\u001b[37m[2019-01-14 09:25:19][DEBUG] \u001b[37m[director] put: /home/tom/Dropbox/Documents/Fac/phd/mpi_calibration/dahu/smpi_hpl/tmpuk7s8bwl → /tmp/hpl-2.2/bin/SMPI/concatenate.sh\u001b[0m\n",
      "\u001b[37m[2019-01-14 09:25:19][DEBUG] \u001b[37m[allnodes] put: /home/tom/Dropbox/Documents/Fac/phd/mpi_calibration/dahu/smpi_hpl/tmpnjrjg3ge → /tmp/hpl-2.2/bin/SMPI/platform.xml\u001b[0m\n",
      "\u001b[37m[2019-01-14 09:25:19][DEBUG] \u001b[37m[allnodes] put: /home/tom/Dropbox/Documents/Fac/phd/mpi_calibration/dahu/smpi_hpl/tmp_zy_89sl → /tmp/hpl-2.2/bin/SMPI/hosts.txt\u001b[0m\n",
      "\u001b[33m[2019-01-14 09:25:20][WARNING] \u001b[37mRequested 1 process per node and 32 thread per process, but 1 cores are available\u001b[0m\n",
      "\u001b[37m[2019-01-14 09:25:20][DEBUG] \u001b[37m[allnodes] put: /home/tom/Dropbox/Documents/Fac/phd/mpi_calibration/dahu/smpi_hpl/tmpcypl2l_5 → /tmp/hpl-2.2/bin/SMPI/HPL.dat\u001b[0m\n",
      "\u001b[37m[2019-01-14 09:25:20][DEBUG] \u001b[37m[director | /tmp/hpl-2.2/bin/SMPI] SMPI_DGEMM_COEFFICIENT=2.548998e-12 SMPI_DGEMM_INTERCEPT=9.905042e-05 SMPI_DTRSM_COEFFICIENT=4.524788e-12 SMPI_DTRSM_INTERCEPT=3.975362e-05 TIME=\"/usr/bin/time:output %U %S %F %R %P\" LD_LIBRARY_PATH=/tmp/lib smpirun -wrapper /usr/bin/time --cfg=smpi/privatize-global-variables:dlopen -np 8 --cfg=tracing:yes --cfg=tracing/filename:/tmp/trace_0.paje --cfg=tracing/smpi:1 --cfg=tracing/smpi/display-sizes:yes --cfg=tracing/smpi/computing:yes --cfg=smpi/shared-malloc-hugepage:/root/huge --cfg=smpi/shared-malloc-blocksize:2097152 --cfg=smpi/display-timing:yes -platform platform.xml -hostfile hosts.txt ./xhpl\u001b[0m\n",
      "\u001b[37m[2019-01-14 09:27:37][DEBUG] \u001b[37m[director | /tmp] pj_dump -u /tmp/trace_0.paje | grep -v MPI_Iprobe > trace_mpi_0.csv\u001b[0m\n",
      "\u001b[37m[2019-01-14 09:27:46][DEBUG] \u001b[37m[director | /tmp/hpl-2.2/bin/SMPI] bash concatenate.sh blas*trace > /tmp/trace_blas_0.csv\u001b[0m\n",
      "\u001b[37m[2019-01-14 09:27:46][DEBUG] \u001b[37m[allnodes | /tmp/hpl-2.2/bin/SMPI] rm -f blas*trace\u001b[0m\n",
      "\u001b[37m[2019-01-14 09:27:46][DEBUG] \u001b[37m[director | /tmp] zip -ru grenoble_2019-01-14_1839830.zip trace_mpi_0.csv\u001b[0m\n",
      "\u001b[37m[2019-01-14 09:27:49][DEBUG] \u001b[37m[director | /tmp] zip -ru grenoble_2019-01-14_1839830.zip trace_blas_0.csv\u001b[0m\n",
      "\u001b[37m[2019-01-14 09:27:49][DEBUG] \u001b[37m[director] put: /home/tom/Dropbox/Documents/Fac/phd/mpi_calibration/dahu/smpi_hpl/tmpi0vt1av6 → /tmp/results.csv\u001b[0m\n",
      "\u001b[37m[2019-01-14 09:27:50][DEBUG] \u001b[37m[director | /tmp] zip -ru grenoble_2019-01-14_1839830.zip results.csv\u001b[0m\n"
     ]
    }
   ],
   "source": [
    "job.run_exp()"
   ]
  },
  {
   "cell_type": "code",
   "execution_count": 38,
   "metadata": {},
   "outputs": [
    {
     "name": "stderr",
     "output_type": "stream",
     "text": [
      "\u001b[37m[2019-01-14 09:27:50][DEBUG] \u001b[37m[allnodes | /tmp] grep -E \"MPI_Recv|MPI_Send|MPI_Irecv|computing\" /tmp/trace_mpi_0.csv | grep -E \"rank-0|rank-1|rank-2|rank-3|rank-4|rank-5|rank-6|rank-7\" > /tmp/mpi.csv\u001b[0m\n",
      "\u001b[37m[2019-01-14 09:27:53][DEBUG] \u001b[37m[allnodes] get: /tmp/mpi.csv → /tmp/mpi.csv\u001b[0m\n"
     ]
    },
    {
     "data": {
      "text/html": [
       "<div>\n",
       "<style scoped>\n",
       "    .dataframe tbody tr th:only-of-type {\n",
       "        vertical-align: middle;\n",
       "    }\n",
       "\n",
       "    .dataframe tbody tr th {\n",
       "        vertical-align: top;\n",
       "    }\n",
       "\n",
       "    .dataframe thead th {\n",
       "        text-align: right;\n",
       "    }\n",
       "</style>\n",
       "<table border=\"1\" class=\"dataframe\">\n",
       "  <thead>\n",
       "    <tr style=\"text-align: right;\">\n",
       "      <th></th>\n",
       "      <th>type</th>\n",
       "      <th>rank</th>\n",
       "      <th>container</th>\n",
       "      <th>start</th>\n",
       "      <th>end</th>\n",
       "      <th>duration</th>\n",
       "      <th>level</th>\n",
       "      <th>function</th>\n",
       "      <th>msg_size</th>\n",
       "    </tr>\n",
       "  </thead>\n",
       "  <tbody>\n",
       "    <tr>\n",
       "      <th>720418</th>\n",
       "      <td>State</td>\n",
       "      <td>0</td>\n",
       "      <td>MPI_STATE</td>\n",
       "      <td>0.000000</td>\n",
       "      <td>0.000074</td>\n",
       "      <td>0.000074</td>\n",
       "      <td>0.0</td>\n",
       "      <td>computing</td>\n",
       "      <td>0.000074</td>\n",
       "    </tr>\n",
       "    <tr>\n",
       "      <th>720419</th>\n",
       "      <td>State</td>\n",
       "      <td>0</td>\n",
       "      <td>MPI_STATE</td>\n",
       "      <td>0.000074</td>\n",
       "      <td>0.000075</td>\n",
       "      <td>0.000001</td>\n",
       "      <td>0.0</td>\n",
       "      <td>MPI_Recv</td>\n",
       "      <td>4.000000</td>\n",
       "    </tr>\n",
       "    <tr>\n",
       "      <th>720420</th>\n",
       "      <td>State</td>\n",
       "      <td>0</td>\n",
       "      <td>MPI_STATE</td>\n",
       "      <td>0.000075</td>\n",
       "      <td>0.000077</td>\n",
       "      <td>0.000002</td>\n",
       "      <td>0.0</td>\n",
       "      <td>computing</td>\n",
       "      <td>0.000002</td>\n",
       "    </tr>\n",
       "    <tr>\n",
       "      <th>720421</th>\n",
       "      <td>State</td>\n",
       "      <td>0</td>\n",
       "      <td>MPI_STATE</td>\n",
       "      <td>0.000077</td>\n",
       "      <td>0.000078</td>\n",
       "      <td>0.000001</td>\n",
       "      <td>0.0</td>\n",
       "      <td>MPI_Recv</td>\n",
       "      <td>4.000000</td>\n",
       "    </tr>\n",
       "    <tr>\n",
       "      <th>720422</th>\n",
       "      <td>State</td>\n",
       "      <td>0</td>\n",
       "      <td>MPI_STATE</td>\n",
       "      <td>0.000078</td>\n",
       "      <td>0.000079</td>\n",
       "      <td>0.000001</td>\n",
       "      <td>0.0</td>\n",
       "      <td>MPI_Recv</td>\n",
       "      <td>4.000000</td>\n",
       "    </tr>\n",
       "  </tbody>\n",
       "</table>\n",
       "</div>"
      ],
      "text/plain": [
       "         type  rank   container     start       end  duration  level  \\\n",
       "720418  State     0   MPI_STATE  0.000000  0.000074  0.000074    0.0   \n",
       "720419  State     0   MPI_STATE  0.000074  0.000075  0.000001    0.0   \n",
       "720420  State     0   MPI_STATE  0.000075  0.000077  0.000002    0.0   \n",
       "720421  State     0   MPI_STATE  0.000077  0.000078  0.000001    0.0   \n",
       "720422  State     0   MPI_STATE  0.000078  0.000079  0.000001    0.0   \n",
       "\n",
       "         function  msg_size  \n",
       "720418  computing  0.000074  \n",
       "720419   MPI_Recv  4.000000  \n",
       "720420  computing  0.000002  \n",
       "720421   MPI_Recv  4.000000  \n",
       "720422   MPI_Recv  4.000000  "
      ]
     },
     "execution_count": 38,
     "metadata": {},
     "output_type": "execute_result"
    }
   ],
   "source": [
    "trace_tmp = get_trace(job, ['MPI_Recv', 'MPI_Send', 'MPI_Irecv', 'computing'], range(8))\n",
    "trace_tmp.head()"
   ]
  },
  {
   "cell_type": "code",
   "execution_count": 39,
   "metadata": {},
   "outputs": [
    {
     "data": {
      "text/html": [
       "<div>\n",
       "<style scoped>\n",
       "    .dataframe tbody tr th:only-of-type {\n",
       "        vertical-align: middle;\n",
       "    }\n",
       "\n",
       "    .dataframe tbody tr th {\n",
       "        vertical-align: top;\n",
       "    }\n",
       "\n",
       "    .dataframe thead tr th {\n",
       "        text-align: left;\n",
       "    }\n",
       "\n",
       "    .dataframe thead tr:last-of-type th {\n",
       "        text-align: right;\n",
       "    }\n",
       "</style>\n",
       "<table border=\"1\" class=\"dataframe\">\n",
       "  <thead>\n",
       "    <tr>\n",
       "      <th></th>\n",
       "      <th>msg_size</th>\n",
       "      <th>duration</th>\n",
       "    </tr>\n",
       "    <tr>\n",
       "      <th></th>\n",
       "      <th>sum</th>\n",
       "      <th>sum</th>\n",
       "    </tr>\n",
       "    <tr>\n",
       "      <th>function</th>\n",
       "      <th></th>\n",
       "      <th></th>\n",
       "    </tr>\n",
       "  </thead>\n",
       "  <tbody>\n",
       "    <tr>\n",
       "      <th>MPI_Irecv</th>\n",
       "      <td>1.598776e+10</td>\n",
       "      <td>0.000000</td>\n",
       "    </tr>\n",
       "    <tr>\n",
       "      <th>MPI_Recv</th>\n",
       "      <td>3.037412e+10</td>\n",
       "      <td>3.002850</td>\n",
       "    </tr>\n",
       "    <tr>\n",
       "      <th>MPI_Send</th>\n",
       "      <td>4.636188e+10</td>\n",
       "      <td>12.091734</td>\n",
       "    </tr>\n",
       "    <tr>\n",
       "      <th>computing</th>\n",
       "      <td>7.382863e+01</td>\n",
       "      <td>73.812967</td>\n",
       "    </tr>\n",
       "  </tbody>\n",
       "</table>\n",
       "</div>"
      ],
      "text/plain": [
       "               msg_size   duration\n",
       "                    sum        sum\n",
       "function                          \n",
       "MPI_Irecv  1.598776e+10   0.000000\n",
       "MPI_Recv   3.037412e+10   3.002850\n",
       "MPI_Send   4.636188e+10  12.091734\n",
       "computing  7.382863e+01  73.812967"
      ]
     },
     "execution_count": 39,
     "metadata": {},
     "output_type": "execute_result"
    }
   ],
   "source": [
    "trace_tmp.groupby(['function'])[['msg_size', 'duration']].agg(['sum'])"
   ]
  },
  {
   "cell_type": "markdown",
   "metadata": {},
   "source": [
    "### Same thing, with optimization level 2"
   ]
  },
  {
   "cell_type": "code",
   "execution_count": 40,
   "metadata": {},
   "outputs": [
    {
     "name": "stderr",
     "output_type": "stream",
     "text": [
      "\u001b[37m[2019-01-14 09:27:57][DEBUG] \u001b[37m[allnodes | /tmp/hpl-2.2] git clean -xfd .\u001b[0m\n",
      "\u001b[37m[2019-01-14 09:27:58][DEBUG] \u001b[37m[allnodes | /tmp/hpl-2.2] make SMPI_OPTS=\"-DSMPI_MEASURE -DSMPI_OPTIMIZATION_LEVEL=2\" arch=SMPI\u001b[0m\n"
     ]
    }
   ],
   "source": [
    "build_hpl(job, 2)"
   ]
  },
  {
   "cell_type": "code",
   "execution_count": 41,
   "metadata": {},
   "outputs": [
    {
     "name": "stderr",
     "output_type": "stream",
     "text": [
      "\u001b[37m[2019-01-14 09:28:15][DEBUG] \u001b[37m[director] put: /home/tom/Dropbox/Documents/Fac/phd/mpi_calibration/dahu/smpi_hpl/tmpu5ehh8sm → /tmp/hpl-2.2/bin/SMPI/concatenate.sh\u001b[0m\n",
      "\u001b[37m[2019-01-14 09:28:15][DEBUG] \u001b[37m[allnodes] put: /home/tom/Dropbox/Documents/Fac/phd/mpi_calibration/dahu/smpi_hpl/tmp398vs0yo → /tmp/hpl-2.2/bin/SMPI/platform.xml\u001b[0m\n",
      "\u001b[37m[2019-01-14 09:28:15][DEBUG] \u001b[37m[allnodes] put: /home/tom/Dropbox/Documents/Fac/phd/mpi_calibration/dahu/smpi_hpl/tmpq09hfqkk → /tmp/hpl-2.2/bin/SMPI/hosts.txt\u001b[0m\n",
      "\u001b[33m[2019-01-14 09:28:16][WARNING] \u001b[37mRequested 1 process per node and 32 thread per process, but 1 cores are available\u001b[0m\n",
      "\u001b[37m[2019-01-14 09:28:16][DEBUG] \u001b[37m[allnodes] put: /home/tom/Dropbox/Documents/Fac/phd/mpi_calibration/dahu/smpi_hpl/tmp5x7ai3bg → /tmp/hpl-2.2/bin/SMPI/HPL.dat\u001b[0m\n",
      "\u001b[37m[2019-01-14 09:28:16][DEBUG] \u001b[37m[director | /tmp/hpl-2.2/bin/SMPI] SMPI_DGEMM_COEFFICIENT=2.548998e-12 SMPI_DGEMM_INTERCEPT=9.905042e-05 SMPI_DTRSM_COEFFICIENT=4.524788e-12 SMPI_DTRSM_INTERCEPT=3.975362e-05 TIME=\"/usr/bin/time:output %U %S %F %R %P\" LD_LIBRARY_PATH=/tmp/lib smpirun -wrapper /usr/bin/time --cfg=smpi/privatize-global-variables:dlopen -np 8 --cfg=tracing:yes --cfg=tracing/filename:/tmp/trace_0.paje --cfg=tracing/smpi:1 --cfg=tracing/smpi/display-sizes:yes --cfg=tracing/smpi/computing:yes --cfg=smpi/shared-malloc-hugepage:/root/huge --cfg=smpi/shared-malloc-blocksize:2097152 --cfg=smpi/display-timing:yes -platform platform.xml -hostfile hosts.txt ./xhpl\u001b[0m\n",
      "\u001b[37m[2019-01-14 09:33:24][DEBUG] \u001b[37m[director | /tmp] pj_dump -u /tmp/trace_0.paje | grep -v MPI_Iprobe > trace_mpi_0.csv\u001b[0m\n",
      "\u001b[37m[2019-01-14 09:33:32][DEBUG] \u001b[37m[director | /tmp/hpl-2.2/bin/SMPI] bash concatenate.sh blas*trace > /tmp/trace_blas_0.csv\u001b[0m\n",
      "\u001b[37m[2019-01-14 09:33:33][DEBUG] \u001b[37m[allnodes | /tmp/hpl-2.2/bin/SMPI] rm -f blas*trace\u001b[0m\n",
      "\u001b[37m[2019-01-14 09:33:33][DEBUG] \u001b[37m[director | /tmp] zip -ru grenoble_2019-01-14_1839830.zip trace_mpi_0.csv\u001b[0m\n",
      "\u001b[37m[2019-01-14 09:33:35][DEBUG] \u001b[37m[director | /tmp] zip -ru grenoble_2019-01-14_1839830.zip trace_blas_0.csv\u001b[0m\n",
      "\u001b[37m[2019-01-14 09:33:35][DEBUG] \u001b[37m[director] put: /home/tom/Dropbox/Documents/Fac/phd/mpi_calibration/dahu/smpi_hpl/tmp_kws12cv → /tmp/results.csv\u001b[0m\n",
      "\u001b[37m[2019-01-14 09:33:36][DEBUG] \u001b[37m[director | /tmp] zip -ru grenoble_2019-01-14_1839830.zip results.csv\u001b[0m\n"
     ]
    }
   ],
   "source": [
    "job.run_exp()"
   ]
  },
  {
   "cell_type": "code",
   "execution_count": 42,
   "metadata": {},
   "outputs": [
    {
     "name": "stderr",
     "output_type": "stream",
     "text": [
      "\u001b[37m[2019-01-14 09:33:36][DEBUG] \u001b[37m[allnodes | /tmp] grep -E \"MPI_Recv|MPI_Send|MPI_Irecv|computing\" /tmp/trace_mpi_0.csv | grep -E \"rank-0|rank-1|rank-2|rank-3|rank-4|rank-5|rank-6|rank-7\" > /tmp/mpi.csv\u001b[0m\n",
      "\u001b[37m[2019-01-14 09:33:39][DEBUG] \u001b[37m[allnodes] get: /tmp/mpi.csv → /tmp/mpi.csv\u001b[0m\n"
     ]
    },
    {
     "data": {
      "text/html": [
       "<div>\n",
       "<style scoped>\n",
       "    .dataframe tbody tr th:only-of-type {\n",
       "        vertical-align: middle;\n",
       "    }\n",
       "\n",
       "    .dataframe tbody tr th {\n",
       "        vertical-align: top;\n",
       "    }\n",
       "\n",
       "    .dataframe thead th {\n",
       "        text-align: right;\n",
       "    }\n",
       "</style>\n",
       "<table border=\"1\" class=\"dataframe\">\n",
       "  <thead>\n",
       "    <tr style=\"text-align: right;\">\n",
       "      <th></th>\n",
       "      <th>type</th>\n",
       "      <th>rank</th>\n",
       "      <th>container</th>\n",
       "      <th>start</th>\n",
       "      <th>end</th>\n",
       "      <th>duration</th>\n",
       "      <th>level</th>\n",
       "      <th>function</th>\n",
       "      <th>msg_size</th>\n",
       "    </tr>\n",
       "  </thead>\n",
       "  <tbody>\n",
       "    <tr>\n",
       "      <th>671899</th>\n",
       "      <td>State</td>\n",
       "      <td>0</td>\n",
       "      <td>MPI_STATE</td>\n",
       "      <td>0.000000</td>\n",
       "      <td>0.000065</td>\n",
       "      <td>0.000065</td>\n",
       "      <td>0.0</td>\n",
       "      <td>computing</td>\n",
       "      <td>0.000065</td>\n",
       "    </tr>\n",
       "    <tr>\n",
       "      <th>671900</th>\n",
       "      <td>State</td>\n",
       "      <td>0</td>\n",
       "      <td>MPI_STATE</td>\n",
       "      <td>0.000065</td>\n",
       "      <td>0.000067</td>\n",
       "      <td>0.000002</td>\n",
       "      <td>0.0</td>\n",
       "      <td>MPI_Recv</td>\n",
       "      <td>4.000000</td>\n",
       "    </tr>\n",
       "    <tr>\n",
       "      <th>671901</th>\n",
       "      <td>State</td>\n",
       "      <td>0</td>\n",
       "      <td>MPI_STATE</td>\n",
       "      <td>0.000067</td>\n",
       "      <td>0.000068</td>\n",
       "      <td>0.000001</td>\n",
       "      <td>0.0</td>\n",
       "      <td>computing</td>\n",
       "      <td>0.000001</td>\n",
       "    </tr>\n",
       "    <tr>\n",
       "      <th>671902</th>\n",
       "      <td>State</td>\n",
       "      <td>0</td>\n",
       "      <td>MPI_STATE</td>\n",
       "      <td>0.000068</td>\n",
       "      <td>0.000069</td>\n",
       "      <td>0.000001</td>\n",
       "      <td>0.0</td>\n",
       "      <td>MPI_Recv</td>\n",
       "      <td>4.000000</td>\n",
       "    </tr>\n",
       "    <tr>\n",
       "      <th>671903</th>\n",
       "      <td>State</td>\n",
       "      <td>0</td>\n",
       "      <td>MPI_STATE</td>\n",
       "      <td>0.000069</td>\n",
       "      <td>0.000070</td>\n",
       "      <td>0.000001</td>\n",
       "      <td>0.0</td>\n",
       "      <td>MPI_Recv</td>\n",
       "      <td>4.000000</td>\n",
       "    </tr>\n",
       "  </tbody>\n",
       "</table>\n",
       "</div>"
      ],
      "text/plain": [
       "         type  rank   container     start       end  duration  level  \\\n",
       "671899  State     0   MPI_STATE  0.000000  0.000065  0.000065    0.0   \n",
       "671900  State     0   MPI_STATE  0.000065  0.000067  0.000002    0.0   \n",
       "671901  State     0   MPI_STATE  0.000067  0.000068  0.000001    0.0   \n",
       "671902  State     0   MPI_STATE  0.000068  0.000069  0.000001    0.0   \n",
       "671903  State     0   MPI_STATE  0.000069  0.000070  0.000001    0.0   \n",
       "\n",
       "         function  msg_size  \n",
       "671899  computing  0.000065  \n",
       "671900   MPI_Recv  4.000000  \n",
       "671901  computing  0.000001  \n",
       "671902   MPI_Recv  4.000000  \n",
       "671903   MPI_Recv  4.000000  "
      ]
     },
     "execution_count": 42,
     "metadata": {},
     "output_type": "execute_result"
    }
   ],
   "source": [
    "trace_tmp = get_trace(job, ['MPI_Recv', 'MPI_Send', 'MPI_Irecv', 'computing'], range(8))\n",
    "trace_tmp.head()"
   ]
  },
  {
   "cell_type": "code",
   "execution_count": 43,
   "metadata": {},
   "outputs": [
    {
     "data": {
      "text/html": [
       "<div>\n",
       "<style scoped>\n",
       "    .dataframe tbody tr th:only-of-type {\n",
       "        vertical-align: middle;\n",
       "    }\n",
       "\n",
       "    .dataframe tbody tr th {\n",
       "        vertical-align: top;\n",
       "    }\n",
       "\n",
       "    .dataframe thead tr th {\n",
       "        text-align: left;\n",
       "    }\n",
       "\n",
       "    .dataframe thead tr:last-of-type th {\n",
       "        text-align: right;\n",
       "    }\n",
       "</style>\n",
       "<table border=\"1\" class=\"dataframe\">\n",
       "  <thead>\n",
       "    <tr>\n",
       "      <th></th>\n",
       "      <th>msg_size</th>\n",
       "      <th>duration</th>\n",
       "    </tr>\n",
       "    <tr>\n",
       "      <th></th>\n",
       "      <th>sum</th>\n",
       "      <th>sum</th>\n",
       "    </tr>\n",
       "    <tr>\n",
       "      <th>function</th>\n",
       "      <th></th>\n",
       "      <th></th>\n",
       "    </tr>\n",
       "  </thead>\n",
       "  <tbody>\n",
       "    <tr>\n",
       "      <th>MPI_Irecv</th>\n",
       "      <td>1.511708e+10</td>\n",
       "      <td>0.000000</td>\n",
       "    </tr>\n",
       "    <tr>\n",
       "      <th>MPI_Recv</th>\n",
       "      <td>3.023868e+10</td>\n",
       "      <td>3.467797</td>\n",
       "    </tr>\n",
       "    <tr>\n",
       "      <th>MPI_Send</th>\n",
       "      <td>4.535576e+10</td>\n",
       "      <td>57.839849</td>\n",
       "    </tr>\n",
       "    <tr>\n",
       "      <th>computing</th>\n",
       "      <td>2.165239e+02</td>\n",
       "      <td>216.510782</td>\n",
       "    </tr>\n",
       "  </tbody>\n",
       "</table>\n",
       "</div>"
      ],
      "text/plain": [
       "               msg_size    duration\n",
       "                    sum         sum\n",
       "function                           \n",
       "MPI_Irecv  1.511708e+10    0.000000\n",
       "MPI_Recv   3.023868e+10    3.467797\n",
       "MPI_Send   4.535576e+10   57.839849\n",
       "computing  2.165239e+02  216.510782"
      ]
     },
     "execution_count": 43,
     "metadata": {},
     "output_type": "execute_result"
    }
   ],
   "source": [
    "trace_tmp.groupby(['function'])[['msg_size', 'duration']].agg(['sum'])"
   ]
  },
  {
   "cell_type": "markdown",
   "metadata": {},
   "source": [
    "### Plotting the traces for level 1 and altered level 3"
   ]
  },
  {
   "cell_type": "code",
   "execution_count": 44,
   "metadata": {},
   "outputs": [
    {
     "name": "stderr",
     "output_type": "stream",
     "text": [
      "\u001b[37m[2019-01-14 09:33:44][DEBUG] \u001b[37m[allnodes | /tmp/hpl-2.2] git clean -xfd .\u001b[0m\n",
      "\u001b[37m[2019-01-14 09:33:44][DEBUG] \u001b[37m[allnodes | /tmp/hpl-2.2] make SMPI_OPTS=\"-DSMPI_MEASURE -DSMPI_OPTIMIZATION_LEVEL=3\" arch=SMPI\u001b[0m\n",
      "\u001b[37m[2019-01-14 09:34:01][DEBUG] \u001b[37m[director] put: /home/tom/Dropbox/Documents/Fac/phd/mpi_calibration/dahu/smpi_hpl/tmpgc1a6kts → /tmp/hpl-2.2/bin/SMPI/concatenate.sh\u001b[0m\n",
      "\u001b[37m[2019-01-14 09:34:01][DEBUG] \u001b[37m[allnodes] put: /home/tom/Dropbox/Documents/Fac/phd/mpi_calibration/dahu/smpi_hpl/tmpmfkxr_8c → /tmp/hpl-2.2/bin/SMPI/platform.xml\u001b[0m\n",
      "\u001b[37m[2019-01-14 09:34:01][DEBUG] \u001b[37m[allnodes] put: /home/tom/Dropbox/Documents/Fac/phd/mpi_calibration/dahu/smpi_hpl/tmpki8cqpor → /tmp/hpl-2.2/bin/SMPI/hosts.txt\u001b[0m\n",
      "\u001b[33m[2019-01-14 09:34:02][WARNING] \u001b[37mRequested 1 process per node and 32 thread per process, but 1 cores are available\u001b[0m\n",
      "\u001b[37m[2019-01-14 09:34:02][DEBUG] \u001b[37m[allnodes] put: /home/tom/Dropbox/Documents/Fac/phd/mpi_calibration/dahu/smpi_hpl/tmpncu2sk9r → /tmp/hpl-2.2/bin/SMPI/HPL.dat\u001b[0m\n",
      "\u001b[37m[2019-01-14 09:34:02][DEBUG] \u001b[37m[director | /tmp/hpl-2.2/bin/SMPI] SMPI_DGEMM_COEFFICIENT=2.548998e-12 SMPI_DGEMM_INTERCEPT=9.905042e-05 SMPI_DTRSM_COEFFICIENT=4.524788e-12 SMPI_DTRSM_INTERCEPT=3.975362e-05 TIME=\"/usr/bin/time:output %U %S %F %R %P\" LD_LIBRARY_PATH=/tmp/lib smpirun -wrapper /usr/bin/time --cfg=smpi/privatize-global-variables:dlopen -np 8 --cfg=tracing:yes --cfg=tracing/filename:/tmp/trace_0.paje --cfg=tracing/smpi:1 --cfg=tracing/smpi/display-sizes:yes --cfg=tracing/smpi/computing:yes --cfg=smpi/shared-malloc-hugepage:/root/huge --cfg=smpi/shared-malloc-blocksize:2097152 --cfg=smpi/display-timing:yes -platform platform.xml -hostfile hosts.txt ./xhpl\u001b[0m\n",
      "\u001b[37m[2019-01-14 09:36:19][DEBUG] \u001b[37m[director | /tmp] pj_dump -u /tmp/trace_0.paje | grep -v MPI_Iprobe > trace_mpi_0.csv\u001b[0m\n",
      "\u001b[37m[2019-01-14 09:36:28][DEBUG] \u001b[37m[director | /tmp/hpl-2.2/bin/SMPI] bash concatenate.sh blas*trace > /tmp/trace_blas_0.csv\u001b[0m\n",
      "\u001b[37m[2019-01-14 09:36:28][DEBUG] \u001b[37m[allnodes | /tmp/hpl-2.2/bin/SMPI] rm -f blas*trace\u001b[0m\n",
      "\u001b[37m[2019-01-14 09:36:29][DEBUG] \u001b[37m[director | /tmp] zip -ru grenoble_2019-01-14_1839830.zip trace_mpi_0.csv\u001b[0m\n",
      "\u001b[37m[2019-01-14 09:36:31][DEBUG] \u001b[37m[director | /tmp] zip -ru grenoble_2019-01-14_1839830.zip trace_blas_0.csv\u001b[0m\n",
      "\u001b[37m[2019-01-14 09:36:32][DEBUG] \u001b[37m[director] put: /home/tom/Dropbox/Documents/Fac/phd/mpi_calibration/dahu/smpi_hpl/tmpx1tpi0h2 → /tmp/results.csv\u001b[0m\n",
      "\u001b[37m[2019-01-14 09:36:32][DEBUG] \u001b[37m[director | /tmp] zip -ru grenoble_2019-01-14_1839830.zip results.csv\u001b[0m\n",
      "\u001b[37m[2019-01-14 09:36:32][DEBUG] \u001b[37m[allnodes | /tmp] grep -E \"MPI_Recv|MPI_Send|MPI_Irecv|computing|dgemm|dtrsm|MPI_Bcast\" /tmp/trace_mpi_0.csv | grep -E \"rank-0|rank-1|rank-2|rank-3|rank-4|rank-5|rank-6|rank-7\" > /tmp/mpi.csv\u001b[0m\n",
      "\u001b[37m[2019-01-14 09:36:36][DEBUG] \u001b[37m[allnodes] get: /tmp/mpi.csv → /tmp/mpi.csv\u001b[0m\n"
     ]
    },
    {
     "data": {
      "text/html": [
       "<div>\n",
       "<style scoped>\n",
       "    .dataframe tbody tr th:only-of-type {\n",
       "        vertical-align: middle;\n",
       "    }\n",
       "\n",
       "    .dataframe tbody tr th {\n",
       "        vertical-align: top;\n",
       "    }\n",
       "\n",
       "    .dataframe thead tr th {\n",
       "        text-align: left;\n",
       "    }\n",
       "\n",
       "    .dataframe thead tr:last-of-type th {\n",
       "        text-align: right;\n",
       "    }\n",
       "</style>\n",
       "<table border=\"1\" class=\"dataframe\">\n",
       "  <thead>\n",
       "    <tr>\n",
       "      <th></th>\n",
       "      <th>msg_size</th>\n",
       "      <th>duration</th>\n",
       "    </tr>\n",
       "    <tr>\n",
       "      <th></th>\n",
       "      <th>sum</th>\n",
       "      <th>sum</th>\n",
       "    </tr>\n",
       "    <tr>\n",
       "      <th>function</th>\n",
       "      <th></th>\n",
       "      <th></th>\n",
       "    </tr>\n",
       "  </thead>\n",
       "  <tbody>\n",
       "    <tr>\n",
       "      <th>MPI_Irecv</th>\n",
       "      <td>1.600131e+10</td>\n",
       "      <td>0.000000</td>\n",
       "    </tr>\n",
       "    <tr>\n",
       "      <th>MPI_Recv</th>\n",
       "      <td>3.027972e+10</td>\n",
       "      <td>2.877001</td>\n",
       "    </tr>\n",
       "    <tr>\n",
       "      <th>MPI_Send</th>\n",
       "      <td>4.628103e+10</td>\n",
       "      <td>11.973305</td>\n",
       "    </tr>\n",
       "    <tr>\n",
       "      <th>computing</th>\n",
       "      <td>7.348113e+01</td>\n",
       "      <td>73.466133</td>\n",
       "    </tr>\n",
       "  </tbody>\n",
       "</table>\n",
       "</div>"
      ],
      "text/plain": [
       "               msg_size   duration\n",
       "                    sum        sum\n",
       "function                          \n",
       "MPI_Irecv  1.600131e+10   0.000000\n",
       "MPI_Recv   3.027972e+10   2.877001\n",
       "MPI_Send   4.628103e+10  11.973305\n",
       "computing  7.348113e+01  73.466133"
      ]
     },
     "execution_count": 44,
     "metadata": {},
     "output_type": "execute_result"
    }
   ],
   "source": [
    "build_hpl(job, 3)\n",
    "job.run_exp()\n",
    "trace_level3_altered = get_trace(job, ['MPI_Recv', 'MPI_Send', 'MPI_Irecv', 'computing', 'dgemm', 'dtrsm', 'MPI_Bcast'], range(8))\n",
    "trace_level3_altered.groupby(['function'])[['msg_size', 'duration']].agg(['sum'])"
   ]
  },
  {
   "cell_type": "code",
   "execution_count": 45,
   "metadata": {},
   "outputs": [],
   "source": [
    "trace_level1['optimization'] = 1\n",
    "trace_level3_altered['optimization'] = 3\n",
    "traces = pandas.concat([trace_level1, trace_level3_altered])\n",
    "traces['kind'] = 'MPI'"
   ]
  },
  {
   "cell_type": "code",
   "execution_count": 46,
   "metadata": {},
   "outputs": [
    {
     "name": "stdout",
     "output_type": "stream",
     "text": [
      "optim 1, kind MPI 0.0 51.950501\n",
      "\n",
      "optim 3, kind MPI 0.0 28.931953999999998\n",
      "\n"
     ]
    }
   ],
   "source": [
    "for opt in sorted(traces['optimization'].unique()):\n",
    "    for kind in sorted(traces['kind'].unique()):\n",
    "        df = traces[(traces['optimization'] == opt) & (traces['kind'] == kind)]\n",
    "        print('optim %d, kind %s' % (opt, kind), df.start.min(), df.end.max())\n",
    "    print()"
   ]
  },
  {
   "cell_type": "code",
   "execution_count": 47,
   "metadata": {},
   "outputs": [],
   "source": [
    "from plotnine import *\n",
    "import plotnine\n",
    "plotnine.options.figure_size = (12, 8)\n",
    "\n",
    "def plot(df, wrap=['optimization', 'kind']):\n",
    "    gc = ggplot(df) + geom_rect(aes(xmin='start', xmax='end', ymin='rank', ymax='rank+1',fill='function')) + facet_wrap(wrap) + theme_bw()\n",
    "    return gc\n",
    "\n",
    "def plot_bounded(df, start, end, ranks, wrap=['optimization', 'kind']):\n",
    "    df = df[df['rank'].isin(ranks)]\n",
    "    df = df[(df['end'] >= start) & (df['start'] <= end)].copy()\n",
    "    df.loc[df['start'] < start, 'start'] = start\n",
    "    df.loc[df['end'] > end, 'end'] = end\n",
    "    return plot(df, wrap) + xlim(start, end) + ggtitle('Events between %.1fs and %.1fs for ranks in %s' % (start, end, ranks))"
   ]
  },
  {
   "cell_type": "code",
   "execution_count": 48,
   "metadata": {},
   "outputs": [
    {
     "data": {
      "image/png": "[encoded data removed]",
      "text/plain": [
       "<Figure size 1200x800 with 2 Axes>"
      ]
     },
     "metadata": {},
     "output_type": "display_data"
    },
    {
     "data": {
      "text/plain": [
       "<ggplot: (8732435912021)>"
      ]
     },
     "execution_count": 48,
     "metadata": {},
     "output_type": "execute_result"
    }
   ],
   "source": [
    "plot_bounded(traces, 0, 52, range(8))"
   ]
  },
  {
   "cell_type": "code",
   "execution_count": 49,
   "metadata": {},
   "outputs": [
    {
     "data": {
      "image/png": "[encoded data removed]",
      "text/plain": [
       "<Figure size 1200x800 with 2 Axes>"
      ]
     },
     "metadata": {},
     "output_type": "display_data"
    },
    {
     "data": {
      "text/plain": [
       "<ggplot: (8732302883732)>"
      ]
     },
     "execution_count": 49,
     "metadata": {},
     "output_type": "execute_result"
    }
   ],
   "source": [
    "plot_bounded(traces, 0, 10, range(8))"
   ]
  },
  {
   "cell_type": "code",
   "execution_count": 50,
   "metadata": {},
   "outputs": [
    {
     "data": {
      "image/png": "[encoded data removed]",
      "text/plain": [
       "<Figure size 1200x800 with 2 Axes>"
      ]
     },
     "metadata": {},
     "output_type": "display_data"
    },
    {
     "data": {
      "text/plain": [
       "<ggplot: (8732309411967)>"
      ]
     },
     "execution_count": 50,
     "metadata": {},
     "output_type": "execute_result"
    }
   ],
   "source": [
    "plot_bounded(traces, 6, 8, range(8))"
   ]
  },
  {
   "cell_type": "code",
   "execution_count": 51,
   "metadata": {},
   "outputs": [
    {
     "data": {
      "image/png": "[encoded data removed]",
      "text/plain": [
       "<Figure size 1200x800 with 2 Axes>"
      ]
     },
     "metadata": {},
     "output_type": "display_data"
    },
    {
     "data": {
      "text/plain": [
       "<ggplot: (8732308925234)>"
      ]
     },
     "execution_count": 51,
     "metadata": {},
     "output_type": "execute_result"
    }
   ],
   "source": [
    "plot_bounded(traces, 12, 14, range(8))"
   ]
  },
  {
   "cell_type": "code",
   "execution_count": 52,
   "metadata": {},
   "outputs": [
    {
     "data": {
      "image/png": "[encoded data removed]",
      "text/plain": [
       "<Figure size 1200x800 with 2 Axes>"
      ]
     },
     "metadata": {},
     "output_type": "display_data"
    },
    {
     "data": {
      "text/plain": [
       "<ggplot: (8732292546280)>"
      ]
     },
     "execution_count": 52,
     "metadata": {},
     "output_type": "execute_result"
    }
   ],
   "source": [
    "plot_bounded(traces, 20, 22, range(8))"
   ]
  },
  {
   "cell_type": "markdown",
   "metadata": {},
   "source": [
    "### Trying level 1 with no computations"
   ]
  },
  {
   "cell_type": "code",
   "execution_count": 53,
   "metadata": {},
   "outputs": [
    {
     "name": "stderr",
     "output_type": "stream",
     "text": [
      "\u001b[37m[2019-01-14 09:39:00][DEBUG] \u001b[37m[allnodes | /tmp/hpl-2.2] git clean -xfd .\u001b[0m\n",
      "\u001b[37m[2019-01-14 09:39:00][DEBUG] \u001b[37m[allnodes | /tmp/hpl-2.2] make SMPI_OPTS=\"-DSMPI_MEASURE -DSMPI_OPTIMIZATION_LEVEL=1\" arch=SMPI\u001b[0m\n"
     ]
    }
   ],
   "source": [
    "build_hpl(job, 1)"
   ]
  },
  {
   "cell_type": "code",
   "execution_count": 54,
   "metadata": {},
   "outputs": [
    {
     "name": "stderr",
     "output_type": "stream",
     "text": [
      "\u001b[37m[2019-01-14 09:39:17][DEBUG] \u001b[37m[allnodes] put: /home/tom/Dropbox/Documents/Fac/phd/mpi_calibration/dahu/smpi_hpl/tmpzbfykh0p → /tmp/hpl-2.2/bin/SMPI/platform.xml\u001b[0m\n",
      "\u001b[37m[2019-01-14 09:39:18][DEBUG] \u001b[37m[allnodes] put: /home/tom/Dropbox/Documents/Fac/phd/mpi_calibration/dahu/smpi_hpl/tmpnzgjj5nx → /tmp/hpl-2.2/bin/SMPI/hosts.txt\u001b[0m\n"
     ]
    }
   ],
   "source": [
    "from peanut.smpi_hpl import TopoFile\n",
    "import os\n",
    "platform = [f for f in job.expfile if f.extension == 'xml']\n",
    "assert len(platform) == 1\n",
    "platform = TopoFile(platform[0])\n",
    "expfile = [f for f in job.expfile if f.extension != 'xml']\n",
    "assert len(expfile) == 1\n",
    "expfile = expfile[0]\n",
    "nb_cores = platform.core\n",
    "job.nodes.write_files(platform.expfile.raw_content, os.path.join(job.hpl_dir, 'bin/SMPI/platform.xml'))\n",
    "job.nodes.write_files('\\n'.join(platform.hostnames), os.path.join(job.hpl_dir, 'bin/SMPI/hosts.txt'))"
   ]
  },
  {
   "cell_type": "code",
   "execution_count": 55,
   "metadata": {},
   "outputs": [
    {
     "name": "stderr",
     "output_type": "stream",
     "text": [
      "\u001b[37m[2019-01-14 09:39:18][DEBUG] \u001b[37m[allnodes | /tmp/hpl-2.2/bin/SMPI] SMPI_DGEMM_COEFFICIENT=2.548998e-12 SMPI_DGEMM_INTERCEPT=9.905042e-05 SMPI_DTRSM_COEFFICIENT=4.524788e-12 SMPI_DTRSM_INTERCEPT=3.975362e-05 TIME=\"/usr/bin/time:output %U %S %F %R %P\" LD_LIBRARY_PATH=/tmp/lib smpirun -wrapper /usr/bin/time --cfg=smpi/privatize-global-variables:dlopen -np 8 --cfg=tracing:yes --cfg=tracing/filename:/tmp/trace_0.paje --cfg=tracing/smpi:1 --cfg=tracing/smpi/display-sizes:yes --cfg=tracing/smpi/computing:yes --cfg=smpi/shared-malloc-hugepage:/root/huge --cfg=smpi/shared-malloc-blocksize:2097152 --cfg=smpi/display-timing:yes -platform platform.xml -hostfile hosts.txt --cfg=smpi/simulate-computation:no ./xhpl\u001b[0m\n"
     ]
    }
   ],
   "source": [
    "cmd =  'SMPI_DGEMM_COEFFICIENT=2.548998e-12 SMPI_DGEMM_INTERCEPT=9.905042e-05 SMPI_DTRSM_COEFFICIENT=4.524788e-12 SMPI_DTRSM_INTERCEPT=3.975362e-05 '\n",
    "cmd += 'TIME=\"/usr/bin/time:output %U %S %F %R %P\" LD_LIBRARY_PATH=/tmp/lib smpirun -wrapper /usr/bin/time --cfg=smpi/privatize-global-variables:dlopen '\n",
    "cmd += '-np 8 --cfg=tracing:yes --cfg=tracing/filename:/tmp/trace_0.paje --cfg=tracing/smpi:1 --cfg=tracing/smpi/display-sizes:yes --cfg=tracing/smpi/computing:yes '\n",
    "cmd += '--cfg=smpi/shared-malloc-hugepage:/root/huge --cfg=smpi/shared-malloc-blocksize:2097152 --cfg=smpi/display-timing:yes -platform platform.xml -hostfile hosts.txt '\n",
    "cmd += '--cfg=smpi/simulate-computation:no ./xhpl'\n",
    "\n",
    "resut = job.nodes.run(cmd, directory=job.hpl_dir + '/bin/SMPI')"
   ]
  },
  {
   "cell_type": "code",
   "execution_count": 56,
   "metadata": {},
   "outputs": [
    {
     "name": "stderr",
     "output_type": "stream",
     "text": [
      "\u001b[37m[2019-01-14 09:44:08][DEBUG] \u001b[37m[allnodes | /tmp] pj_dump -u /tmp/trace_0.paje | grep -v MPI_Iprobe > trace_mpi_0.csv\u001b[0m\n"
     ]
    },
    {
     "data": {
      "text/plain": [
       "{<Connection host=dahu-4.grenoble.grid5000.fr user=root gw=proxyjump>: <Result cmd='cd /tmp && pj_dump -u /tmp/trace_0.paje | grep -v MPI_Iprobe > trace_mpi_0.csv' exited=0>}"
      ]
     },
     "execution_count": 56,
     "metadata": {},
     "output_type": "execute_result"
    }
   ],
   "source": [
    "job.nodes.run('pj_dump -u /tmp/trace_0.paje | grep -v MPI_Iprobe > trace_mpi_0.csv', directory='/tmp')"
   ]
  },
  {
   "cell_type": "code",
   "execution_count": 57,
   "metadata": {},
   "outputs": [
    {
     "name": "stderr",
     "output_type": "stream",
     "text": [
      "\u001b[37m[2019-01-14 09:44:11][DEBUG] \u001b[37m[allnodes | /tmp] grep -E \"MPI_Recv|MPI_Send|MPI_Irecv|computing|dgemm|dtrsm|MPI_Bcast\" /tmp/trace_mpi_0.csv | grep -E \"rank-0|rank-1|rank-2|rank-3|rank-4|rank-5|rank-6|rank-7\" > /tmp/mpi.csv\u001b[0m\n",
      "\u001b[37m[2019-01-14 09:44:13][DEBUG] \u001b[37m[allnodes] get: /tmp/mpi.csv → /tmp/mpi.csv\u001b[0m\n"
     ]
    },
    {
     "data": {
      "text/html": [
       "<div>\n",
       "<style scoped>\n",
       "    .dataframe tbody tr th:only-of-type {\n",
       "        vertical-align: middle;\n",
       "    }\n",
       "\n",
       "    .dataframe tbody tr th {\n",
       "        vertical-align: top;\n",
       "    }\n",
       "\n",
       "    .dataframe thead tr th {\n",
       "        text-align: left;\n",
       "    }\n",
       "\n",
       "    .dataframe thead tr:last-of-type th {\n",
       "        text-align: right;\n",
       "    }\n",
       "</style>\n",
       "<table border=\"1\" class=\"dataframe\">\n",
       "  <thead>\n",
       "    <tr>\n",
       "      <th></th>\n",
       "      <th>msg_size</th>\n",
       "      <th>duration</th>\n",
       "    </tr>\n",
       "    <tr>\n",
       "      <th></th>\n",
       "      <th>sum</th>\n",
       "      <th>sum</th>\n",
       "    </tr>\n",
       "    <tr>\n",
       "      <th>function</th>\n",
       "      <th></th>\n",
       "      <th></th>\n",
       "    </tr>\n",
       "  </thead>\n",
       "  <tbody>\n",
       "    <tr>\n",
       "      <th>MPI_Irecv</th>\n",
       "      <td>15117079816</td>\n",
       "      <td>0.000000</td>\n",
       "    </tr>\n",
       "    <tr>\n",
       "      <th>MPI_Recv</th>\n",
       "      <td>30238677876</td>\n",
       "      <td>2.572734</td>\n",
       "    </tr>\n",
       "    <tr>\n",
       "      <th>MPI_Send</th>\n",
       "      <td>45355757692</td>\n",
       "      <td>7.235732</td>\n",
       "    </tr>\n",
       "  </tbody>\n",
       "</table>\n",
       "</div>"
      ],
      "text/plain": [
       "              msg_size  duration\n",
       "                   sum       sum\n",
       "function                        \n",
       "MPI_Irecv  15117079816  0.000000\n",
       "MPI_Recv   30238677876  2.572734\n",
       "MPI_Send   45355757692  7.235732"
      ]
     },
     "execution_count": 57,
     "metadata": {},
     "output_type": "execute_result"
    }
   ],
   "source": [
    "trace_level1_nocompute = get_trace(job, ['MPI_Recv', 'MPI_Send', 'MPI_Irecv', 'computing', 'dgemm', 'dtrsm', 'MPI_Bcast'], range(8))\n",
    "trace_level1_nocompute.groupby(['function'])[['msg_size', 'duration']].agg(['sum'])"
   ]
  },
  {
   "cell_type": "code",
   "execution_count": 58,
   "metadata": {},
   "outputs": [],
   "source": [
    "trace_level1_nocompute['optimization'] = 1\n",
    "traces = pandas.concat([trace_level1_nocompute, trace_level3_altered])\n",
    "traces['kind'] = 'MPI'"
   ]
  },
  {
   "cell_type": "code",
   "execution_count": 59,
   "metadata": {},
   "outputs": [
    {
     "name": "stdout",
     "output_type": "stream",
     "text": [
      "optim 1, kind MPI 0.0 19.042304\n",
      "\n",
      "optim 3, kind MPI 0.0 28.931953999999998\n",
      "\n"
     ]
    }
   ],
   "source": [
    "for opt in sorted(traces['optimization'].unique()):\n",
    "    for kind in sorted(traces['kind'].unique()):\n",
    "        df = traces[(traces['optimization'] == opt) & (traces['kind'] == kind)]\n",
    "        print('optim %d, kind %s' % (opt, kind), df.start.min(), df.end.max())\n",
    "    print()"
   ]
  },
  {
   "cell_type": "code",
   "execution_count": 60,
   "metadata": {},
   "outputs": [
    {
     "data": {
      "image/png": "[encoded data removed]",
      "text/plain": [
       "<Figure size 1200x800 with 2 Axes>"
      ]
     },
     "metadata": {},
     "output_type": "display_data"
    },
    {
     "data": {
      "text/plain": [
       "<ggplot: (-9223363304433800048)>"
      ]
     },
     "execution_count": 60,
     "metadata": {},
     "output_type": "execute_result"
    }
   ],
   "source": [
    "plot_bounded(traces, 0, 10, range(8))"
   ]
  },
  {
   "cell_type": "code",
   "execution_count": 61,
   "metadata": {},
   "outputs": [
    {
     "data": {
      "image/png": "[encoded data removed]",
      "text/plain": [
       "<Figure size 1200x800 with 2 Axes>"
      ]
     },
     "metadata": {},
     "output_type": "display_data"
    },
    {
     "data": {
      "text/plain": [
       "<ggplot: (-9223363304511806513)>"
      ]
     },
     "execution_count": 61,
     "metadata": {},
     "output_type": "execute_result"
    }
   ],
   "source": [
    "plot_bounded(traces, 10, 12, range(8))"
   ]
  },
  {
   "cell_type": "markdown",
   "metadata": {},
   "source": [
    "## Deleting the job"
   ]
  },
  {
   "cell_type": "code",
   "execution_count": 62,
   "metadata": {},
   "outputs": [
    {
     "name": "stderr",
     "output_type": "stream",
     "text": [
      "\u001b[37m[2019-01-14 09:44:29][DEBUG] \u001b[37m[frontend | /home/tocornebize] oardel 1839830\u001b[0m\n"
     ]
    }
   ],
   "source": [
    "job.oardel()"
   ]
  }
 ],
 "metadata": {
  "kernelspec": {
   "display_name": "Python 3",
   "language": "python",
   "name": "python3"
  },
  "language_info": {
   "codemirror_mode": {
    "name": "ipython",
    "version": 3
   },
   "file_extension": ".py",
   "mimetype": "text/x-python",
   "name": "python",
   "nbconvert_exporter": "python",
   "pygments_lexer": "ipython3",
   "version": "3.6.8"
  }
 },
 "nbformat": 4,
 "nbformat_minor": 2
}
