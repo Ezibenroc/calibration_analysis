{
 "cells": [
  {
   "cell_type": "markdown",
   "metadata": {},
   "source": [
    "# Simulation of HPL on Dahu"
   ]
  },
  {
   "cell_type": "code",
   "execution_count": 1,
   "metadata": {},
   "outputs": [
    {
     "name": "stderr",
     "output_type": "stream",
     "text": [
      "/home/tom/.local/share/virtualenvs/mpi_calibration-tfxxshdH/lib/python3.6/site-packages/ipykernel_launcher.py:14: YAMLLoadWarning: calling yaml.load() without Loader=... is deprecated, as the default Loader is unsafe. Please read https://msg.pyyaml.org/load for full details.\n",
      "  \n"
     ]
    },
    {
     "data": {
      "text/html": [
       "<div>\n",
       "<style scoped>\n",
       "    .dataframe tbody tr th:only-of-type {\n",
       "        vertical-align: middle;\n",
       "    }\n",
       "\n",
       "    .dataframe tbody tr th {\n",
       "        vertical-align: top;\n",
       "    }\n",
       "\n",
       "    .dataframe thead th {\n",
       "        text-align: right;\n",
       "    }\n",
       "</style>\n",
       "<table border=\"1\" class=\"dataframe\">\n",
       "  <thead>\n",
       "    <tr style=\"text-align: right;\">\n",
       "      <th></th>\n",
       "      <th>application_time</th>\n",
       "      <th>bcast</th>\n",
       "      <th>block_size</th>\n",
       "      <th>cpu_utilization</th>\n",
       "      <th>depth</th>\n",
       "      <th>dgemm_coefficient</th>\n",
       "      <th>dgemm_intercept</th>\n",
       "      <th>dtrsm_coefficient</th>\n",
       "      <th>dtrsm_intercept</th>\n",
       "      <th>filename</th>\n",
       "      <th>...</th>\n",
       "      <th>simulation_time</th>\n",
       "      <th>start_timestamp</th>\n",
       "      <th>stochastic_cpu</th>\n",
       "      <th>stochastic_network</th>\n",
       "      <th>stop_timestamp</th>\n",
       "      <th>swap</th>\n",
       "      <th>sys_time</th>\n",
       "      <th>thread_per_process</th>\n",
       "      <th>time</th>\n",
       "      <th>usr_time</th>\n",
       "    </tr>\n",
       "  </thead>\n",
       "  <tbody>\n",
       "    <tr>\n",
       "      <th>0</th>\n",
       "      <td>128.244</td>\n",
       "      <td>2</td>\n",
       "      <td>128</td>\n",
       "      <td>0.99</td>\n",
       "      <td>1</td>\n",
       "      <td>42.0</td>\n",
       "      <td>42.0</td>\n",
       "      <td>42.0</td>\n",
       "      <td>42.0</td>\n",
       "      <td>nancy_2019-07-16_2005027.zip</td>\n",
       "      <td>...</td>\n",
       "      <td>814.462</td>\n",
       "      <td>NaN</td>\n",
       "      <td>True</td>\n",
       "      <td>True</td>\n",
       "      <td>NaN</td>\n",
       "      <td>0</td>\n",
       "      <td>58.03</td>\n",
       "      <td>1</td>\n",
       "      <td>6.15</td>\n",
       "      <td>753.49</td>\n",
       "    </tr>\n",
       "    <tr>\n",
       "      <th>1</th>\n",
       "      <td>325.620</td>\n",
       "      <td>2</td>\n",
       "      <td>128</td>\n",
       "      <td>0.99</td>\n",
       "      <td>1</td>\n",
       "      <td>42.0</td>\n",
       "      <td>42.0</td>\n",
       "      <td>42.0</td>\n",
       "      <td>42.0</td>\n",
       "      <td>nancy_2019-07-16_2005027.zip</td>\n",
       "      <td>...</td>\n",
       "      <td>2626.760</td>\n",
       "      <td>NaN</td>\n",
       "      <td>True</td>\n",
       "      <td>True</td>\n",
       "      <td>NaN</td>\n",
       "      <td>0</td>\n",
       "      <td>373.38</td>\n",
       "      <td>1</td>\n",
       "      <td>101.99</td>\n",
       "      <td>2246.67</td>\n",
       "    </tr>\n",
       "    <tr>\n",
       "      <th>2</th>\n",
       "      <td>755.860</td>\n",
       "      <td>2</td>\n",
       "      <td>128</td>\n",
       "      <td>0.99</td>\n",
       "      <td>1</td>\n",
       "      <td>42.0</td>\n",
       "      <td>42.0</td>\n",
       "      <td>42.0</td>\n",
       "      <td>42.0</td>\n",
       "      <td>nancy_2019-07-16_2005027.zip</td>\n",
       "      <td>...</td>\n",
       "      <td>6813.060</td>\n",
       "      <td>NaN</td>\n",
       "      <td>True</td>\n",
       "      <td>True</td>\n",
       "      <td>NaN</td>\n",
       "      <td>0</td>\n",
       "      <td>1527.49</td>\n",
       "      <td>1</td>\n",
       "      <td>705.99</td>\n",
       "      <td>5267.46</td>\n",
       "    </tr>\n",
       "    <tr>\n",
       "      <th>3</th>\n",
       "      <td>1566.970</td>\n",
       "      <td>2</td>\n",
       "      <td>128</td>\n",
       "      <td>0.99</td>\n",
       "      <td>1</td>\n",
       "      <td>42.0</td>\n",
       "      <td>42.0</td>\n",
       "      <td>42.0</td>\n",
       "      <td>42.0</td>\n",
       "      <td>nancy_2019-07-16_2005027.zip</td>\n",
       "      <td>...</td>\n",
       "      <td>15243.800</td>\n",
       "      <td>NaN</td>\n",
       "      <td>True</td>\n",
       "      <td>True</td>\n",
       "      <td>NaN</td>\n",
       "      <td>0</td>\n",
       "      <td>4974.72</td>\n",
       "      <td>1</td>\n",
       "      <td>3111.40</td>\n",
       "      <td>10233.04</td>\n",
       "    </tr>\n",
       "    <tr>\n",
       "      <th>4</th>\n",
       "      <td>188.670</td>\n",
       "      <td>2</td>\n",
       "      <td>128</td>\n",
       "      <td>0.99</td>\n",
       "      <td>1</td>\n",
       "      <td>42.0</td>\n",
       "      <td>42.0</td>\n",
       "      <td>42.0</td>\n",
       "      <td>42.0</td>\n",
       "      <td>nancy_2019-07-16_2005027.zip</td>\n",
       "      <td>...</td>\n",
       "      <td>1220.520</td>\n",
       "      <td>NaN</td>\n",
       "      <td>True</td>\n",
       "      <td>True</td>\n",
       "      <td>NaN</td>\n",
       "      <td>0</td>\n",
       "      <td>100.04</td>\n",
       "      <td>1</td>\n",
       "      <td>16.48</td>\n",
       "      <td>1118.52</td>\n",
       "    </tr>\n",
       "  </tbody>\n",
       "</table>\n",
       "<p>5 rows × 36 columns</p>\n",
       "</div>"
      ],
      "text/plain": [
       "   application_time  bcast  block_size  cpu_utilization  depth  \\\n",
       "0           128.244      2         128             0.99      1   \n",
       "1           325.620      2         128             0.99      1   \n",
       "2           755.860      2         128             0.99      1   \n",
       "3          1566.970      2         128             0.99      1   \n",
       "4           188.670      2         128             0.99      1   \n",
       "\n",
       "   dgemm_coefficient  dgemm_intercept  dtrsm_coefficient  dtrsm_intercept  \\\n",
       "0               42.0             42.0               42.0             42.0   \n",
       "1               42.0             42.0               42.0             42.0   \n",
       "2               42.0             42.0               42.0             42.0   \n",
       "3               42.0             42.0               42.0             42.0   \n",
       "4               42.0             42.0               42.0             42.0   \n",
       "\n",
       "                       filename  ...  simulation_time start_timestamp  \\\n",
       "0  nancy_2019-07-16_2005027.zip  ...          814.462             NaN   \n",
       "1  nancy_2019-07-16_2005027.zip  ...         2626.760             NaN   \n",
       "2  nancy_2019-07-16_2005027.zip  ...         6813.060             NaN   \n",
       "3  nancy_2019-07-16_2005027.zip  ...        15243.800             NaN   \n",
       "4  nancy_2019-07-16_2005027.zip  ...         1220.520             NaN   \n",
       "\n",
       "   stochastic_cpu  stochastic_network  stop_timestamp  swap sys_time  \\\n",
       "0            True                True             NaN     0    58.03   \n",
       "1            True                True             NaN     0   373.38   \n",
       "2            True                True             NaN     0  1527.49   \n",
       "3            True                True             NaN     0  4974.72   \n",
       "4            True                True             NaN     0   100.04   \n",
       "\n",
       "  thread_per_process     time  usr_time  \n",
       "0                  1     6.15    753.49  \n",
       "1                  1   101.99   2246.67  \n",
       "2                  1   705.99   5267.46  \n",
       "3                  1  3111.40  10233.04  \n",
       "4                  1    16.48   1118.52  \n",
       "\n",
       "[5 rows x 36 columns]"
      ]
     },
     "execution_count": 1,
     "metadata": {},
     "output_type": "execute_result"
    }
   ],
   "source": [
    "import io\n",
    "import zipfile\n",
    "import os\n",
    "import pandas\n",
    "from plotnine import *\n",
    "import plotnine\n",
    "plotnine.options.figure_size = (12, 8)\n",
    "import yaml\n",
    "import warnings\n",
    "warnings.simplefilter(action='ignore', category=FutureWarning) # removing annoying Pandas warning\n",
    "\n",
    "def get_yaml(archive_name, yaml_name):\n",
    "    archive = zipfile.ZipFile(archive_name)\n",
    "    return yaml.load(io.BytesIO(archive.read(yaml_name)))\n",
    "\n",
    "def get_platform(archive_name):\n",
    "    info = get_yaml(archive_name, 'info.yaml')\n",
    "    expfiles = info['expfile']\n",
    "    platform = [f for f in expfiles if f.endswith('xml')]\n",
    "    assert len(platform) == 1\n",
    "    return platform[0]\n",
    "\n",
    "def read_result(name):\n",
    "    archive = zipfile.ZipFile(name)\n",
    "    return pandas.read_csv(io.BytesIO(archive.read('results.csv')))\n",
    "\n",
    "def read_sim_result(name):\n",
    "    archive = zipfile.ZipFile(name)\n",
    "    result = pandas.read_csv(io.BytesIO(archive.read('results.csv')))\n",
    "    result['platform'] = get_platform(name)\n",
    "    result['filename'] = name\n",
    "    info = get_yaml(name, 'info.yaml')\n",
    "    installfile = info['installfile']\n",
    "    result['model'] = installfile[8:10]  # filename of the form 'install_A1.yaml', so we get the 'A1'\n",
    "    install_options = get_yaml(name, installfile)\n",
    "    result['stochastic_cpu'] = install_options['stochastic_cpu']\n",
    "    result['polynomial_dgemm'] = install_options['polynomial_dgemm']\n",
    "    result['stochastic_network'] = install_options['stochastic_network']\n",
    "    result['heterogeneous_dgemm'] = install_options['heterogeneous_dgemm']\n",
    "    return result\n",
    "\n",
    "#simulation_dir = 'paper_sc19/performance/12/'\n",
    "#simulation_files = [simulation_dir + f for f in os.listdir(simulation_dir)]\n",
    "simulation_files = ['nancy_2019-07-16_2005027.zip']\n",
    "\n",
    "reality_files = [\n",
    "    '../hpl/grenoble_2019-07-12_1873991.zip',\n",
    "]\n",
    "\n",
    "dfsim = pandas.concat([read_sim_result(f) for f in simulation_files])\n",
    "dfsim['mode'] = 'Simulation'\n",
    "\n",
    "dfreal = pandas.concat([read_result(f) for f in reality_files])\n",
    "dfreal['mode'] = 'Reality'\n",
    "\n",
    "df = pandas.concat([dfsim, dfreal])\n",
    "sizes = set(dfsim.matrix_size) & set(dfreal.matrix_size)\n",
    "df = df[df.matrix_size.isin(sizes)]\n",
    "df.head()"
   ]
  },
  {
   "cell_type": "markdown",
   "metadata": {},
   "source": [
    "### Checking the parameters"
   ]
  },
  {
   "cell_type": "code",
   "execution_count": 2,
   "metadata": {},
   "outputs": [
    {
     "data": {
      "text/html": [
       "<div>\n",
       "<style scoped>\n",
       "    .dataframe tbody tr th:only-of-type {\n",
       "        vertical-align: middle;\n",
       "    }\n",
       "\n",
       "    .dataframe tbody tr th {\n",
       "        vertical-align: top;\n",
       "    }\n",
       "\n",
       "    .dataframe thead th {\n",
       "        text-align: right;\n",
       "    }\n",
       "</style>\n",
       "<table border=\"1\" class=\"dataframe\">\n",
       "  <thead>\n",
       "    <tr style=\"text-align: right;\">\n",
       "      <th></th>\n",
       "      <th>dgemm_coefficient</th>\n",
       "      <th>dgemm_intercept</th>\n",
       "      <th>dtrsm_coefficient</th>\n",
       "      <th>dtrsm_intercept</th>\n",
       "    </tr>\n",
       "  </thead>\n",
       "  <tbody>\n",
       "    <tr>\n",
       "      <th>0</th>\n",
       "      <td>42.0</td>\n",
       "      <td>42.0</td>\n",
       "      <td>42.0</td>\n",
       "      <td>42.0</td>\n",
       "    </tr>\n",
       "  </tbody>\n",
       "</table>\n",
       "</div>"
      ],
      "text/plain": [
       "   dgemm_coefficient  dgemm_intercept  dtrsm_coefficient  dtrsm_intercept\n",
       "0               42.0             42.0               42.0             42.0"
      ]
     },
     "execution_count": 2,
     "metadata": {},
     "output_type": "execute_result"
    }
   ],
   "source": [
    "dfsim[['dgemm_coefficient', 'dgemm_intercept', 'dtrsm_coefficient', 'dtrsm_intercept']].drop_duplicates()"
   ]
  },
  {
   "cell_type": "code",
   "execution_count": 3,
   "metadata": {},
   "outputs": [
    {
     "data": {
      "text/html": [
       "<div>\n",
       "<style scoped>\n",
       "    .dataframe tbody tr th:only-of-type {\n",
       "        vertical-align: middle;\n",
       "    }\n",
       "\n",
       "    .dataframe tbody tr th {\n",
       "        vertical-align: top;\n",
       "    }\n",
       "\n",
       "    .dataframe thead th {\n",
       "        text-align: right;\n",
       "    }\n",
       "</style>\n",
       "<table border=\"1\" class=\"dataframe\">\n",
       "  <thead>\n",
       "    <tr style=\"text-align: right;\">\n",
       "      <th></th>\n",
       "      <th>rfact</th>\n",
       "      <th>block_size</th>\n",
       "      <th>process_per_node</th>\n",
       "      <th>swap</th>\n",
       "      <th>proc_q</th>\n",
       "      <th>thread_per_process</th>\n",
       "      <th>pfact</th>\n",
       "      <th>bcast</th>\n",
       "      <th>mem_align</th>\n",
       "      <th>proc_p</th>\n",
       "      <th>depth</th>\n",
       "    </tr>\n",
       "  </thead>\n",
       "  <tbody>\n",
       "    <tr>\n",
       "      <th>0</th>\n",
       "      <td>2</td>\n",
       "      <td>128</td>\n",
       "      <td>32</td>\n",
       "      <td>0</td>\n",
       "      <td>32</td>\n",
       "      <td>1</td>\n",
       "      <td>1</td>\n",
       "      <td>2</td>\n",
       "      <td>8</td>\n",
       "      <td>32</td>\n",
       "      <td>1</td>\n",
       "    </tr>\n",
       "  </tbody>\n",
       "</table>\n",
       "</div>"
      ],
      "text/plain": [
       "   rfact  block_size  process_per_node  swap  proc_q  thread_per_process  \\\n",
       "0      2         128                32     0      32                   1   \n",
       "\n",
       "   pfact  bcast  mem_align  proc_p  depth  \n",
       "0      1      2          8      32      1  "
      ]
     },
     "execution_count": 3,
     "metadata": {},
     "output_type": "execute_result"
    }
   ],
   "source": [
    "name_exceptions = {'application_time', 'simulation_time', 'usr_time', 'sys_time', 'time', 'gflops', 'residual', 'cpu_utilization',\n",
    "                   'dgemm_coefficient', 'dgemm_intercept', 'dtrsm_coefficient', 'dtrsm_intercept',\n",
    "                   'stochastic_cpu', 'polynomial_dgemm', 'stochastic_network', 'heterogeneous_dgemm', 'platform', 'model', 'filename',\n",
    "                   'simulation', 'slow_nodes',\n",
    "                   'major_page_fault', 'minor_page_fault', 'matrix_size', 'mode',\n",
    "                   'start_timestamp', 'stop_timestamp'}\n",
    "colnames = set(df) - name_exceptions\n",
    "df[list(colnames)].drop_duplicates()"
   ]
  },
  {
   "cell_type": "code",
   "execution_count": 4,
   "metadata": {},
   "outputs": [
    {
     "data": {
      "text/html": [
       "<div>\n",
       "<style scoped>\n",
       "    .dataframe tbody tr th:only-of-type {\n",
       "        vertical-align: middle;\n",
       "    }\n",
       "\n",
       "    .dataframe tbody tr th {\n",
       "        vertical-align: top;\n",
       "    }\n",
       "\n",
       "    .dataframe thead th {\n",
       "        text-align: right;\n",
       "    }\n",
       "</style>\n",
       "<table border=\"1\" class=\"dataframe\">\n",
       "  <thead>\n",
       "    <tr style=\"text-align: right;\">\n",
       "      <th></th>\n",
       "      <th>stochastic_cpu</th>\n",
       "      <th>polynomial_dgemm</th>\n",
       "      <th>stochastic_network</th>\n",
       "      <th>heterogeneous_dgemm</th>\n",
       "    </tr>\n",
       "  </thead>\n",
       "  <tbody>\n",
       "    <tr>\n",
       "      <th>0</th>\n",
       "      <td>True</td>\n",
       "      <td>True</td>\n",
       "      <td>True</td>\n",
       "      <td>True</td>\n",
       "    </tr>\n",
       "  </tbody>\n",
       "</table>\n",
       "</div>"
      ],
      "text/plain": [
       "   stochastic_cpu  polynomial_dgemm  stochastic_network  heterogeneous_dgemm\n",
       "0            True              True                True                 True"
      ]
     },
     "execution_count": 4,
     "metadata": {},
     "output_type": "execute_result"
    }
   ],
   "source": [
    "dfsim[['stochastic_cpu', 'polynomial_dgemm', 'stochastic_network', 'heterogeneous_dgemm']].drop_duplicates()"
   ]
  },
  {
   "cell_type": "code",
   "execution_count": 5,
   "metadata": {},
   "outputs": [
    {
     "name": "stderr",
     "output_type": "stream",
     "text": [
      "/home/tom/.local/share/virtualenvs/mpi_calibration-tfxxshdH/lib/python3.6/site-packages/ipykernel_launcher.py:14: YAMLLoadWarning: calling yaml.load() without Loader=... is deprecated, as the default Loader is unsafe. Please read https://msg.pyyaml.org/load for full details.\n",
      "  \n"
     ]
    },
    {
     "data": {
      "text/markdown": [
       "### dahu.xml"
      ],
      "text/plain": [
       "<IPython.core.display.Markdown object>"
      ]
     },
     "metadata": {},
     "output_type": "display_data"
    },
    {
     "data": {
      "text/markdown": [
       "```xml\n",
       "<?xml version=\"1.0\"?>\n",
       "<!DOCTYPE platform SYSTEM \"http://simgrid.gforge.inria.fr/simgrid/simgrid.dtd\">\n",
       "\n",
       "<platform version=\"4.1\">\n",
       "    <config id=\"General\">\n",
       "        <prop id=\"smpi/os\" value=\"0:2.965491847282898e-07:9.63619592297199e-11;8133:4.117386759387727e-06:9.998650637323814e-11;15831:3.901910334928982e-06:1.1003492469181915e-10;33956:8.556208528368661e-06:1.2636592924112397e-10;64000:0.0:0.0\"/>\n",
       "        <prop id=\"smpi/or\" value=\"0:1.3754300044375236e-06:8.456019002037162e-11;8133:1.0616877366305338e-06:1.0399801951417905e-10;15831:1.1989168715510673e-06:9.880880432093221e-11;33956:1.3028804423006338e-06:1.0742263180618875e-10;64000:0.0:0.0\"/>\n",
       "        <prop id=\"smpi/ois\" value=\"0:6.931229521083401e-07:7.051204536228214e-11;8133:3.601990790153244e-07:1.2449128895712037e-10;15831:2.97701688103096e-06:4.1302612649640425e-11;33956:3.133466154066955e-06:3.293458765281899e-11;64000:6.939993663604069e-07:0.0\"/>\n",
       "        <prop id=\"smpi/bw-factor\" value=\"0:0.4955575510466301;8133:5.649491428460505;15831:5.716405752533658;33956:12.659099698925065;64000:0.9867951082730274\"/>\n",
       "        <prop id=\"smpi/lat-factor\" value=\"0:1.2162964660682605;8133:19.230103984475342;15831:18.285606440676755;33956:51.6103738900493;64000:129.24904864615127\"/>\n",
       "        <prop id=\"smpi/async-small-thresh\" value=\"64000\"/>\n",
       "        <prop id=\"smpi/send-is-detached-thresh\" value=\"64000\"/>\n",
       "        <prop id=\"smpi/iprobe\" value=\"2.115437983643232e-07\"/>\n",
       "        <prop id=\"smpi/test\" value=\"8.090518732515405e-07\"/>\n",
       "        <prop id=\"smpi/host-speed\" value=\"1\"/>\n",
       "    </config>\n",
       "\n",
       "    <AS id=\"AS0\" routing=\"Full\">\n",
       "        <cluster id=\"cluster\" prefix=\"dahu-\" suffix=\".grid5000.fr\" radical=\"0-31\" speed=\"1\" core=\"32\" bw=\"12.5GBps\" lat=\"0.05us\" loopback_bw=\"18.348422228142745GBps\" loopback_lat=\"0.0us\"/>\n",
       "    </AS>\n",
       "</platform>\n",
       "\n",
       "```"
      ],
      "text/plain": [
       "<IPython.core.display.Markdown object>"
      ]
     },
     "metadata": {},
     "output_type": "display_data"
    }
   ],
   "source": [
    "from IPython.display import display, Markdown\n",
    "\n",
    "platforms = [(get_platform(f), zipfile.ZipFile(f).read(get_platform(f)).decode('ascii')) for f in simulation_files]\n",
    "platforms = list(set(platforms))\n",
    "assert(len(platforms)) == 1\n",
    "for name, plat in platforms:\n",
    "    display(Markdown('### %s' % name))\n",
    "    display(Markdown('```xml\\n%s\\n```' % plat))"
   ]
  },
  {
   "cell_type": "markdown",
   "metadata": {},
   "source": [
    "### Checking the patch in the new simulation"
   ]
  },
  {
   "cell_type": "code",
   "execution_count": 6,
   "metadata": {},
   "outputs": [
    {
     "name": "stderr",
     "output_type": "stream",
     "text": [
      "/home/tom/.local/share/virtualenvs/mpi_calibration-tfxxshdH/lib/python3.6/site-packages/ipykernel_launcher.py:14: YAMLLoadWarning: calling yaml.load() without Loader=... is deprecated, as the default Loader is unsafe. Please read https://msg.pyyaml.org/load for full details.\n",
      "  \n"
     ]
    },
    {
     "data": {
      "text/markdown": [
       "```diff\n",
       "\n",
       "diff --git a/Make.SMPI b/Make.SMPI\n",
       "index c34be62..a610089 100644\n",
       "--- a/Make.SMPI\n",
       "+++ b/Make.SMPI\n",
       "@@ -68,7 +68,7 @@ ARCH         = $(arch)\n",
       " # - HPL Directory Structure / HPL library ------------------------------\n",
       " # ----------------------------------------------------------------------\n",
       " #\n",
       "-TOPdir       = /home/tom/Documents/Fac/2017_Stage_LIG/hpl-2.2\n",
       "+TOPdir=/tmp/hpl-2.2\n",
       " INCdir       = $(TOPdir)/include\n",
       " BINdir       = $(TOPdir)/bin/$(ARCH)\n",
       " LIBdir       = $(TOPdir)/lib/$(ARCH)\n",
       "@@ -93,9 +93,9 @@ MPlib        =\n",
       " # header files,  LAlib  is defined  to be the name of  the library to be\n",
       " # used. The variable LAdir is only used for defining LAinc and LAlib.\n",
       " #\n",
       "-LAdir        = /usr/lib\n",
       "+LAdir        = /tmp/lib\n",
       " LAinc        =\n",
       "-LAlib        = -lblas\n",
       "+LAlib        = /tmp/lib/libopenblas.so\n",
       " #\n",
       " # ----------------------------------------------------------------------\n",
       " # - F77 / C interface --------------------------------------------------\n",
       " \n",
       "```"
      ],
      "text/plain": [
       "<IPython.core.display.Markdown object>"
      ]
     },
     "metadata": {},
     "output_type": "display_data"
    }
   ],
   "source": [
    "patches = set()\n",
    "for row in dfsim.iterrows():\n",
    "    filename = row[1].filename\n",
    "    repos = get_yaml(filename, 'info.yaml')['git_repositories']\n",
    "    hpl = [repo for repo in repos if repo['path'] == 'hpl-2.2']\n",
    "    assert len(hpl) == 1\n",
    "    patches.add(hpl[0]['patch'])\n",
    "assert len(patches) == 1\n",
    "display(Markdown('```diff\\n%s\\n```' % patches.pop()))"
   ]
  },
  {
   "cell_type": "markdown",
   "metadata": {},
   "source": [
    "### Comparing the simulation with the real execution"
   ]
  },
  {
   "cell_type": "code",
   "execution_count": 7,
   "metadata": {},
   "outputs": [
    {
     "name": "stderr",
     "output_type": "stream",
     "text": [
      "/home/tom/.local/share/virtualenvs/mpi_calibration-tfxxshdH/lib/python3.6/site-packages/plotnine/scales/scale.py:93: MatplotlibDeprecationWarning: \n",
      "The iterable function was deprecated in Matplotlib 3.1 and will be removed in 3.3. Use np.iterable instead.\n",
      "  if cbook.iterable(self.breaks) and cbook.iterable(self.labels):\n",
      "/home/tom/.local/share/virtualenvs/mpi_calibration-tfxxshdH/lib/python3.6/site-packages/plotnine/utils.py:553: MatplotlibDeprecationWarning: \n",
      "The iterable function was deprecated in Matplotlib 3.1 and will be removed in 3.3. Use np.iterable instead.\n",
      "  return cbook.iterable(var) and not is_string(var)\n",
      "/home/tom/.local/share/virtualenvs/mpi_calibration-tfxxshdH/lib/python3.6/site-packages/plotnine/utils.py:553: MatplotlibDeprecationWarning: \n",
      "The iterable function was deprecated in Matplotlib 3.1 and will be removed in 3.3. Use np.iterable instead.\n",
      "  return cbook.iterable(var) and not is_string(var)\n"
     ]
    },
    {
     "data": {
      "image/png": "[encoded data removed]",
      "text/plain": [
       "<Figure size 1200x800 with 1 Axes>"
      ]
     },
     "metadata": {},
     "output_type": "display_data"
    },
    {
     "data": {
      "text/plain": [
       "<ggplot: (8769767039969)>"
      ]
     },
     "execution_count": 7,
     "metadata": {},
     "output_type": "execute_result"
    }
   ],
   "source": [
    "import numpy\n",
    "\n",
    "plot = ggplot(df, aes(x='matrix_size', y='gflops', color='mode')) + theme_bw() + expand_limits(y=0)\n",
    "plot = plot + geom_point() + stat_summary(fun_y = numpy.mean, geom='line')\n",
    "plot = plot + scale_color_brewer(type='qual', palette='Dark2')\n",
    "plot = plot + xlab('Matrix size') + ylab('HPL performance (Gflops)') + labs(color='Mode')\n",
    "plot"
   ]
  }
 ],
 "metadata": {
  "kernelspec": {
   "display_name": "Python 3",
   "language": "python",
   "name": "python3"
  },
  "language_info": {
   "codemirror_mode": {
    "name": "ipython",
    "version": 3
   },
   "file_extension": ".py",
   "mimetype": "text/x-python",
   "name": "python",
   "nbconvert_exporter": "python",
   "pygments_lexer": "ipython3",
   "version": "3.6.9"
  }
 },
 "nbformat": 4,
 "nbformat_minor": 2
}
