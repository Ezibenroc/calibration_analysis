{
 "cells": [
  {
   "cell_type": "markdown",
   "metadata": {},
   "source": [
    "# Testing performance non-regression on Grid'5000 clusters"
   ]
  },
  {
   "cell_type": "code",
   "execution_count": 1,
   "metadata": {},
   "outputs": [],
   "source": [
    "csv_url = 'https://gitlab.in2p3.fr/tom.cornebize/g5k_data/raw/master/stats.csv'\n",
    "cluster = 'dahu'\n",
    "cluster = 'gros'"
   ]
  },
  {
   "cell_type": "code",
   "execution_count": 2,
   "metadata": {},
   "outputs": [],
   "source": [
    "%load_ext autoreload\n",
    "%autoreload 2\n",
    "import requests\n",
    "import pandas\n",
    "import io"
   ]
  },
  {
   "cell_type": "code",
   "execution_count": 3,
   "metadata": {},
   "outputs": [
    {
     "name": "stderr",
     "output_type": "stream",
     "text": [
      "2020-02-14 16:46:29,419 - non_regression_tests - INFO - Downloaded a dataframe with 43372 rows and 26 columns\n"
     ]
    }
   ],
   "source": [
    "import non_regression_tests as nrt\n",
    "\n",
    "df = nrt.format(nrt.get(csv_url))"
   ]
  },
  {
   "cell_type": "code",
   "execution_count": 4,
   "metadata": {},
   "outputs": [
    {
     "name": "stderr",
     "output_type": "stream",
     "text": [
      "2020-02-14 16:46:29,465 - non_regression_tests - INFO - Filtered the dataframe, there remains 4338 rows\n"
     ]
    }
   ],
   "source": [
    "df = nrt.filter(df, cluster=cluster)"
   ]
  },
  {
   "cell_type": "code",
   "execution_count": 5,
   "metadata": {},
   "outputs": [
    {
     "data": {
      "text/html": [
       "<div>\n",
       "<style scoped>\n",
       "    .dataframe tbody tr th:only-of-type {\n",
       "        vertical-align: middle;\n",
       "    }\n",
       "\n",
       "    .dataframe tbody tr th {\n",
       "        vertical-align: top;\n",
       "    }\n",
       "\n",
       "    .dataframe thead th {\n",
       "        text-align: right;\n",
       "    }\n",
       "</style>\n",
       "<table border=\"1\" class=\"dataframe\">\n",
       "  <thead>\n",
       "    <tr style=\"text-align: right;\">\n",
       "      <th></th>\n",
       "      <th>function</th>\n",
       "      <th>cluster</th>\n",
       "      <th>node</th>\n",
       "      <th>cpu</th>\n",
       "      <th>jobid</th>\n",
       "      <th>start_time</th>\n",
       "      <th>expfile_hash</th>\n",
       "      <th>avg_gflops</th>\n",
       "      <th>intercept</th>\n",
       "      <th>intercept_residual</th>\n",
       "      <th>...</th>\n",
       "      <th>nk_residual</th>\n",
       "      <th>tvalue_mk</th>\n",
       "      <th>tvalue_mk_residual</th>\n",
       "      <th>tvalue_mn</th>\n",
       "      <th>tvalue_mn_residual</th>\n",
       "      <th>tvalue_mnk</th>\n",
       "      <th>tvalue_mnk_residual</th>\n",
       "      <th>tvalue_nk</th>\n",
       "      <th>tvalue_nk_residual</th>\n",
       "      <th>timestamp</th>\n",
       "    </tr>\n",
       "  </thead>\n",
       "  <tbody>\n",
       "    <tr>\n",
       "      <th>19960</th>\n",
       "      <td>dgemm</td>\n",
       "      <td>gros</td>\n",
       "      <td>1</td>\n",
       "      <td>0</td>\n",
       "      <td>2157412</td>\n",
       "      <td>1572017114</td>\n",
       "      <td>f0176a688ed28a145a74fb365d7b12482c28a259452c7e...</td>\n",
       "      <td>28.459871</td>\n",
       "      <td>0.000002</td>\n",
       "      <td>3.270933e-07</td>\n",
       "      <td>...</td>\n",
       "      <td>3.989991e-11</td>\n",
       "      <td>57.943699</td>\n",
       "      <td>3.132876</td>\n",
       "      <td>-1.475999</td>\n",
       "      <td>2.658147</td>\n",
       "      <td>650.408931</td>\n",
       "      <td>18.316394</td>\n",
       "      <td>71.215719</td>\n",
       "      <td>4.399671</td>\n",
       "      <td>2019-10-25 15:25:14</td>\n",
       "    </tr>\n",
       "    <tr>\n",
       "      <th>19963</th>\n",
       "      <td>dgemm</td>\n",
       "      <td>gros</td>\n",
       "      <td>2</td>\n",
       "      <td>0</td>\n",
       "      <td>2157413</td>\n",
       "      <td>1572017187</td>\n",
       "      <td>f0176a688ed28a145a74fb365d7b12482c28a259452c7e...</td>\n",
       "      <td>30.308327</td>\n",
       "      <td>0.000002</td>\n",
       "      <td>3.324588e-07</td>\n",
       "      <td>...</td>\n",
       "      <td>6.411733e-11</td>\n",
       "      <td>61.896749</td>\n",
       "      <td>5.679179</td>\n",
       "      <td>-1.314888</td>\n",
       "      <td>3.952854</td>\n",
       "      <td>678.893211</td>\n",
       "      <td>24.259143</td>\n",
       "      <td>80.693668</td>\n",
       "      <td>10.591191</td>\n",
       "      <td>2019-10-25 15:26:27</td>\n",
       "    </tr>\n",
       "    <tr>\n",
       "      <th>19964</th>\n",
       "      <td>dgemm</td>\n",
       "      <td>gros</td>\n",
       "      <td>3</td>\n",
       "      <td>0</td>\n",
       "      <td>2157414</td>\n",
       "      <td>1572017187</td>\n",
       "      <td>f0176a688ed28a145a74fb365d7b12482c28a259452c7e...</td>\n",
       "      <td>28.778488</td>\n",
       "      <td>0.000002</td>\n",
       "      <td>4.043341e-07</td>\n",
       "      <td>...</td>\n",
       "      <td>6.671765e-11</td>\n",
       "      <td>65.754852</td>\n",
       "      <td>5.027951</td>\n",
       "      <td>-0.725790</td>\n",
       "      <td>3.992155</td>\n",
       "      <td>751.506662</td>\n",
       "      <td>24.524480</td>\n",
       "      <td>89.437345</td>\n",
       "      <td>10.841836</td>\n",
       "      <td>2019-10-25 15:26:27</td>\n",
       "    </tr>\n",
       "    <tr>\n",
       "      <th>19965</th>\n",
       "      <td>dgemm</td>\n",
       "      <td>gros</td>\n",
       "      <td>4</td>\n",
       "      <td>0</td>\n",
       "      <td>2157415</td>\n",
       "      <td>1572017187</td>\n",
       "      <td>f0176a688ed28a145a74fb365d7b12482c28a259452c7e...</td>\n",
       "      <td>28.779880</td>\n",
       "      <td>0.000002</td>\n",
       "      <td>3.172216e-07</td>\n",
       "      <td>...</td>\n",
       "      <td>9.366456e-11</td>\n",
       "      <td>63.268918</td>\n",
       "      <td>3.863467</td>\n",
       "      <td>-0.831593</td>\n",
       "      <td>3.324076</td>\n",
       "      <td>711.795409</td>\n",
       "      <td>22.434516</td>\n",
       "      <td>83.615366</td>\n",
       "      <td>13.195188</td>\n",
       "      <td>2019-10-25 15:26:27</td>\n",
       "    </tr>\n",
       "    <tr>\n",
       "      <th>19966</th>\n",
       "      <td>dgemm</td>\n",
       "      <td>gros</td>\n",
       "      <td>8</td>\n",
       "      <td>0</td>\n",
       "      <td>2157419</td>\n",
       "      <td>1572017187</td>\n",
       "      <td>f0176a688ed28a145a74fb365d7b12482c28a259452c7e...</td>\n",
       "      <td>29.561443</td>\n",
       "      <td>0.000002</td>\n",
       "      <td>4.109368e-07</td>\n",
       "      <td>...</td>\n",
       "      <td>6.797119e-11</td>\n",
       "      <td>54.805616</td>\n",
       "      <td>3.623694</td>\n",
       "      <td>-1.827243</td>\n",
       "      <td>4.392103</td>\n",
       "      <td>607.428188</td>\n",
       "      <td>17.035311</td>\n",
       "      <td>66.096791</td>\n",
       "      <td>6.956441</td>\n",
       "      <td>2019-10-25 15:26:27</td>\n",
       "    </tr>\n",
       "  </tbody>\n",
       "</table>\n",
       "<p>5 rows × 27 columns</p>\n",
       "</div>"
      ],
      "text/plain": [
       "      function cluster  node  cpu    jobid  start_time  \\\n",
       "19960    dgemm    gros     1    0  2157412  1572017114   \n",
       "19963    dgemm    gros     2    0  2157413  1572017187   \n",
       "19964    dgemm    gros     3    0  2157414  1572017187   \n",
       "19965    dgemm    gros     4    0  2157415  1572017187   \n",
       "19966    dgemm    gros     8    0  2157419  1572017187   \n",
       "\n",
       "                                            expfile_hash  avg_gflops  \\\n",
       "19960  f0176a688ed28a145a74fb365d7b12482c28a259452c7e...   28.459871   \n",
       "19963  f0176a688ed28a145a74fb365d7b12482c28a259452c7e...   30.308327   \n",
       "19964  f0176a688ed28a145a74fb365d7b12482c28a259452c7e...   28.778488   \n",
       "19965  f0176a688ed28a145a74fb365d7b12482c28a259452c7e...   28.779880   \n",
       "19966  f0176a688ed28a145a74fb365d7b12482c28a259452c7e...   29.561443   \n",
       "\n",
       "       intercept  intercept_residual  ...   nk_residual  tvalue_mk  \\\n",
       "19960   0.000002        3.270933e-07  ...  3.989991e-11  57.943699   \n",
       "19963   0.000002        3.324588e-07  ...  6.411733e-11  61.896749   \n",
       "19964   0.000002        4.043341e-07  ...  6.671765e-11  65.754852   \n",
       "19965   0.000002        3.172216e-07  ...  9.366456e-11  63.268918   \n",
       "19966   0.000002        4.109368e-07  ...  6.797119e-11  54.805616   \n",
       "\n",
       "       tvalue_mk_residual  tvalue_mn  tvalue_mn_residual  tvalue_mnk  \\\n",
       "19960            3.132876  -1.475999            2.658147  650.408931   \n",
       "19963            5.679179  -1.314888            3.952854  678.893211   \n",
       "19964            5.027951  -0.725790            3.992155  751.506662   \n",
       "19965            3.863467  -0.831593            3.324076  711.795409   \n",
       "19966            3.623694  -1.827243            4.392103  607.428188   \n",
       "\n",
       "       tvalue_mnk_residual  tvalue_nk  tvalue_nk_residual           timestamp  \n",
       "19960            18.316394  71.215719            4.399671 2019-10-25 15:25:14  \n",
       "19963            24.259143  80.693668           10.591191 2019-10-25 15:26:27  \n",
       "19964            24.524480  89.437345           10.841836 2019-10-25 15:26:27  \n",
       "19965            22.434516  83.615366           13.195188 2019-10-25 15:26:27  \n",
       "19966            17.035311  66.096791            6.956441 2019-10-25 15:26:27  \n",
       "\n",
       "[5 rows x 27 columns]"
      ]
     },
     "execution_count": 5,
     "metadata": {},
     "output_type": "execute_result"
    }
   ],
   "source": [
    "df.head()"
   ]
  },
  {
   "cell_type": "code",
   "execution_count": 6,
   "metadata": {},
   "outputs": [
    {
     "name": "stderr",
     "output_type": "stream",
     "text": [
      "2020-02-14 16:46:29,934 - non_regression_tests - INFO - Filtered the dataframe, there remains 124 rows\n"
     ]
    },
    {
     "data": {
      "image/png": "[encoded data removed]",
      "text/plain": [
       "<Figure size 1200x800 with 1 Axes>"
      ]
     },
     "metadata": {},
     "output_type": "display_data"
    },
    {
     "data": {
      "text/plain": [
       "<ggplot: (-9223363281341098559)>"
      ]
     },
     "execution_count": 6,
     "metadata": {},
     "output_type": "execute_result"
    }
   ],
   "source": [
    "nrt.plot_latest_distribution(df)"
   ]
  }
 ],
 "metadata": {
  "kernelspec": {
   "display_name": "Python 3",
   "language": "python",
   "name": "python3"
  },
  "language_info": {
   "codemirror_mode": {
    "name": "ipython",
    "version": 3
   },
   "file_extension": ".py",
   "mimetype": "text/x-python",
   "name": "python",
   "nbconvert_exporter": "python",
   "pygments_lexer": "ipython3",
   "version": "3.7.3"
  }
 },
 "nbformat": 4,
 "nbformat_minor": 4
}
